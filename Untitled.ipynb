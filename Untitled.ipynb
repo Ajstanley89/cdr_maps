{
 "cells": [
  {
   "cell_type": "code",
   "execution_count": 1,
   "metadata": {},
   "outputs": [],
   "source": [
    "import geopandas as gpd\n",
    "import utm\n",
    "import plotly_express as px\n",
    "import plotly.graph_objects as go"
   ]
  },
  {
   "cell_type": "code",
   "execution_count": 22,
   "metadata": {
    "scrolled": true
   },
   "outputs": [
    {
     "data": {
      "text/plain": [
       "<Projected CRS: EPSG:32616>\n",
       "Name: WGS 84 / UTM zone 16N\n",
       "Axis Info [cartesian]:\n",
       "- E[east]: Easting (metre)\n",
       "- N[north]: Northing (metre)\n",
       "Area of Use:\n",
       "- name: Between 90°W and 84°W, northern hemisphere between equator and 84°N, onshore and offshore. Belize. Canada - Manitoba; Nunavut; Ontario. Costa Rica. Cuba. Ecuador - Galapagos. El Salvador. Guatemala. Honduras. Mexico. Nicaragua. United States (USA).\n",
       "- bounds: (-90.0, 0.0, -84.0, 84.0)\n",
       "Coordinate Operation:\n",
       "- name: UTM zone 16N\n",
       "- method: Transverse Mercator\n",
       "Datum: World Geodetic System 1984 ensemble\n",
       "- Ellipsoid: WGS 84\n",
       "- Prime Meridian: Greenwich"
      ]
     },
     "execution_count": 22,
     "metadata": {},
     "output_type": "execute_result"
    }
   ],
   "source": [
    "geo_df = gpd.read_file('data\\Geostorage\\Pipelines_RoadsToRemoval_2023Jan31.json', epsg=32633)\n",
    "geo_df.set_crs('EPSG:32616', inplace=True, allow_override=True)\n",
    "geo_df.crs"
   ]
  },
  {
   "cell_type": "code",
   "execution_count": 7,
   "metadata": {},
   "outputs": [
    {
     "data": {
      "text/html": [
       "<div>\n",
       "<style scoped>\n",
       "    .dataframe tbody tr th:only-of-type {\n",
       "        vertical-align: middle;\n",
       "    }\n",
       "\n",
       "    .dataframe tbody tr th {\n",
       "        vertical-align: top;\n",
       "    }\n",
       "\n",
       "    .dataframe thead th {\n",
       "        text-align: right;\n",
       "    }\n",
       "</style>\n",
       "<table border=\"1\" class=\"dataframe\">\n",
       "  <thead>\n",
       "    <tr style=\"text-align: right;\">\n",
       "      <th></th>\n",
       "      <th>OBJECTID</th>\n",
       "      <th>Capacity</th>\n",
       "      <th>Year</th>\n",
       "      <th>Existing</th>\n",
       "      <th>SHAPE_Leng</th>\n",
       "      <th>Source</th>\n",
       "      <th>geometry</th>\n",
       "    </tr>\n",
       "  </thead>\n",
       "  <tbody>\n",
       "    <tr>\n",
       "      <th>0</th>\n",
       "      <td>1</td>\n",
       "      <td>&lt;100</td>\n",
       "      <td>2030</td>\n",
       "      <td>No</td>\n",
       "      <td>1.227131e+06</td>\n",
       "      <td>NetZero America</td>\n",
       "      <td>LINESTRING (-9.81495 18.21305, -9.79598 18.087...</td>\n",
       "    </tr>\n",
       "    <tr>\n",
       "      <th>1</th>\n",
       "      <td>2</td>\n",
       "      <td>&lt;100</td>\n",
       "      <td>2020</td>\n",
       "      <td>Yes</td>\n",
       "      <td>3.427897e+05</td>\n",
       "      <td>NetZero America</td>\n",
       "      <td>LINESTRING (4.26223 26.52186, 4.36863 26.37668...</td>\n",
       "    </tr>\n",
       "    <tr>\n",
       "      <th>2</th>\n",
       "      <td>3</td>\n",
       "      <td>&lt;100</td>\n",
       "      <td>2020</td>\n",
       "      <td>Yes</td>\n",
       "      <td>1.011551e+06</td>\n",
       "      <td>NetZero America</td>\n",
       "      <td>LINESTRING (4.64582 22.59202, 4.11438 22.53502...</td>\n",
       "    </tr>\n",
       "    <tr>\n",
       "      <th>3</th>\n",
       "      <td>4</td>\n",
       "      <td>&lt;100</td>\n",
       "      <td>2020</td>\n",
       "      <td>Yes</td>\n",
       "      <td>2.226939e+05</td>\n",
       "      <td>NetZero America</td>\n",
       "      <td>LINESTRING (8.96178 13.36273, 8.92244 13.24593...</td>\n",
       "    </tr>\n",
       "    <tr>\n",
       "      <th>4</th>\n",
       "      <td>5</td>\n",
       "      <td>&lt;100</td>\n",
       "      <td>2020</td>\n",
       "      <td>Yes</td>\n",
       "      <td>1.451532e+05</td>\n",
       "      <td>NetZero America</td>\n",
       "      <td>LINESTRING (6.50092 14.10204, 6.53404 13.87219...</td>\n",
       "    </tr>\n",
       "    <tr>\n",
       "      <th>...</th>\n",
       "      <td>...</td>\n",
       "      <td>...</td>\n",
       "      <td>...</td>\n",
       "      <td>...</td>\n",
       "      <td>...</td>\n",
       "      <td>...</td>\n",
       "      <td>...</td>\n",
       "    </tr>\n",
       "    <tr>\n",
       "      <th>57</th>\n",
       "      <td>58</td>\n",
       "      <td>&lt;100</td>\n",
       "      <td>2020</td>\n",
       "      <td>Yes</td>\n",
       "      <td>1.712053e+04</td>\n",
       "      <td>NetZero America</td>\n",
       "      <td>LINESTRING (17.16256 8.35085, 17.30845 8.29761)</td>\n",
       "    </tr>\n",
       "    <tr>\n",
       "      <th>58</th>\n",
       "      <td>59</td>\n",
       "      <td>&lt;100</td>\n",
       "      <td>2020</td>\n",
       "      <td>Yes</td>\n",
       "      <td>2.114883e+05</td>\n",
       "      <td>NetZero America</td>\n",
       "      <td>LINESTRING (12.78304 7.33054, 12.42509 7.15472...</td>\n",
       "    </tr>\n",
       "    <tr>\n",
       "      <th>59</th>\n",
       "      <td>60</td>\n",
       "      <td>&lt;100</td>\n",
       "      <td>2020</td>\n",
       "      <td>Yes</td>\n",
       "      <td>1.371395e+05</td>\n",
       "      <td>NetZero America</td>\n",
       "      <td>LINESTRING (12.09401 6.96646, 11.85648 6.76706...</td>\n",
       "    </tr>\n",
       "    <tr>\n",
       "      <th>60</th>\n",
       "      <td>61</td>\n",
       "      <td>&lt;100</td>\n",
       "      <td>2020</td>\n",
       "      <td>Yes</td>\n",
       "      <td>1.074011e+05</td>\n",
       "      <td>NetZero America</td>\n",
       "      <td>LINESTRING (15.26726 8.74975, 15.08936 8.71138...</td>\n",
       "    </tr>\n",
       "    <tr>\n",
       "      <th>61</th>\n",
       "      <td>62</td>\n",
       "      <td>&lt;100</td>\n",
       "      <td>2020</td>\n",
       "      <td>Yes</td>\n",
       "      <td>1.132772e+04</td>\n",
       "      <td>NetZero America</td>\n",
       "      <td>LINESTRING (14.96164 7.64681, 14.85928 7.63844)</td>\n",
       "    </tr>\n",
       "  </tbody>\n",
       "</table>\n",
       "<p>62 rows × 7 columns</p>\n",
       "</div>"
      ],
      "text/plain": [
       "    OBJECTID Capacity  Year Existing    SHAPE_Leng           Source  \\\n",
       "0          1     <100  2030       No  1.227131e+06  NetZero America   \n",
       "1          2     <100  2020      Yes  3.427897e+05  NetZero America   \n",
       "2          3     <100  2020      Yes  1.011551e+06  NetZero America   \n",
       "3          4     <100  2020      Yes  2.226939e+05  NetZero America   \n",
       "4          5     <100  2020      Yes  1.451532e+05  NetZero America   \n",
       "..       ...      ...   ...      ...           ...              ...   \n",
       "57        58     <100  2020      Yes  1.712053e+04  NetZero America   \n",
       "58        59     <100  2020      Yes  2.114883e+05  NetZero America   \n",
       "59        60     <100  2020      Yes  1.371395e+05  NetZero America   \n",
       "60        61     <100  2020      Yes  1.074011e+05  NetZero America   \n",
       "61        62     <100  2020      Yes  1.132772e+04  NetZero America   \n",
       "\n",
       "                                             geometry  \n",
       "0   LINESTRING (-9.81495 18.21305, -9.79598 18.087...  \n",
       "1   LINESTRING (4.26223 26.52186, 4.36863 26.37668...  \n",
       "2   LINESTRING (4.64582 22.59202, 4.11438 22.53502...  \n",
       "3   LINESTRING (8.96178 13.36273, 8.92244 13.24593...  \n",
       "4   LINESTRING (6.50092 14.10204, 6.53404 13.87219...  \n",
       "..                                                ...  \n",
       "57    LINESTRING (17.16256 8.35085, 17.30845 8.29761)  \n",
       "58  LINESTRING (12.78304 7.33054, 12.42509 7.15472...  \n",
       "59  LINESTRING (12.09401 6.96646, 11.85648 6.76706...  \n",
       "60  LINESTRING (15.26726 8.74975, 15.08936 8.71138...  \n",
       "61    LINESTRING (14.96164 7.64681, 14.85928 7.63844)  \n",
       "\n",
       "[62 rows x 7 columns]"
      ]
     },
     "execution_count": 7,
     "metadata": {},
     "output_type": "execute_result"
    }
   ],
   "source": [
    "geo_df.to_crs(4326)"
   ]
  },
  {
   "cell_type": "code",
   "execution_count": 10,
   "metadata": {},
   "outputs": [
    {
     "name": "stderr",
     "output_type": "stream",
     "text": [
      "<ipython-input-10-0d9c8f1b5f5e>:1: UserWarning: Geometry is in a geographic CRS. Results from 'centroid' are likely incorrect. Use 'GeoSeries.to_crs()' to re-project geometries to a projected CRS before this operation.\n",
      "\n",
      "  geo_df.to_crs(4326).centroid.x\n"
     ]
    },
    {
     "data": {
      "text/plain": [
       "0     -7.823397\n",
       "1      4.924599\n",
       "2      1.822023\n",
       "3      8.966016\n",
       "4      6.556047\n",
       "        ...    \n",
       "57    17.235507\n",
       "58    11.924252\n",
       "59    11.606154\n",
       "60    14.791951\n",
       "61    14.910463\n",
       "Length: 62, dtype: float64"
      ]
     },
     "execution_count": 10,
     "metadata": {},
     "output_type": "execute_result"
    }
   ],
   "source": [
    "geo_df.to_crs(4326).centroid.x"
   ]
  },
  {
   "cell_type": "code",
   "execution_count": 18,
   "metadata": {},
   "outputs": [
    {
     "data": {
      "image/png": "[encoded data removed]",
      "text/plain": [
       "<Figure size 432x288 with 1 Axes>"
      ]
     },
     "metadata": {
      "needs_background": "light"
     },
     "output_type": "display_data"
    }
   ],
   "source": [
    "geo_df.to_crs(4326).plot() #.to_crs('EPSG:4326')\n",
    "df = geo_df.to_crs(4326)"
   ]
  },
  {
   "cell_type": "code",
   "execution_count": 19,
   "metadata": {},
   "outputs": [],
   "source": [
    "def print_linestring_info(linestring):\n",
    "    x, y = linestring.xy\n",
    "    print('X info:', x)\n",
    "    print('Y info:', y)\n",
    "df['lat'] = df.geometry.apply(lambda x: x.xy[0])\n",
    "df['lon'] = df.geometry.apply(lambda x: x.xy[1])"
   ]
  },
  {
   "cell_type": "code",
   "execution_count": 20,
   "metadata": {},
   "outputs": [
    {
     "data": {
      "application/vnd.plotly.v1+json": {
       "config": {
        "plotlyServerURL": "https://plot.ly"
       },
       "data": [
        {
         "geo": "geo",
         "geojson": {
          "bbox": [
           -9.81494915677432,
           5.05310347154227,
           26.829650206927614,
           26.521855400275413
          ],
          "features": [
           {
            "bbox": [
             -9.81494915677432,
             10.625170222087746,
             -5.0028257135395275,
             18.213046440668315
            ],
            "geometry": {
             "coordinates": [
              [
               -9.81494915677432,
               18.213046440668315
              ],
              [
               -9.795984071034358,
               18.087257902397784
              ],
              [
               -9.770370517522617,
               17.91569476652558
              ],
              [
               -9.548568598787226,
               17.817200303952887
              ],
              [
               -9.503829658947524,
               17.50773679284574
              ],
              [
               -9.439346967702484,
               17.22418282300657
              ],
              [
               -9.40111225802564,
               16.948857313724137
              ],
              [
               -9.355855745325456,
               16.616053020418434
              ],
              [
               -9.124252026083404,
               16.04904410877524
              ],
              [
               -9.001368521755754,
               15.841744659228942
              ],
              [
               -8.9603177778095,
               15.70637612866501
              ],
              [
               -8.775357429397602,
               15.377087546220903
              ],
              [
               -8.552218599187073,
               15.121392276187507
              ],
              [
               -8.427639600115098,
               14.877539520984286
              ],
              [
               -8.308912624201778,
               14.679520405069844
              ],
              [
               -8.228846249480144,
               14.500561821482254
              ],
              [
               -8.170372427241062,
               14.295767041256136
              ],
              [
               -8.154452785547711,
               13.922565130794613
              ],
              [
               -8.130235290980082,
               13.69078618365916
              ],
              [
               -8.029411682493613,
               13.525013861427299
              ],
              [
               -8.058055602125878,
               13.334860495737113
              ],
              [
               -8.08844317848133,
               13.039333727117347
              ],
              [
               -7.959970812126055,
               12.946030318935252
              ],
              [
               -7.874181175159673,
               12.672854642484722
              ],
              [
               -7.683717914944191,
               12.42042178971307
              ],
              [
               -7.601085340340569,
               12.298695599045876
              ],
              [
               -7.509876391608225,
               12.212762421411211
              ],
              [
               -7.27084590947202,
               12.209785951135693
              ],
              [
               -7.124386415216574,
               12.1751840389017
              ],
              [
               -6.9540716406684515,
               12.142409065056416
              ],
              [
               -6.894647600808603,
               12.147364968051004
              ],
              [
               -6.703310210583393,
               12.009919976881712
              ],
              [
               -6.590316633983562,
               11.94831506498644
              ],
              [
               -6.423559986147381,
               11.961730103110305
              ],
              [
               -6.260851949350728,
               11.880130315953675
              ],
              [
               -6.154032922209693,
               11.746578536802815
              ],
              [
               -6.050157509530457,
               11.64809956373414
              ],
              [
               -5.994267071090621,
               11.58932880491328
              ],
              [
               -6.016536999892994,
               11.5014879255088
              ],
              [
               -6.123395760216581,
               11.37861350657303
              ],
              [
               -6.205686492912038,
               11.315054761924353
              ],
              [
               -6.184942193531838,
               11.19616810717134
              ],
              [
               -6.0528408420425945,
               11.06247368313185
              ],
              [
               -5.964712264789466,
               10.971280419660326
              ],
              [
               -5.931605771149707,
               10.916237305561234
              ],
              [
               -5.900983048274086,
               10.815045473368613
              ],
              [
               -5.798988070931479,
               10.77053894324888
              ],
              [
               -5.605182540289556,
               10.743818113708206
              ],
              [
               -5.426965525783253,
               10.692774606553462
              ],
              [
               -5.37080807053647,
               10.638998851926434
              ],
              [
               -5.148404856073719,
               10.625170222087746
              ],
              [
               -5.0028257135395275,
               10.629113446884274
              ]
             ],
             "type": "LineString"
            },
            "id": "0",
            "properties": {},
            "type": "Feature"
           },
           {
            "bbox": [
             4.262228361072035,
             24.298149525903053,
             5.717092490786353,
             26.521855400275413
            ],
            "geometry": {
             "coordinates": [
              [
               4.262228361072035,
               26.521855400275413
              ],
              [
               4.3686287586727675,
               26.376682236758896
              ],
              [
               4.402728053496698,
               26.286365279783986
              ],
              [
               4.441441856011634,
               26.201017039273232
              ],
              [
               4.562266104640297,
               26.117038983104806
              ],
              [
               4.70558083372755,
               25.950911545928193
              ],
              [
               4.756515956620007,
               25.83840636568666
              ],
              [
               4.797835224837899,
               25.776294635146428
              ],
              [
               4.929713366401779,
               25.734456297871386
              ],
              [
               4.971258436399019,
               25.240056161713774
              ],
              [
               4.953000392277002,
               24.904225372554794
              ],
              [
               4.989194981692141,
               24.646460553251345
              ],
              [
               4.987017530913306,
               24.483684595067448
              ],
              [
               4.997598465560067,
               24.414695303616437
              ],
              [
               5.094658302301744,
               24.342139291186154
              ],
              [
               5.595707988052201,
               24.360394162879466
              ],
              [
               5.717092490786353,
               24.298149525903053
              ]
             ],
             "type": "LineString"
            },
            "id": "1",
            "properties": {},
            "type": "Feature"
           },
           {
            "bbox": [
             -0.3061901835717006,
             17.258390612410306,
             4.6458194437996125,
             22.592017951197302
            ],
            "geometry": {
             "coordinates": [
              [
               4.6458194437996125,
               22.592017951197302
              ],
              [
               4.1143814790158055,
               22.53501758414117
              ],
              [
               4.123952935974435,
               21.97035625546291
              ],
              [
               3.9877296557144257,
               21.94685808255732
              ],
              [
               3.8921317453261848,
               21.943917775048675
              ],
              [
               3.676559941135227,
               22.004063886190966
              ],
              [
               3.476438103612458,
               22.014939768437333
              ],
              [
               3.386218281991184,
               22.04062438050736
              ],
              [
               3.3027134475203304,
               22.077442524269284
              ],
              [
               3.22496801461165,
               21.953985353630877
              ],
              [
               3.169528866000391,
               21.839306708270723
              ],
              [
               3.06367987858591,
               21.688859430984678
              ],
              [
               2.994059886969721,
               21.60885449092434
              ],
              [
               2.9568245483014217,
               21.55262546618369
              ],
              [
               2.8706835829376263,
               21.489236942797522
              ],
              [
               2.8498473789573464,
               21.419960205621017
              ],
              [
               2.833094174764438,
               21.34742607377201
              ],
              [
               2.4939229813929846,
               21.044354577587534
              ],
              [
               2.488913039397725,
               20.96919983683437
              ],
              [
               2.484475549233329,
               20.947958285992637
              ],
              [
               2.4649945597279097,
               20.911128560532656
              ],
              [
               2.4448793204446315,
               20.830838040834102
              ],
              [
               2.4144350931743777,
               20.723034269373677
              ],
              [
               2.3738789355306875,
               20.660568007728326
              ],
              [
               2.3109724469555655,
               20.620215262040396
              ],
              [
               2.275703093211956,
               20.589350249335016
              ],
              [
               2.258783144932773,
               20.509349340273815
              ],
              [
               2.2103678447436637,
               20.447801397415223
              ],
              [
               2.166184343069512,
               20.392515211988673
              ],
              [
               2.137597442683284,
               20.320582971952376
              ],
              [
               2.081056050669104,
               20.2257842139904
              ],
              [
               1.9737251066850843,
               20.137577603387392
              ],
              [
               1.8889093701317499,
               20.089906954757954
              ],
              [
               1.7973869281025145,
               20.087140573155843
              ],
              [
               1.7955970055495911,
               20.05289232339632
              ],
              [
               1.7912626770958913,
               19.95616381934026
              ],
              [
               1.7779896583684967,
               19.872113597148203
              ],
              [
               1.7292174622995555,
               19.800219040508516
              ],
              [
               1.662183333131044,
               19.759560943989054
              ],
              [
               1.6084784008253736,
               19.706145495692706
              ],
              [
               1.5761980976556667,
               19.68808677398423
              ],
              [
               1.51370442032002,
               19.63009356135117
              ],
              [
               1.4118679237542044,
               19.551352148337028
              ],
              [
               1.2811298022313027,
               19.50582460440464
              ],
              [
               1.1662816654712862,
               19.45083940318564
              ],
              [
               1.0969645933866858,
               19.388748007074714
              ],
              [
               0.9282882847046233,
               19.31177990715621
              ],
              [
               0.7617059330782415,
               19.256126587281216
              ],
              [
               0.6166227418541871,
               19.170265647569504
              ],
              [
               0.45360812145179785,
               19.07938750879446
              ],
              [
               0.07414797353494591,
               19.044850259239553
              ],
              [
               -0.03821130252334439,
               18.975544471274265
              ],
              [
               -0.17120744442827934,
               18.890393295887858
              ],
              [
               -0.3061901835717006,
               18.86848752306256
              ],
              [
               -0.30499176048950044,
               18.815728653325387
              ],
              [
               -0.253698898386019,
               18.781264206367123
              ],
              [
               -0.16170406737590745,
               18.74662899832007
              ],
              [
               -0.05103226227166229,
               18.709929611720845
              ],
              [
               -0.00010587881975591379,
               18.678833716903327
              ],
              [
               0.0367344785339645,
               18.473701676706543
              ],
              [
               0.06381190238205259,
               18.29244548816153
              ],
              [
               0.0308474500773999,
               18.205156782355587
              ],
              [
               0.04764425007160192,
               18.139483211242098
              ],
              [
               0.08638570368638188,
               18.075538849712476
              ],
              [
               0.077436204129211,
               17.965490296907433
              ],
              [
               0.024603408359726242,
               17.894326877527647
              ],
              [
               -0.006560084955930519,
               17.82840930080022
              ],
              [
               -0.1144876818874544,
               17.714171217745587
              ],
              [
               -0.10730146500019072,
               17.630163920941637
              ],
              [
               -0.08644885165499437,
               17.557794317316393
              ],
              [
               -0.01396419838606385,
               17.482366684908126
              ],
              [
               0.10427759316531582,
               17.385691147279523
              ],
              [
               0.23957207779015025,
               17.258390612410306
              ]
             ],
             "type": "LineString"
            },
            "id": "2",
            "properties": {},
            "type": "Feature"
           },
           {
            "bbox": [
             8.92244448777601,
             11.403488036041683,
             9.07047068188145,
             13.362725505672078
            ],
            "geometry": {
             "coordinates": [
              [
               8.961781147790548,
               13.362725505672078
              ],
              [
               8.92244448777601,
               13.24592646913259
              ],
              [
               8.949880994837686,
               11.90179097755761
              ],
              [
               9.066770619978499,
               11.742877647413717
              ],
              [
               9.07047068188145,
               11.569132522007772
              ],
              [
               9.065553734904599,
               11.403488036041683
              ]
             ],
             "type": "LineString"
            },
            "id": "3",
            "properties": {},
            "type": "Feature"
           },
           {
            "bbox": [
             6.272718800037869,
             13.074154385068612,
             6.750905467308649,
             14.102038190707688
            ],
            "geometry": {
             "coordinates": [
              [
               6.500915482400792,
               14.102038190707688
              ],
              [
               6.534043753520675,
               13.872194352952137
              ],
              [
               6.748216790760407,
               13.667702088957665
              ],
              [
               6.750905467308649,
               13.590750356708352
              ],
              [
               6.272718800037869,
               13.074154385068612
              ]
             ],
             "type": "LineString"
            },
            "id": "4",
            "properties": {},
            "type": "Feature"
           },
           {
            "bbox": [
             5.940430639470863,
             12.634944810475549,
             6.4005458516388956,
             13.482603065758074
            ],
            "geometry": {
             "coordinates": [
              [
               6.4005458516388956,
               13.482603065758074
              ],
              [
               6.096020448060354,
               13.212301036104883
              ],
              [
               5.965198595609629,
               13.034665933368927
              ],
              [
               5.940430639470863,
               12.634944810475549
              ]
             ],
             "type": "LineString"
            },
            "id": "5",
            "properties": {},
            "type": "Feature"
           },
           {
            "bbox": [
             -0.21208838405660757,
             10.117425043586646,
             4.655403558969052,
             14.795181275485794
            ],
            "geometry": {
             "coordinates": [
              [
               -0.21208838405660757,
               14.514133331368415
              ],
              [
               -0.013930368164771615,
               14.725212594934701
              ],
              [
               0.11687349002245637,
               14.795181275485794
              ],
              [
               0.17870645235978636,
               14.742637017100526
              ],
              [
               0.22281936576447925,
               14.665301005223286
              ],
              [
               0.37857822068984986,
               14.656491614497543
              ],
              [
               0.5043883091069086,
               14.588959494172672
              ],
              [
               0.5857490708803108,
               14.532675685045286
              ],
              [
               0.592579139323077,
               14.42914539285577
              ],
              [
               0.574688769210925,
               14.257935730175111
              ],
              [
               0.6121179254882808,
               14.203543530111014
              ],
              [
               0.7074172427150803,
               14.152655978096462
              ],
              [
               0.766176680138318,
               14.066392921096451
              ],
              [
               0.8019300687351937,
               13.959792391480645
              ],
              [
               0.8795512733839895,
               13.879277253702572
              ],
              [
               0.8950702880521128,
               13.70519921942839
              ],
              [
               0.8888978470188315,
               13.487304666421117
              ],
              [
               0.895085647608696,
               13.383625813184354
              ],
              [
               0.9589693774165997,
               13.283201284263813
              ],
              [
               1.0216767439341432,
               13.201570103937993
              ],
              [
               1.0912414705638602,
               13.167581265270792
              ],
              [
               1.2233953950237504,
               13.136980733125805
              ],
              [
               1.2490633772505768,
               13.024750734828082
              ],
              [
               1.336702455388603,
               12.925284168137063
              ],
              [
               1.4605269003890384,
               12.780243938994394
              ],
              [
               1.5755813014752238,
               12.70565757942662
              ],
              [
               1.701220978973045,
               12.612523053795744
              ],
              [
               1.8029569940045442,
               12.51330197065598
              ],
              [
               1.935433065673858,
               12.472425744705069
              ],
              [
               2.006241652604442,
               12.409446531607664
              ],
              [
               2.0516557119299,
               12.273974921037484
              ],
              [
               2.108611687942066,
               12.195983351753446
              ],
              [
               2.7742694053387162,
               11.58434167751086
              ],
              [
               3.096489029802737,
               11.274036269738
              ],
              [
               3.733653448925231,
               10.659608984072273
              ],
              [
               3.9626728793053765,
               10.467249849112797
              ],
              [
               4.292701956894274,
               10.277830147614399
              ],
              [
               4.489480634522121,
               10.169521794272296
              ],
              [
               4.655403558969052,
               10.117425043586646
              ]
             ],
             "type": "LineString"
            },
            "id": "6",
            "properties": {},
            "type": "Feature"
           },
           {
            "bbox": [
             4.655403558969052,
             9.711876835847889,
             7.09556009403301,
             10.373688483568108
            ],
            "geometry": {
             "coordinates": [
              [
               7.091937401781244,
               10.373688483568108
              ],
              [
               7.09556009403301,
               10.229246424499605
              ],
              [
               7.03843883589238,
               10.179675503731158
              ],
              [
               6.947333150165864,
               10.129271209774387
              ],
              [
               6.930554443488472,
               10.022908891557885
              ],
              [
               6.913284179470295,
               9.935805147798522
              ],
              [
               6.607142549590389,
               9.75498967676542
              ],
              [
               6.204484827777973,
               9.76399362052918
              ],
              [
               5.995264624738364,
               9.796919091457854
              ],
              [
               5.692598317349557,
               9.711876835847889
              ],
              [
               5.555883900899036,
               9.756087705229872
              ],
              [
               5.31389933797427,
               9.926675344206862
              ],
              [
               5.024207152551789,
               9.91330546893275
              ],
              [
               4.906121325014561,
               9.98159068163147
              ],
              [
               4.764031628144091,
               10.044247703412127
              ],
              [
               4.655403558969052,
               10.117425043586646
              ]
             ],
             "type": "LineString"
            },
            "id": "7",
            "properties": {},
            "type": "Feature"
           },
           {
            "bbox": [
             5.31389933797427,
             9.926675344206862,
             6.356899607157587,
             10.250007342902661
            ],
            "geometry": {
             "coordinates": [
              [
               6.356899607157587,
               10.229602520693545
              ],
              [
               5.875940724224147,
               10.250007342902661
              ],
              [
               5.31389933797427,
               9.926675344206862
              ]
             ],
             "type": "LineString"
            },
            "id": "8",
            "properties": {},
            "type": "Feature"
           },
           {
            "bbox": [
             4.764031628144091,
             10.044247703412127,
             5.386431814004623,
             10.868993739505877
            ],
            "geometry": {
             "coordinates": [
              [
               5.386431814004623,
               10.868993739505877
              ],
              [
               4.947619019234529,
               10.500275947191767
              ],
              [
               4.821905500454319,
               10.19929963971262
              ],
              [
               4.764031628144091,
               10.044247703412127
              ]
             ],
             "type": "LineString"
            },
            "id": "9",
            "properties": {},
            "type": "Feature"
           },
           {
            "bbox": [
             2.9932099105468235,
             10.117425043586646,
             4.65627501007733,
             14.793662011978485
            ],
            "geometry": {
             "coordinates": [
              [
               2.9932099105468235,
               14.790647337069244
              ],
              [
               3.0487950165705047,
               14.760205080246505
              ],
              [
               3.1709520057911127,
               14.766584622781606
              ],
              [
               3.233197365834989,
               14.793662011978485
              ],
              [
               3.3088689560932623,
               14.75462329249839
              ],
              [
               3.445155498039,
               14.589732683597186
              ],
              [
               3.7229174757113226,
               14.335977691259956
              ],
              [
               3.7607624826469634,
               13.969938984956173
              ],
              [
               3.873008381780269,
               13.874819101971907
              ],
              [
               3.8968821233626048,
               13.785117453618565
              ],
              [
               3.8668373895222046,
               13.697729968370881
              ],
              [
               3.871140542990884,
               13.60713609552281
              ],
              [
               3.9192732694518044,
               13.518509313464508
              ],
              [
               3.9753030769411812,
               13.363283087222166
              ],
              [
               4.0618240349470325,
               13.285809488009038
              ],
              [
               4.1030008858003235,
               13.129814313997588
              ],
              [
               4.196669432144587,
               12.88512448242755
              ],
              [
               4.292624253669961,
               12.692984550180903
              ],
              [
               4.375724158778526,
               12.4523464458951
              ],
              [
               4.4303139614289115,
               12.186541762772938
              ],
              [
               4.478974704532521,
               11.9395700094458
              ],
              [
               4.509231471654536,
               11.658347901212577
              ],
              [
               4.53697001016055,
               11.305206262396595
              ],
              [
               4.530263552601255,
               11.089611098714439
              ],
              [
               4.605223077798108,
               10.608798591020909
              ],
              [
               4.65627501007733,
               10.385513152509205
              ],
              [
               4.655403558969052,
               10.117425043586646
              ]
             ],
             "type": "LineString"
            },
            "id": "10",
            "properties": {},
            "type": "Feature"
           },
           {
            "bbox": [
             4.453256746758761,
             10.500275947191767,
             5.819481504866904,
             13.894276859071038
            ],
            "geometry": {
             "coordinates": [
              [
               5.819481504866904,
               13.894276859071038
              ],
              [
               5.44236202165217,
               13.620493073412893
              ],
              [
               5.118118415134382,
               13.396701627162019
              ],
              [
               4.6641011999699415,
               13.13888668499082
              ],
              [
               4.453256746758761,
               12.92921439944876
              ],
              [
               4.460354185298572,
               12.876857157021053
              ],
              [
               4.560563800822504,
               12.813890802872606
              ],
              [
               4.57215258971382,
               12.651579531413427
              ],
              [
               4.5316903288122194,
               12.448928919646312
              ],
              [
               4.5378486936597655,
               12.295994403592129
              ],
              [
               4.560189972052209,
               12.100594518508185
              ],
              [
               4.596154842917261,
               11.671115426652294
              ],
              [
               4.630174172762794,
               11.409054111697227
              ],
              [
               4.753892195265657,
               11.20752315171787
              ],
              [
               4.883842388437819,
               10.958102452712069
              ],
              [
               4.937302674230161,
               10.811363013351723
              ],
              [
               4.947619019234529,
               10.500275947191767
              ]
             ],
             "type": "LineString"
            },
            "id": "11",
            "properties": {},
            "type": "Feature"
           },
           {
            "bbox": [
             4.717354715502067,
             8.17083740456925,
             5.086982379141529,
             10.075704690777627
            ],
            "geometry": {
             "coordinates": [
              [
               4.717354715502067,
               10.075704690777627
              ],
              [
               4.7432292090652,
               9.627062243323541
              ],
              [
               4.773778343266087,
               9.249730385993647
              ],
              [
               4.838957924122488,
               8.993013048369441
              ],
              [
               4.8803211067140255,
               8.716393334973604
              ],
              [
               4.9368110007539405,
               8.40178431170479
              ],
              [
               5.086982379141529,
               8.17083740456925
              ]
             ],
             "type": "LineString"
            },
            "id": "12",
            "properties": {},
            "type": "Feature"
           },
           {
            "bbox": [
             5.086982379141529,
             8.17083740456925,
             6.369997639146953,
             9.922157135108804
            ],
            "geometry": {
             "coordinates": [
              [
               6.369997639146953,
               9.922157135108804
              ],
              [
               6.253563849149779,
               9.762922726638678
              ],
              [
               6.112979098566014,
               9.559747267191913
              ],
              [
               5.917897490062154,
               9.247243782525501
              ],
              [
               5.6369063730429545,
               8.903986649674282
              ],
              [
               5.2124834633401385,
               8.34649082835672
              ],
              [
               5.086982379141529,
               8.17083740456925
              ]
             ],
             "type": "LineString"
            },
            "id": "13",
            "properties": {},
            "type": "Feature"
           },
           {
            "bbox": [
             4.880875063270183,
             7.4454697124259175,
             5.435638271598069,
             8.17083740456925
            ],
            "geometry": {
             "coordinates": [
              [
               5.086982379141529,
               8.17083740456925
              ],
              [
               4.9824031082750055,
               7.928726925801542
              ],
              [
               4.880875063270183,
               7.758646415329887
              ],
              [
               4.892767567828577,
               7.663157848068054
              ],
              [
               5.0765707327525735,
               7.605191167797083
              ],
              [
               5.435638271598069,
               7.4454697124259175
              ]
             ],
             "type": "LineString"
            },
            "id": "14",
            "properties": {},
            "type": "Feature"
           },
           {
            "bbox": [
             4.512227443036049,
             7.636994386790027,
             4.892767567828577,
             7.7257100238617475
            ],
            "geometry": {
             "coordinates": [
              [
               4.892767567828577,
               7.663157848068054
              ],
              [
               4.682220176406688,
               7.638969906989001
              ],
              [
               4.600734904258764,
               7.636994386790027
              ],
              [
               4.512227443036049,
               7.7257100238617475
              ]
             ],
             "type": "LineString"
            },
            "id": "15",
            "properties": {},
            "type": "Feature"
           },
           {
            "bbox": [
             3.98065321198871,
             8.581272964630259,
             4.717354715502067,
             10.075704690777627
            ],
            "geometry": {
             "coordinates": [
              [
               4.717354715502067,
               10.075704690777627
              ],
              [
               4.512566113493785,
               9.831698472946133
              ],
              [
               4.483493404793438,
               9.238519059441062
              ],
              [
               3.98065321198871,
               8.581272964630259
              ]
             ],
             "type": "LineString"
            },
            "id": "16",
            "properties": {},
            "type": "Feature"
           },
           {
            "bbox": [
             14.197147852222184,
             9.01592091518655,
             16.441813448354264,
             9.840525433472814
            ],
            "geometry": {
             "coordinates": [
              [
               14.197147852222184,
               9.556349654583117
              ],
              [
               14.703574389269859,
               9.59371176264036
              ],
              [
               14.878542734610662,
               9.639519538227864
              ],
              [
               14.998285467300791,
               9.730945225864321
              ],
              [
               15.136529074562672,
               9.831461850886821
              ],
              [
               15.265563493437556,
               9.840525433472814
              ],
              [
               15.458993574342465,
               9.758057313815867
              ],
              [
               15.633799008875854,
               9.620678581074234
              ],
              [
               15.698044424575121,
               9.510876557635209
              ],
              [
               15.743803873926268,
               9.38282460523457
              ],
              [
               15.807849493564511,
               9.218168443273768
              ],
              [
               15.973251940840536,
               9.153783227309956
              ],
              [
               16.129393379069082,
               9.089357084107608
              ],
              [
               16.23028515586816,
               9.01592091518655
              ],
              [
               16.441813448354264,
               9.042566359176659
              ]
             ],
             "type": "LineString"
            },
            "id": "17",
            "properties": {},
            "type": "Feature"
           },
           {
            "bbox": [
             14.751112873963518,
             7.271945593733812,
             15.698044424575121,
             9.510876557635209
            ],
            "geometry": {
             "coordinates": [
              [
               15.698044424575121,
               9.510876557635209
              ],
              [
               15.596625823095085,
               9.42880387998196
              ],
              [
               15.467404416851029,
               9.163929140783384
              ],
              [
               15.283169401141775,
               8.816774305341518
              ],
              [
               15.246308969173104,
               8.66140619504171
              ],
              [
               15.246191333934446,
               8.478588099039905
              ],
              [
               15.191075706272425,
               8.42377299161015
              ],
              [
               15.071683662691152,
               8.149579493353
              ],
              [
               14.998293537754126,
               7.985043856717236
              ],
              [
               14.961643847503247,
               7.646812930138448
              ],
              [
               14.961653569825357,
               7.537115842695189
              ],
              [
               14.84261381643563,
               7.409109040303731
              ],
              [
               14.751112873963518,
               7.271945593733812
              ]
             ],
             "type": "LineString"
            },
            "id": "18",
            "properties": {},
            "type": "Feature"
           },
           {
            "bbox": [
             14.50327631075468,
             7.198862926054862,
             14.870147750024907,
             7.8476313825363935
            ],
            "geometry": {
             "coordinates": [
              [
               14.50327631075468,
               7.8476313825363935
              ],
              [
               14.512663928408752,
               7.655680573235365
              ],
              [
               14.55870874724895,
               7.4272005793556035
              ],
              [
               14.687041493826756,
               7.253623031360399
              ],
              [
               14.870147750024907,
               7.198862926054862
              ]
             ],
             "type": "LineString"
            },
            "id": "19",
            "properties": {},
            "type": "Feature"
           },
           {
            "bbox": [
             12.783043452961675,
             7.33053754626218,
             14.512663928408752,
             7.655680573235365
            ],
            "geometry": {
             "coordinates": [
              [
               14.512663928408752,
               7.655680573235365
              ],
              [
               13.963004367836778,
               7.627288937873348
              ],
              [
               13.23069170417199,
               7.515267462660337
              ],
              [
               12.965538571979108,
               7.4410313359159215
              ],
              [
               12.783043452961675,
               7.33053754626218
              ]
             ],
             "type": "LineString"
            },
            "id": "20",
            "properties": {},
            "type": "Feature"
           },
           {
            "bbox": [
             8.43303500573321,
             5.05310347154227,
             17.020279405917243,
             17.404780560005147
            ],
            "geometry": {
             "coordinates": [
              [
               17.020279405917243,
               17.404780560005147
              ],
              [
               16.971057490557087,
               17.299721165420372
              ],
              [
               16.87385494112924,
               17.19509530896333
              ],
              [
               16.686518959904525,
               16.97241705616818
              ],
              [
               16.562402852486855,
               16.8876260084657
              ],
              [
               16.54789188025865,
               16.788758008034694
              ],
              [
               16.368524083312014,
               16.611853639320692
              ],
              [
               16.326602743248063,
               16.486739620829596
              ],
              [
               16.26368407666909,
               16.275945312927735
              ],
              [
               16.208179693933307,
               16.13767546627715
              ],
              [
               16.20271979228545,
               15.207101096291504
              ],
              [
               16.14048850188647,
               15.009410721349472
              ],
              [
               16.12560450104649,
               14.758660525710729
              ],
              [
               16.110088469131174,
               14.36928572780183
              ],
              [
               16.08782424011137,
               13.960120712600181
              ],
              [
               16.066762254905576,
               13.788580348210262
              ],
              [
               15.94325762549499,
               13.300560108963378
              ],
              [
               15.82786489996378,
               13.063287925779843
              ],
              [
               15.719244446951707,
               12.759905008889683
              ],
              [
               15.684035448838062,
               12.159160866292929
              ],
              [
               15.495544230159183,
               11.842617344271654
              ],
              [
               15.253887196154642,
               11.479752105071563
              ],
              [
               14.992792992720277,
               11.129872710206792
              ],
              [
               14.819084325705582,
               10.88548219253978
              ],
              [
               14.719121556267826,
               10.60804957673152
              ],
              [
               14.605854135810448,
               10.442833842682617
              ],
              [
               14.399453689121867,
               10.224591850980806
              ],
              [
               14.313124939102053,
               10.065934363455435
              ],
              [
               14.134016555385077,
               9.761755302453853
              ],
              [
               14.041455870619727,
               9.536992250485353
              ],
              [
               13.948806079422294,
               9.37824627645248
              ],
              [
               13.81627209004249,
               9.245766975894615
              ],
              [
               13.723838651191818,
               9.073775257849427
              ],
              [
               13.578699761012434,
               8.815739040831602
              ],
              [
               13.361343518156657,
               8.425333614772073
              ],
              [
               13.16379201649797,
               8.13399424394588
              ],
              [
               13.071612338074473,
               8.0147454775483
              ],
              [
               12.992977445863314,
               7.842745498906908
              ],
              [
               12.90125730837743,
               7.6508800062374025
              ],
              [
               12.85553521698238,
               7.5318464405216945
              ],
              [
               12.624600701957377,
               7.431662137674679
              ],
              [
               12.295425243399709,
               7.205448948099502
              ],
              [
               12.104521678486636,
               7.098729467999324
              ],
              [
               11.841074377830852,
               6.998079811306882
              ],
              [
               11.538689266246188,
               6.831116387767796
              ],
              [
               11.183128104677753,
               6.755928936206611
              ],
              [
               10.71081401836354,
               6.495096616044008
              ],
              [
               10.526337901753966,
               6.353913160343496
              ],
              [
               10.200676082870165,
               6.128469005522417
              ],
              [
               9.716392930834681,
               5.9002612103801875
              ],
              [
               9.389953479434634,
               5.7064045488303385
              ],
              [
               9.135980665747653,
               5.513294086591615
              ],
              [
               8.940678093198347,
               5.373380810623917
              ],
              [
               8.73318221300254,
               5.154583521208778
              ],
              [
               8.661735840893256,
               5.094782306053576
              ],
              [
               8.43303500573321,
               5.05310347154227
              ]
             ],
             "type": "LineString"
            },
            "id": "21",
            "properties": {},
            "type": "Feature"
           },
           {
            "bbox": [
             9.050438708552488,
             7.793842785122717,
             21.148224698935316,
             20.275717836101393
            ],
            "geometry": {
             "coordinates": [
              [
               10.569557014845579,
               20.275717836101393
              ],
              [
               10.424265601063,
               19.99552723651202
              ],
              [
               10.264937151047286,
               19.734672906279943
              ],
              [
               10.083276713091895,
               19.53895747475754
              ],
              [
               10.004109245413474,
               19.405197855389222
              ],
              [
               9.870503690965485,
               19.24359224696108
              ],
              [
               9.854246749918431,
               19.098418973746167
              ],
              [
               9.914171182444111,
               18.948782426961383
              ],
              [
               9.889541456440226,
               18.84942880340938
              ],
              [
               9.859024002435321,
               18.71702519427995
              ],
              [
               9.86535461281077,
               18.506698353637464
              ],
              [
               9.897387418119893,
               18.356263159871432
              ],
              [
               9.906873766259453,
               17.790760618631037
              ],
              [
               9.825960918523213,
               17.49920333617323
              ],
              [
               9.781574121751708,
               17.373064459585045
              ],
              [
               9.67260070427875,
               17.113691501729985
              ],
              [
               9.559273010359478,
               16.775310858759045
              ],
              [
               9.328229221279472,
               16.276049297919048
              ],
              [
               9.261665218686625,
               16.108883950839946
              ],
              [
               9.139083333351357,
               15.764862629963195
              ],
              [
               9.05760203788762,
               15.532668571074176
              ],
              [
               9.050438708552488,
               15.309070524092816
              ],
              [
               9.259314038592676,
               15.097647792972403
              ],
              [
               9.266847163731082,
               14.815204401075922
              ],
              [
               9.303719935606928,
               14.434872457614667
              ],
              [
               9.281611533348325,
               13.974222053154682
              ],
              [
               9.265307622500234,
               13.540026178620597
              ],
              [
               9.250110430103772,
               13.046721869184635
              ],
              [
               9.266506358999518,
               12.31749595962307
              ],
              [
               9.273698891704147,
               11.982426211553168
              ],
              [
               9.337637580642383,
               11.786004485587911
              ],
              [
               9.449941025170958,
               11.519172231703154
              ],
              [
               9.546779739440854,
               11.336886881260876
              ],
              [
               9.608579395507265,
               11.239378440987272
              ],
              [
               9.849191208911323,
               11.197599007439885
              ],
              [
               10.124120546754556,
               11.096922004915752
              ],
              [
               10.392905155940332,
               10.956317490745096
              ],
              [
               10.724871215376327,
               10.572551080723382
              ],
              [
               10.760307843442297,
               10.41494336494553
              ],
              [
               10.881873539180097,
               10.278186493104846
              ],
              [
               11.030492978154955,
               10.095548465608196
              ],
              [
               11.145238261554834,
               9.951931856912495
              ],
              [
               11.193207101131836,
               9.827265199546451
              ],
              [
               11.267985014529033,
               9.67650767638691
              ],
              [
               11.402364081750749,
               9.532921282078362
              ],
              [
               11.622927785727772,
               9.390076192535478
              ],
              [
               11.843397061988904,
               9.240434267284341
              ],
              [
               12.096458000037966,
               9.143626560729075
              ],
              [
               12.263402003439728,
               9.012979893684586
              ],
              [
               12.482721634497656,
               8.968358362238504
              ],
              [
               12.609884116313983,
               8.804227051747676
              ],
              [
               12.90261418947634,
               8.660765754330342
              ],
              [
               12.943718714973892,
               8.416767894159305
              ],
              [
               13.00460983409954,
               8.17284911192443
              ],
              [
               13.071612338074473,
               8.0147454775483
              ],
              [
               13.171245269772646,
               7.949183717413366
              ],
              [
               13.250903239839008,
               7.903313531785574
              ],
              [
               13.323898487487662,
               7.863999895699803
              ],
              [
               13.396730130671529,
               7.864284343271613
              ],
              [
               13.469345721163759,
               7.923978722487443
              ],
              [
               13.568637799402618,
               7.937537310714084
              ],
              [
               13.76745034952502,
               7.898553417937787
              ],
              [
               13.860261416914954,
               7.865798644074492
              ],
              [
               13.939882846956323,
               7.806573057816194
              ],
              [
               14.15181201008925,
               7.793842785122717
              ],
              [
               14.370332209304793,
               7.800828484518071
              ],
              [
               14.50327631075468,
               7.8476313825363935
              ],
              [
               14.754352647100534,
               7.953136531220952
              ],
              [
               15.071683662691152,
               8.149579493353
              ],
              [
               15.284618837628102,
               8.309766694452327
              ],
              [
               15.543462027545136,
               8.48121257601048
              ],
              [
               15.928713264858269,
               8.691807933445201
              ],
              [
               16.214834765716585,
               8.922113313799995
              ],
              [
               16.441813448354264,
               9.042566359176659
              ],
              [
               16.654133870184335,
               9.158083754501924
              ],
              [
               17.04069841593601,
               9.380525838061434
              ],
              [
               17.420812659706723,
               9.569492244497312
              ],
              [
               17.854689383220904,
               9.783878044214887
              ],
              [
               18.40996492516251,
               10.115004423703423
              ],
              [
               18.892309419366512,
               10.393004953390026
              ],
              [
               19.382177173244266,
               10.683038063977927
              ],
              [
               19.791488937172048,
               10.887649135714465
              ],
              [
               20.45685272894703,
               11.231607222085222
              ],
              [
               20.944570544782536,
               11.200931132801973
              ],
              [
               21.148224698935316,
               11.185263009422794
              ]
             ],
             "type": "LineString"
            },
            "id": "22",
            "properties": {},
            "type": "Feature"
           },
           {
            "bbox": [
             10.569557014845579,
             17.404780560005147,
             17.020279405917243,
             20.275717836101393
            ],
            "geometry": {
             "coordinates": [
              [
               10.569557014845579,
               20.275717836101393
              ],
              [
               10.673170575151888,
               20.198850620306985
              ],
              [
               10.876560565626956,
               20.17538620132266
              ],
              [
               11.259756492898049,
               20.169778445603395
              ],
              [
               11.527746090161846,
               19.941146217697227
              ],
              [
               11.685696347048324,
               19.922879348043434
              ],
              [
               11.837961670709438,
               19.812108205154587
              ],
              [
               12.077860431460067,
               19.816198299720035
              ],
              [
               12.237283161126495,
               19.705157642055266
              ],
              [
               12.373218504038604,
               19.643305883913904
              ],
              [
               12.553997483109143,
               19.58195427176887
              ],
              [
               12.78007098807878,
               19.485463500924812
              ],
              [
               12.90707439188763,
               19.508281464460357
              ],
              [
               13.101781442702162,
               19.510429863720642
              ],
              [
               13.199615598262211,
               19.468814329244125
              ],
              [
               13.298289324551085,
               19.341913834067004
              ],
              [
               13.463769941181537,
               19.25103829696307
              ],
              [
               13.614065989090891,
               19.16699102485064
              ],
              [
               13.70465935438527,
               19.053984375335027
              ],
              [
               13.900302607203702,
               18.84211062361569
              ],
              [
               14.340747248323709,
               18.80155657780618
              ],
              [
               14.691743394395086,
               18.62481835595149
              ],
              [
               14.773826616471544,
               18.553874450560677
              ],
              [
               14.863261391089491,
               18.51842983609328
              ],
              [
               14.915460286019409,
               18.404761485460558
              ],
              [
               15.019672590590101,
               18.35503553133559
              ],
              [
               15.153603407191403,
               18.326549608129447
              ],
              [
               15.190752722639195,
               18.276772163449312
              ],
              [
               15.212930276713587,
               18.163047521941913
              ],
              [
               15.287151965282812,
               18.09188737260779
              ],
              [
               15.338976361320782,
               17.992313720012646
              ],
              [
               15.368461738842946,
               17.88566311186405
              ],
              [
               15.69494049162867,
               17.863453607669914
              ],
              [
               15.901753226416513,
               17.6707456959059
              ],
              [
               16.123413884213,
               17.555914687588615
              ],
              [
               16.359904286996773,
               17.483379321708128
              ],
              [
               16.52248218231234,
               17.446675867742115
              ],
              [
               16.83332296596128,
               17.444055626817168
              ],
              [
               16.966751571668702,
               17.464092408947845
              ],
              [
               17.020279405917243,
               17.404780560005147
              ]
             ],
             "type": "LineString"
            },
            "id": "23",
            "properties": {},
            "type": "Feature"
           },
           {
            "bbox": [
             -0.5778223711493549,
             18.86848752306256,
             -0.3061901835717006,
             19.075091301329085
            ],
            "geometry": {
             "coordinates": [
              [
               -0.3061901835717006,
               18.86848752306256
              ],
              [
               -0.36370554917555004,
               18.90076191700685
              ],
              [
               -0.40765484982989675,
               19.000442892197448
              ],
              [
               -0.4869589196396185,
               19.00305293470555
              ],
              [
               -0.5778223711493549,
               19.075091301329085
              ]
             ],
             "type": "LineString"
            },
            "id": "24",
            "properties": {},
            "type": "Feature"
           },
           {
            "bbox": [
             0.45360812145179785,
             18.661279027849336,
             0.5674910917826776,
             19.07938750879446
            ],
            "geometry": {
             "coordinates": [
              [
               0.45360812145179785,
               19.07938750879446
              ],
              [
               0.5400940713840426,
               18.975121042115735
              ],
              [
               0.5674910917826776,
               18.661279027849336
              ]
             ],
             "type": "LineString"
            },
            "id": "25",
            "properties": {},
            "type": "Feature"
           },
           {
            "bbox": [
             0.70897820433954,
             19.10750222579343,
             0.8411593018577886,
             19.224938905587177
            ],
            "geometry": {
             "coordinates": [
              [
               0.70897820433954,
               19.224938905587177
              ],
              [
               0.8411593018577886,
               19.10750222579343
              ]
             ],
             "type": "LineString"
            },
            "id": "26",
            "properties": {},
            "type": "Feature"
           },
           {
            "bbox": [
             1.1662816654712862,
             19.324052709678963,
             1.3798760445105964,
             19.45083940318564
            ],
            "geometry": {
             "coordinates": [
              [
               1.1662816654712862,
               19.45083940318564
              ],
              [
               1.2301671953763123,
               19.326778256560562
              ],
              [
               1.3798760445105964,
               19.324052709678963
              ]
             ],
             "type": "LineString"
            },
            "id": "27",
            "properties": {},
            "type": "Feature"
           },
           {
            "bbox": [
             1.3544529959725287,
             20.087140573155843,
             1.7973869281025145,
             20.363185856428604
            ],
            "geometry": {
             "coordinates": [
              [
               1.7973869281025145,
               20.087140573155843
              ],
              [
               1.728466157974028,
               20.10351962721875
              ],
              [
               1.5144121843683689,
               20.31429269944556
              ],
              [
               1.3544529959725287,
               20.363185856428604
              ]
             ],
             "type": "LineString"
            },
            "id": "28",
            "properties": {},
            "type": "Feature"
           },
           {
            "bbox": [
             0.791495955076635,
             19.45083940318564,
             1.1662816654712862,
             19.944192785435323
            ],
            "geometry": {
             "coordinates": [
              [
               1.1662816654712862,
               19.45083940318564
              ],
              [
               1.0910658449172015,
               19.609088152626967
              ],
              [
               0.970852840476201,
               19.727170595115137
              ],
              [
               0.8838768311181954,
               19.861940742158428
              ],
              [
               0.791495955076635,
               19.944192785435323
              ]
             ],
             "type": "LineString"
            },
            "id": "29",
            "properties": {},
            "type": "Feature"
           },
           {
            "bbox": [
             2.258783144932773,
             20.460426452221594,
             2.3401352421862547,
             20.509349340273815
            ],
            "geometry": {
             "coordinates": [
              [
               2.258783144932773,
               20.509349340273815
              ],
              [
               2.3401352421862547,
               20.460426452221594
              ]
             ],
             "type": "LineString"
            },
            "id": "30",
            "properties": {},
            "type": "Feature"
           },
           {
            "bbox": [
             -0.36709489749188134,
             18.778252573765116,
             -0.30499176048950044,
             18.815728653325387
            ],
            "geometry": {
             "coordinates": [
              [
               -0.30499176048950044,
               18.815728653325387
              ],
              [
               -0.36709489749188134,
               18.778252573765116
              ]
             ],
             "type": "LineString"
            },
            "id": "31",
            "properties": {},
            "type": "Feature"
           },
           {
            "bbox": [
             3.880477863241175,
             10.231855892226802,
             3.911815587471874,
             10.51002412519949
            ],
            "geometry": {
             "coordinates": [
              [
               3.911815587471874,
               10.51002412519949
              ],
              [
               3.895961734868306,
               10.411340315180665
              ],
              [
               3.880477863241175,
               10.323173176204397
              ],
              [
               3.9069914381039568,
               10.231855892226802
              ]
             ],
             "type": "LineString"
            },
            "id": "32",
            "properties": {},
            "type": "Feature"
           },
           {
            "bbox": [
             3.905770436851696,
             9.862865421916394,
             4.292701956894274,
             10.277830147614399
            ],
            "geometry": {
             "coordinates": [
              [
               4.292701956894274,
               10.277830147614399
              ],
              [
               4.2107254101320715,
               10.066770693973512
              ],
              [
               4.2171706791470385,
               9.873095909198923
              ],
              [
               3.905770436851696,
               9.862865421916394
              ]
             ],
             "type": "LineString"
            },
            "id": "33",
            "properties": {},
            "type": "Feature"
           },
           {
            "bbox": [
             4.369890106890006,
             9.64480108569891,
             4.503517009391664,
             9.75792777267447
            ],
            "geometry": {
             "coordinates": [
              [
               4.503517009391664,
               9.64480108569891
              ],
              [
               4.369890106890006,
               9.75792777267447
              ]
             ],
             "type": "LineString"
            },
            "id": "34",
            "properties": {},
            "type": "Feature"
           },
           {
            "bbox": [
             3.6679987948007455,
             9.0438885330487,
             4.438322414432476,
             9.179486964154549
            ],
            "geometry": {
             "coordinates": [
              [
               4.438322414432476,
               9.179486964154549
              ],
              [
               4.180904076280821,
               9.110361449676441
              ],
              [
               3.968282917310156,
               9.080843087939073
              ],
              [
               3.675944549578405,
               9.085605841467496
              ],
              [
               3.6679987948007455,
               9.0438885330487
              ]
             ],
             "type": "LineString"
            },
            "id": "35",
            "properties": {},
            "type": "Feature"
           },
           {
            "bbox": [
             4.927025252406417,
             8.302094719115594,
             5.1807629724810385,
             8.460451628070528
            ],
            "geometry": {
             "coordinates": [
              [
               4.927025252406417,
               8.456448368923104
              ],
              [
               5.072584174977155,
               8.460451628070528
              ],
              [
               5.1807629724810385,
               8.302094719115594
              ]
             ],
             "type": "LineString"
            },
            "id": "36",
            "properties": {},
            "type": "Feature"
           },
           {
            "bbox": [
             5.069089224655188,
             7.958043504603921,
             5.34986193540249,
             8.12940136087063
            ],
            "geometry": {
             "coordinates": [
              [
               5.069089224655188,
               8.12940136087063
              ],
              [
               5.204521859672336,
               8.014784027553597
              ],
              [
               5.269507140929562,
               8.016338493330315
              ],
              [
               5.34986193540249,
               7.958043504603921
              ]
             ],
             "type": "LineString"
            },
            "id": "37",
            "properties": {},
            "type": "Feature"
           },
           {
            "bbox": [
             4.815149877432306,
             8.356663353502464,
             4.927025252406417,
             8.456448368923104
            ],
            "geometry": {
             "coordinates": [
              [
               4.927025252406417,
               8.456448368923104
              ],
              [
               4.815149877432306,
               8.356663353502464
              ]
             ],
             "type": "LineString"
            },
            "id": "38",
            "properties": {},
            "type": "Feature"
           },
           {
            "bbox": [
             4.868921129659819,
             8.79283641376685,
             4.998219659558438,
             8.810155674495402
            ],
            "geometry": {
             "coordinates": [
              [
               4.868921129659819,
               8.79283641376685
              ],
              [
               4.998219659558438,
               8.810155674495402
              ]
             ],
             "type": "LineString"
            },
            "id": "39",
            "properties": {},
            "type": "Feature"
           },
           {
            "bbox": [
             4.8260912602433015,
             9.043788814955608,
             5.176695296812518,
             9.259309974625344
            ],
            "geometry": {
             "coordinates": [
              [
               4.8260912602433015,
               9.043788814955608
              ],
              [
               4.935532476821598,
               9.05826177617958
              ],
              [
               5.176695296812518,
               9.259309974625344
              ]
             ],
             "type": "LineString"
            },
            "id": "40",
            "properties": {},
            "type": "Feature"
           },
           {
            "bbox": [
             4.483493404793438,
             9.238519059441062,
             4.773778343266087,
             9.249730385993647
            ],
            "geometry": {
             "coordinates": [
              [
               4.483493404793438,
               9.238519059441062
              ],
              [
               4.773778343266087,
               9.249730385993647
              ]
             ],
             "type": "LineString"
            },
            "id": "41",
            "properties": {},
            "type": "Feature"
           },
           {
            "bbox": [
             4.726080442915825,
             9.492066969333955,
             4.899732350268025,
             9.925770012160642
            ],
            "geometry": {
             "coordinates": [
              [
               4.726080442915825,
               9.925770012160642
              ],
              [
               4.815441742805471,
               9.81332073389678
              ],
              [
               4.822348037297685,
               9.58691850236763
              ],
              [
               4.899732350268025,
               9.492066969333955
              ]
             ],
             "type": "LineString"
            },
            "id": "42",
            "properties": {},
            "type": "Feature"
           },
           {
            "bbox": [
             4.815441742805471,
             9.781392076856163,
             5.024207152551789,
             9.91330546893275
            ],
            "geometry": {
             "coordinates": [
              [
               5.024207152551789,
               9.91330546893275
              ],
              [
               4.984314178769859,
               9.781392076856163
              ],
              [
               4.815441742805471,
               9.81332073389678
              ]
             ],
             "type": "LineString"
            },
            "id": "43",
            "properties": {},
            "type": "Feature"
           },
           {
            "bbox": [
             4.815441742805471,
             9.81332073389678,
             5.024207152551789,
             9.91330546893275
            ],
            "geometry": {
             "coordinates": [
              [
               5.024207152551789,
               9.91330546893275
              ],
              [
               4.815441742805471,
               9.81332073389678
              ]
             ],
             "type": "LineString"
            },
            "id": "44",
            "properties": {},
            "type": "Feature"
           },
           {
            "bbox": [
             5.875940724224147,
             10.132115909398841,
             5.899340523387186,
             10.250007342902661
            ],
            "geometry": {
             "coordinates": [
              [
               5.875940724224147,
               10.250007342902661
              ],
              [
               5.899340523387186,
               10.132115909398841
              ]
             ],
             "type": "LineString"
            },
            "id": "45",
            "properties": {},
            "type": "Feature"
           },
           {
            "bbox": [
             5.9798530596484,
             9.51504020522553,
             6.085066903934683,
             9.586857267041657
            ],
            "geometry": {
             "coordinates": [
              [
               6.085066903934683,
               9.51504020522553
              ],
              [
               5.9798530596484,
               9.586857267041657
              ]
             ],
             "type": "LineString"
            },
            "id": "46",
            "properties": {},
            "type": "Feature"
           },
           {
            "bbox": [
             6.0666574814207195,
             9.663376647991052,
             6.209684996706678,
             9.699516050092576
            ],
            "geometry": {
             "coordinates": [
              [
               6.209684996706678,
               9.699516050092576
              ],
              [
               6.0666574814207195,
               9.663376647991052
              ]
             ],
             "type": "LineString"
            },
            "id": "47",
            "properties": {},
            "type": "Feature"
           },
           {
            "bbox": [
             4.784702494097878,
             10.08514259917478,
             5.082381451251617,
             10.099620241747171
            ],
            "geometry": {
             "coordinates": [
              [
               4.784702494097878,
               10.099620241747171
              ],
              [
               5.082381451251617,
               10.08514259917478
              ]
             ],
             "type": "LineString"
            },
            "id": "48",
            "properties": {},
            "type": "Feature"
           },
           {
            "bbox": [
             5.144747977537817,
             9.919502590727603,
             5.157817824856276,
             10.031477833141956
            ],
            "geometry": {
             "coordinates": [
              [
               5.157817824856276,
               9.919502590727603
              ],
              [
               5.144747977537817,
               10.031477833141956
              ]
             ],
             "type": "LineString"
            },
            "id": "49",
            "properties": {},
            "type": "Feature"
           },
           {
            "bbox": [
             4.489480634522121,
             9.831698472946133,
             4.512566113493785,
             10.169521794272296
            ],
            "geometry": {
             "coordinates": [
              [
               4.489480634522121,
               10.169521794272296
              ],
              [
               4.512566113493785,
               9.831698472946133
              ]
             ],
             "type": "LineString"
            },
            "id": "50",
            "properties": {},
            "type": "Feature"
           },
           {
            "bbox": [
             6.750905467308649,
             13.590750356708352,
             7.6444132858261495,
             13.712400929036399
            ],
            "geometry": {
             "coordinates": [
              [
               7.6444132858261495,
               13.712400929036399
              ],
              [
               7.507640147186124,
               13.692346974535148
              ],
              [
               7.327600490200349,
               13.595930992213447
              ],
              [
               6.750905467308649,
               13.590750356708352
              ]
             ],
             "type": "LineString"
            },
            "id": "51",
            "properties": {},
            "type": "Feature"
           },
           {
            "bbox": [
             6.131862156703358,
             13.179212394599658,
             6.369832194130908,
             13.252210170833797
            ],
            "geometry": {
             "coordinates": [
              [
               6.369832194130908,
               13.179212394599658
              ],
              [
               6.286664238744891,
               13.252210170833797
              ],
              [
               6.131862156703358,
               13.244145946900717
              ]
             ],
             "type": "LineString"
            },
            "id": "52",
            "properties": {},
            "type": "Feature"
           },
           {
            "bbox": [
             0.14210270444676754,
             14.765872411045095,
             0.15137352337782936,
             14.947212553014472
            ],
            "geometry": {
             "coordinates": [
              [
               0.15137352337782936,
               14.765872411045095
              ],
              [
               0.14210270444676754,
               14.947212553014472
              ]
             ],
             "type": "LineString"
            },
            "id": "53",
            "properties": {},
            "type": "Feature"
           },
           {
            "bbox": [
             0.0418410392665585,
             14.623730797275227,
             0.22281936576447925,
             14.665301005223286
            ],
            "geometry": {
             "coordinates": [
              [
               0.0418410392665585,
               14.623730797275227
              ],
              [
               0.22281936576447925,
               14.665301005223286
              ]
             ],
             "type": "LineString"
            },
            "id": "54",
            "properties": {},
            "type": "Feature"
           },
           {
            "bbox": [
             20.950567346773674,
             11.19730295322784,
             26.829650206927614,
             19.3318310794954
            ],
            "geometry": {
             "coordinates": [
              [
               20.991887530647315,
               11.19730295322784
              ],
              [
               20.96540802779111,
               11.307094265027146
              ],
              [
               20.95243559316471,
               11.40343344957048
              ],
              [
               20.96927547341763,
               11.491774561176369
              ],
              [
               20.98184266105826,
               11.554332680040973
              ],
              [
               20.950567346773674,
               11.669532353857452
              ],
              [
               21.306247633164013,
               11.979520828062176
              ],
              [
               21.623892430054287,
               12.237912810241829
              ],
              [
               21.839630662048855,
               12.453970843141466
              ],
              [
               21.97985979968587,
               12.6421698691515
              ],
              [
               22.088429339992235,
               12.764672766712124
              ],
              [
               22.18781086518785,
               12.82465261393326
              ],
              [
               22.309860262961003,
               12.887621093566668
              ],
              [
               22.41432390755184,
               12.970870563191603
              ],
              [
               22.591936229020632,
               13.144797648642156
              ],
              [
               22.86791429979271,
               13.42731917442987
              ],
              [
               23.25877022493044,
               13.85251419625471
              ],
              [
               23.454838910965453,
               14.06641308346981
              ],
              [
               23.48569408744666,
               14.186666100105088
              ],
              [
               23.681735292149252,
               14.480979945299609
              ],
              [
               23.772052446246263,
               14.665016514093868
              ],
              [
               24.059143392139124,
               15.120315728191473
              ],
              [
               24.29609950974215,
               15.602468175697288
              ],
              [
               24.656521078441525,
               16.246953572535556
              ],
              [
               24.954976142223657,
               16.735143031580275
              ],
              [
               25.079465516402124,
               17.000198290466532
              ],
              [
               25.292429463182305,
               17.337370917309848
              ],
              [
               25.44568884312274,
               17.48311616699553
              ],
              [
               25.519502970702128,
               17.636585719088508
              ],
              [
               25.649004193591114,
               17.82351090708878
              ],
              [
               25.83710521877778,
               18.01004262644994
              ],
              [
               25.885130802526213,
               18.116660172805958
              ],
              [
               26.1779972249756,
               18.37849293180544
              ],
              [
               26.24055034604026,
               18.46964442453526
              ],
              [
               26.38833815685997,
               18.617784013228434
              ],
              [
               26.44012141363714,
               18.81549846958649
              ],
              [
               26.525318938217215,
               18.938002338924765
              ],
              [
               26.547211107251574,
               19.08635175571276
              ],
              [
               26.763030562083465,
               19.203909040712517
              ],
              [
               26.829650206927614,
               19.3318310794954
              ]
             ],
             "type": "LineString"
            },
            "id": "55",
            "properties": {},
            "type": "Feature"
           },
           {
            "bbox": [
             16.441813448354264,
             9.000421948512283,
             16.55106540191163,
             9.042566359176659
            ],
            "geometry": {
             "coordinates": [
              [
               16.441813448354264,
               9.042566359176659
              ],
              [
               16.55106540191163,
               9.000421948512283
              ]
             ],
             "type": "LineString"
            },
            "id": "56",
            "properties": {},
            "type": "Feature"
           },
           {
            "bbox": [
             17.162564301271978,
             8.297613126192044,
             17.30844881969663,
             8.350850590951257
            ],
            "geometry": {
             "coordinates": [
              [
               17.162564301271978,
               8.350850590951257
              ],
              [
               17.30844881969663,
               8.297613126192044
              ]
             ],
             "type": "LineString"
            },
            "id": "57",
            "properties": {},
            "type": "Feature"
           },
           {
            "bbox": [
             11.026326798029444,
             6.96646250568082,
             12.783043452961675,
             7.33053754626218
            ],
            "geometry": {
             "coordinates": [
              [
               12.783043452961675,
               7.33053754626218
              ],
              [
               12.425089771346695,
               7.15471660706388
              ],
              [
               12.326056191599498,
               7.14250703529087
              ],
              [
               12.094005182199396,
               6.96646250568082
              ],
              [
               11.896427110163607,
               7.019240896108434
              ],
              [
               11.760898264852012,
               7.121424198149276
              ],
              [
               11.585879365783681,
               7.155075792481357
              ],
              [
               11.300440490097444,
               7.1586855966688585
              ],
              [
               11.177718592700744,
               7.210025392269532
              ],
              [
               11.026326798029444,
               7.208732518621546
              ]
             ],
             "type": "LineString"
            },
            "id": "58",
            "properties": {},
            "type": "Feature"
           },
           {
            "bbox": [
             11.113736014771254,
             6.379685655306797,
             12.094005182199396,
             6.96646250568082
            ],
            "geometry": {
             "coordinates": [
              [
               12.094005182199396,
               6.96646250568082
              ],
              [
               11.856476299153124,
               6.76705716086396
              ],
              [
               11.775394147037101,
               6.7025091522176785
              ],
              [
               11.636022993608988,
               6.655021811261307
              ],
              [
               11.364521849457931,
               6.379685655306797
              ],
              [
               11.201643641390127,
               6.390141983396036
              ],
              [
               11.113736014771254,
               6.482535064536766
              ]
             ],
             "type": "LineString"
            },
            "id": "59",
            "properties": {},
            "type": "Feature"
           },
           {
            "bbox": [
             14.352276609941281,
             8.663026869574203,
             15.26726459544348,
             8.826898533999469
            ],
            "geometry": {
             "coordinates": [
              [
               15.26726459544348,
               8.749752393657229
              ],
              [
               15.089364627905733,
               8.7113813580261
              ],
              [
               14.571600927004235,
               8.663026869574203
              ],
              [
               14.352276609941281,
               8.826898533999469
              ]
             ],
             "type": "LineString"
            },
            "id": "60",
            "properties": {},
            "type": "Feature"
           },
           {
            "bbox": [
             14.859281938802807,
             7.638438348432586,
             14.961643847503247,
             7.646812930138448
            ],
            "geometry": {
             "coordinates": [
              [
               14.961643847503247,
               7.646812930138448
              ],
              [
               14.859281938802807,
               7.638438348432586
              ]
             ],
             "type": "LineString"
            },
            "id": "61",
            "properties": {},
            "type": "Feature"
           }
          ],
          "type": "FeatureCollection"
         },
         "hovertemplate": "lat=%{lat}<br>lon=%{lon}<extra></extra>",
         "lat": [
          [
           -9.81494915677432,
           -9.795984071034358,
           -9.770370517522617,
           -9.548568598787226,
           -9.503829658947524,
           -9.439346967702484,
           -9.40111225802564,
           -9.355855745325456,
           -9.124252026083404,
           -9.001368521755754,
           -8.9603177778095,
           -8.775357429397602,
           -8.552218599187073,
           -8.427639600115098,
           -8.308912624201778,
           -8.228846249480144,
           -8.170372427241062,
           -8.154452785547711,
           -8.130235290980082,
           -8.029411682493613,
           -8.058055602125878,
           -8.08844317848133,
           -7.959970812126055,
           -7.874181175159673,
           -7.683717914944191,
           -7.601085340340569,
           -7.509876391608225,
           -7.27084590947202,
           -7.124386415216574,
           -6.9540716406684515,
           -6.894647600808603,
           -6.703310210583393,
           -6.590316633983562,
           -6.423559986147381,
           -6.260851949350728,
           -6.154032922209693,
           -6.050157509530457,
           -5.994267071090621,
           -6.016536999892994,
           -6.123395760216581,
           -6.205686492912038,
           -6.184942193531838,
           -6.0528408420425945,
           -5.964712264789466,
           -5.931605771149707,
           -5.900983048274086,
           -5.798988070931479,
           -5.605182540289556,
           -5.426965525783253,
           -5.37080807053647,
           -5.148404856073719,
           -5.0028257135395275
          ],
          [
           4.262228361072035,
           4.3686287586727675,
           4.402728053496698,
           4.441441856011634,
           4.562266104640297,
           4.70558083372755,
           4.756515956620007,
           4.797835224837899,
           4.929713366401779,
           4.971258436399019,
           4.953000392277002,
           4.989194981692141,
           4.987017530913306,
           4.997598465560067,
           5.094658302301744,
           5.595707988052201,
           5.717092490786353
          ],
          [
           4.6458194437996125,
           4.1143814790158055,
           4.123952935974435,
           3.9877296557144257,
           3.8921317453261848,
           3.676559941135227,
           3.476438103612458,
           3.386218281991184,
           3.3027134475203304,
           3.22496801461165,
           3.169528866000391,
           3.06367987858591,
           2.994059886969721,
           2.9568245483014217,
           2.8706835829376263,
           2.8498473789573464,
           2.833094174764438,
           2.4939229813929846,
           2.488913039397725,
           2.484475549233329,
           2.4649945597279097,
           2.4448793204446315,
           2.4144350931743777,
           2.3738789355306875,
           2.3109724469555655,
           2.275703093211956,
           2.258783144932773,
           2.2103678447436637,
           2.166184343069512,
           2.137597442683284,
           2.081056050669104,
           1.9737251066850843,
           1.8889093701317499,
           1.7973869281025145,
           1.7955970055495911,
           1.7912626770958913,
           1.7779896583684967,
           1.7292174622995555,
           1.662183333131044,
           1.6084784008253736,
           1.5761980976556667,
           1.51370442032002,
           1.4118679237542044,
           1.2811298022313027,
           1.1662816654712862,
           1.0969645933866858,
           0.9282882847046233,
           0.7617059330782415,
           0.6166227418541871,
           0.45360812145179785,
           0.07414797353494591,
           -0.03821130252334439,
           -0.17120744442827934,
           -0.3061901835717006,
           -0.30499176048950044,
           -0.253698898386019,
           -0.16170406737590745,
           -0.05103226227166229,
           -0.00010587881975591379,
           0.0367344785339645,
           0.06381190238205259,
           0.0308474500773999,
           0.04764425007160192,
           0.08638570368638188,
           0.077436204129211,
           0.024603408359726242,
           -0.006560084955930519,
           -0.1144876818874544,
           -0.10730146500019072,
           -0.08644885165499437,
           -0.01396419838606385,
           0.10427759316531582,
           0.23957207779015025
          ],
          [
           8.961781147790548,
           8.92244448777601,
           8.949880994837686,
           9.066770619978499,
           9.07047068188145,
           9.065553734904599
          ],
          [
           6.500915482400792,
           6.534043753520675,
           6.748216790760407,
           6.750905467308649,
           6.272718800037869
          ],
          [
           6.4005458516388956,
           6.096020448060354,
           5.965198595609629,
           5.940430639470863
          ],
          [
           -0.21208838405660757,
           -0.013930368164771615,
           0.11687349002245637,
           0.17870645235978636,
           0.22281936576447925,
           0.37857822068984986,
           0.5043883091069086,
           0.5857490708803108,
           0.592579139323077,
           0.574688769210925,
           0.6121179254882808,
           0.7074172427150803,
           0.766176680138318,
           0.8019300687351937,
           0.8795512733839895,
           0.8950702880521128,
           0.8888978470188315,
           0.895085647608696,
           0.9589693774165997,
           1.0216767439341432,
           1.0912414705638602,
           1.2233953950237504,
           1.2490633772505768,
           1.336702455388603,
           1.4605269003890384,
           1.5755813014752238,
           1.701220978973045,
           1.8029569940045442,
           1.935433065673858,
           2.006241652604442,
           2.0516557119299,
           2.108611687942066,
           2.7742694053387162,
           3.096489029802737,
           3.733653448925231,
           3.9626728793053765,
           4.292701956894274,
           4.489480634522121,
           4.655403558969052
          ],
          [
           7.091937401781244,
           7.09556009403301,
           7.03843883589238,
           6.947333150165864,
           6.930554443488472,
           6.913284179470295,
           6.607142549590389,
           6.204484827777973,
           5.995264624738364,
           5.692598317349557,
           5.555883900899036,
           5.31389933797427,
           5.024207152551789,
           4.906121325014561,
           4.764031628144091,
           4.655403558969052
          ],
          [
           6.356899607157587,
           5.875940724224147,
           5.31389933797427
          ],
          [
           5.386431814004623,
           4.947619019234529,
           4.821905500454319,
           4.764031628144091
          ],
          [
           2.9932099105468235,
           3.0487950165705047,
           3.1709520057911127,
           3.233197365834989,
           3.3088689560932623,
           3.445155498039,
           3.7229174757113226,
           3.7607624826469634,
           3.873008381780269,
           3.8968821233626048,
           3.8668373895222046,
           3.871140542990884,
           3.9192732694518044,
           3.9753030769411812,
           4.0618240349470325,
           4.1030008858003235,
           4.196669432144587,
           4.292624253669961,
           4.375724158778526,
           4.4303139614289115,
           4.478974704532521,
           4.509231471654536,
           4.53697001016055,
           4.530263552601255,
           4.605223077798108,
           4.65627501007733,
           4.655403558969052
          ],
          [
           5.819481504866904,
           5.44236202165217,
           5.118118415134382,
           4.6641011999699415,
           4.453256746758761,
           4.460354185298572,
           4.560563800822504,
           4.57215258971382,
           4.5316903288122194,
           4.5378486936597655,
           4.560189972052209,
           4.596154842917261,
           4.630174172762794,
           4.753892195265657,
           4.883842388437819,
           4.937302674230161,
           4.947619019234529
          ],
          [
           4.717354715502067,
           4.7432292090652,
           4.773778343266087,
           4.838957924122488,
           4.8803211067140255,
           4.9368110007539405,
           5.086982379141529
          ],
          [
           6.369997639146953,
           6.253563849149779,
           6.112979098566014,
           5.917897490062154,
           5.6369063730429545,
           5.2124834633401385,
           5.086982379141529
          ],
          [
           5.086982379141529,
           4.9824031082750055,
           4.880875063270183,
           4.892767567828577,
           5.0765707327525735,
           5.435638271598069
          ],
          [
           4.892767567828577,
           4.682220176406688,
           4.600734904258764,
           4.512227443036049
          ],
          [
           4.717354715502067,
           4.512566113493785,
           4.483493404793438,
           3.98065321198871
          ],
          [
           14.197147852222184,
           14.703574389269859,
           14.878542734610662,
           14.998285467300791,
           15.136529074562672,
           15.265563493437556,
           15.458993574342465,
           15.633799008875854,
           15.698044424575121,
           15.743803873926268,
           15.807849493564511,
           15.973251940840536,
           16.129393379069082,
           16.23028515586816,
           16.441813448354264
          ],
          [
           15.698044424575121,
           15.596625823095085,
           15.467404416851029,
           15.283169401141775,
           15.246308969173104,
           15.246191333934446,
           15.191075706272425,
           15.071683662691152,
           14.998293537754126,
           14.961643847503247,
           14.961653569825357,
           14.84261381643563,
           14.751112873963518
          ],
          [
           14.50327631075468,
           14.512663928408752,
           14.55870874724895,
           14.687041493826756,
           14.870147750024907
          ],
          [
           14.512663928408752,
           13.963004367836778,
           13.23069170417199,
           12.965538571979108,
           12.783043452961675
          ],
          [
           17.020279405917243,
           16.971057490557087,
           16.87385494112924,
           16.686518959904525,
           16.562402852486855,
           16.54789188025865,
           16.368524083312014,
           16.326602743248063,
           16.26368407666909,
           16.208179693933307,
           16.20271979228545,
           16.14048850188647,
           16.12560450104649,
           16.110088469131174,
           16.08782424011137,
           16.066762254905576,
           15.94325762549499,
           15.82786489996378,
           15.719244446951707,
           15.684035448838062,
           15.495544230159183,
           15.253887196154642,
           14.992792992720277,
           14.819084325705582,
           14.719121556267826,
           14.605854135810448,
           14.399453689121867,
           14.313124939102053,
           14.134016555385077,
           14.041455870619727,
           13.948806079422294,
           13.81627209004249,
           13.723838651191818,
           13.578699761012434,
           13.361343518156657,
           13.16379201649797,
           13.071612338074473,
           12.992977445863314,
           12.90125730837743,
           12.85553521698238,
           12.624600701957377,
           12.295425243399709,
           12.104521678486636,
           11.841074377830852,
           11.538689266246188,
           11.183128104677753,
           10.71081401836354,
           10.526337901753966,
           10.200676082870165,
           9.716392930834681,
           9.389953479434634,
           9.135980665747653,
           8.940678093198347,
           8.73318221300254,
           8.661735840893256,
           8.43303500573321
          ],
          [
           10.569557014845579,
           10.424265601063,
           10.264937151047286,
           10.083276713091895,
           10.004109245413474,
           9.870503690965485,
           9.854246749918431,
           9.914171182444111,
           9.889541456440226,
           9.859024002435321,
           9.86535461281077,
           9.897387418119893,
           9.906873766259453,
           9.825960918523213,
           9.781574121751708,
           9.67260070427875,
           9.559273010359478,
           9.328229221279472,
           9.261665218686625,
           9.139083333351357,
           9.05760203788762,
           9.050438708552488,
           9.259314038592676,
           9.266847163731082,
           9.303719935606928,
           9.281611533348325,
           9.265307622500234,
           9.250110430103772,
           9.266506358999518,
           9.273698891704147,
           9.337637580642383,
           9.449941025170958,
           9.546779739440854,
           9.608579395507265,
           9.849191208911323,
           10.124120546754556,
           10.392905155940332,
           10.724871215376327,
           10.760307843442297,
           10.881873539180097,
           11.030492978154955,
           11.145238261554834,
           11.193207101131836,
           11.267985014529033,
           11.402364081750749,
           11.622927785727772,
           11.843397061988904,
           12.096458000037966,
           12.263402003439728,
           12.482721634497656,
           12.609884116313983,
           12.90261418947634,
           12.943718714973892,
           13.00460983409954,
           13.071612338074473,
           13.171245269772646,
           13.250903239839008,
           13.323898487487662,
           13.396730130671529,
           13.469345721163759,
           13.568637799402618,
           13.76745034952502,
           13.860261416914954,
           13.939882846956323,
           14.15181201008925,
           14.370332209304793,
           14.50327631075468,
           14.754352647100534,
           15.071683662691152,
           15.284618837628102,
           15.543462027545136,
           15.928713264858269,
           16.214834765716585,
           16.441813448354264,
           16.654133870184335,
           17.04069841593601,
           17.420812659706723,
           17.854689383220904,
           18.40996492516251,
           18.892309419366512,
           19.382177173244266,
           19.791488937172048,
           20.45685272894703,
           20.944570544782536,
           21.148224698935316
          ],
          [
           10.569557014845579,
           10.673170575151888,
           10.876560565626956,
           11.259756492898049,
           11.527746090161846,
           11.685696347048324,
           11.837961670709438,
           12.077860431460067,
           12.237283161126495,
           12.373218504038604,
           12.553997483109143,
           12.78007098807878,
           12.90707439188763,
           13.101781442702162,
           13.199615598262211,
           13.298289324551085,
           13.463769941181537,
           13.614065989090891,
           13.70465935438527,
           13.900302607203702,
           14.340747248323709,
           14.691743394395086,
           14.773826616471544,
           14.863261391089491,
           14.915460286019409,
           15.019672590590101,
           15.153603407191403,
           15.190752722639195,
           15.212930276713587,
           15.287151965282812,
           15.338976361320782,
           15.368461738842946,
           15.69494049162867,
           15.901753226416513,
           16.123413884213,
           16.359904286996773,
           16.52248218231234,
           16.83332296596128,
           16.966751571668702,
           17.020279405917243
          ],
          [
           -0.3061901835717006,
           -0.36370554917555004,
           -0.40765484982989675,
           -0.4869589196396185,
           -0.5778223711493549
          ],
          [
           0.45360812145179785,
           0.5400940713840426,
           0.5674910917826776
          ],
          [
           0.70897820433954,
           0.8411593018577886
          ],
          [
           1.1662816654712862,
           1.2301671953763123,
           1.3798760445105964
          ],
          [
           1.7973869281025145,
           1.728466157974028,
           1.5144121843683689,
           1.3544529959725287
          ],
          [
           1.1662816654712862,
           1.0910658449172015,
           0.970852840476201,
           0.8838768311181954,
           0.791495955076635
          ],
          [
           2.258783144932773,
           2.3401352421862547
          ],
          [
           -0.30499176048950044,
           -0.36709489749188134
          ],
          [
           3.911815587471874,
           3.895961734868306,
           3.880477863241175,
           3.9069914381039568
          ],
          [
           4.292701956894274,
           4.2107254101320715,
           4.2171706791470385,
           3.905770436851696
          ],
          [
           4.503517009391664,
           4.369890106890006
          ],
          [
           4.438322414432476,
           4.180904076280821,
           3.968282917310156,
           3.675944549578405,
           3.6679987948007455
          ],
          [
           4.927025252406417,
           5.072584174977155,
           5.1807629724810385
          ],
          [
           5.069089224655188,
           5.204521859672336,
           5.269507140929562,
           5.34986193540249
          ],
          [
           4.927025252406417,
           4.815149877432306
          ],
          [
           4.868921129659819,
           4.998219659558438
          ],
          [
           4.8260912602433015,
           4.935532476821598,
           5.176695296812518
          ],
          [
           4.483493404793438,
           4.773778343266087
          ],
          [
           4.726080442915825,
           4.815441742805471,
           4.822348037297685,
           4.899732350268025
          ],
          [
           5.024207152551789,
           4.984314178769859,
           4.815441742805471
          ],
          [
           5.024207152551789,
           4.815441742805471
          ],
          [
           5.875940724224147,
           5.899340523387186
          ],
          [
           6.085066903934683,
           5.9798530596484
          ],
          [
           6.209684996706678,
           6.0666574814207195
          ],
          [
           4.784702494097878,
           5.082381451251617
          ],
          [
           5.157817824856276,
           5.144747977537817
          ],
          [
           4.489480634522121,
           4.512566113493785
          ],
          [
           7.6444132858261495,
           7.507640147186124,
           7.327600490200349,
           6.750905467308649
          ],
          [
           6.369832194130908,
           6.286664238744891,
           6.131862156703358
          ],
          [
           0.15137352337782936,
           0.14210270444676754
          ],
          [
           0.0418410392665585,
           0.22281936576447925
          ],
          [
           20.991887530647315,
           20.96540802779111,
           20.95243559316471,
           20.96927547341763,
           20.98184266105826,
           20.950567346773674,
           21.306247633164013,
           21.623892430054287,
           21.839630662048855,
           21.97985979968587,
           22.088429339992235,
           22.18781086518785,
           22.309860262961003,
           22.41432390755184,
           22.591936229020632,
           22.86791429979271,
           23.25877022493044,
           23.454838910965453,
           23.48569408744666,
           23.681735292149252,
           23.772052446246263,
           24.059143392139124,
           24.29609950974215,
           24.656521078441525,
           24.954976142223657,
           25.079465516402124,
           25.292429463182305,
           25.44568884312274,
           25.519502970702128,
           25.649004193591114,
           25.83710521877778,
           25.885130802526213,
           26.1779972249756,
           26.24055034604026,
           26.38833815685997,
           26.44012141363714,
           26.525318938217215,
           26.547211107251574,
           26.763030562083465,
           26.829650206927614
          ],
          [
           16.441813448354264,
           16.55106540191163
          ],
          [
           17.162564301271978,
           17.30844881969663
          ],
          [
           12.783043452961675,
           12.425089771346695,
           12.326056191599498,
           12.094005182199396,
           11.896427110163607,
           11.760898264852012,
           11.585879365783681,
           11.300440490097444,
           11.177718592700744,
           11.026326798029444
          ],
          [
           12.094005182199396,
           11.856476299153124,
           11.775394147037101,
           11.636022993608988,
           11.364521849457931,
           11.201643641390127,
           11.113736014771254
          ],
          [
           15.26726459544348,
           15.089364627905733,
           14.571600927004235,
           14.352276609941281
          ],
          [
           14.961643847503247,
           14.859281938802807
          ]
         ],
         "legendgroup": "",
         "lon": [
          [
           18.213046440668315,
           18.087257902397784,
           17.91569476652558,
           17.817200303952887,
           17.50773679284574,
           17.22418282300657,
           16.948857313724137,
           16.616053020418434,
           16.04904410877524,
           15.841744659228942,
           15.70637612866501,
           15.377087546220903,
           15.121392276187507,
           14.877539520984286,
           14.679520405069844,
           14.500561821482254,
           14.295767041256136,
           13.922565130794613,
           13.69078618365916,
           13.525013861427299,
           13.334860495737113,
           13.039333727117347,
           12.946030318935252,
           12.672854642484722,
           12.42042178971307,
           12.298695599045876,
           12.212762421411211,
           12.209785951135693,
           12.1751840389017,
           12.142409065056416,
           12.147364968051004,
           12.009919976881712,
           11.94831506498644,
           11.961730103110305,
           11.880130315953675,
           11.746578536802815,
           11.64809956373414,
           11.58932880491328,
           11.5014879255088,
           11.37861350657303,
           11.315054761924353,
           11.19616810717134,
           11.06247368313185,
           10.971280419660326,
           10.916237305561234,
           10.815045473368613,
           10.77053894324888,
           10.743818113708206,
           10.692774606553462,
           10.638998851926434,
           10.625170222087746,
           10.629113446884274
          ],
          [
           26.521855400275413,
           26.376682236758896,
           26.286365279783986,
           26.201017039273232,
           26.117038983104806,
           25.950911545928193,
           25.83840636568666,
           25.776294635146428,
           25.734456297871386,
           25.240056161713774,
           24.904225372554794,
           24.646460553251345,
           24.483684595067448,
           24.414695303616437,
           24.342139291186154,
           24.360394162879466,
           24.298149525903053
          ],
          [
           22.592017951197302,
           22.53501758414117,
           21.97035625546291,
           21.94685808255732,
           21.943917775048675,
           22.004063886190966,
           22.014939768437333,
           22.04062438050736,
           22.077442524269284,
           21.953985353630877,
           21.839306708270723,
           21.688859430984678,
           21.60885449092434,
           21.55262546618369,
           21.489236942797522,
           21.419960205621017,
           21.34742607377201,
           21.044354577587534,
           20.96919983683437,
           20.947958285992637,
           20.911128560532656,
           20.830838040834102,
           20.723034269373677,
           20.660568007728326,
           20.620215262040396,
           20.589350249335016,
           20.509349340273815,
           20.447801397415223,
           20.392515211988673,
           20.320582971952376,
           20.2257842139904,
           20.137577603387392,
           20.089906954757954,
           20.087140573155843,
           20.05289232339632,
           19.95616381934026,
           19.872113597148203,
           19.800219040508516,
           19.759560943989054,
           19.706145495692706,
           19.68808677398423,
           19.63009356135117,
           19.551352148337028,
           19.50582460440464,
           19.45083940318564,
           19.388748007074714,
           19.31177990715621,
           19.256126587281216,
           19.170265647569504,
           19.07938750879446,
           19.044850259239553,
           18.975544471274265,
           18.890393295887858,
           18.86848752306256,
           18.815728653325387,
           18.781264206367123,
           18.74662899832007,
           18.709929611720845,
           18.678833716903327,
           18.473701676706543,
           18.29244548816153,
           18.205156782355587,
           18.139483211242098,
           18.075538849712476,
           17.965490296907433,
           17.894326877527647,
           17.82840930080022,
           17.714171217745587,
           17.630163920941637,
           17.557794317316393,
           17.482366684908126,
           17.385691147279523,
           17.258390612410306
          ],
          [
           13.362725505672078,
           13.24592646913259,
           11.90179097755761,
           11.742877647413717,
           11.569132522007772,
           11.403488036041683
          ],
          [
           14.102038190707688,
           13.872194352952137,
           13.667702088957665,
           13.590750356708352,
           13.074154385068612
          ],
          [
           13.482603065758074,
           13.212301036104883,
           13.034665933368927,
           12.634944810475549
          ],
          [
           14.514133331368415,
           14.725212594934701,
           14.795181275485794,
           14.742637017100526,
           14.665301005223286,
           14.656491614497543,
           14.588959494172672,
           14.532675685045286,
           14.42914539285577,
           14.257935730175111,
           14.203543530111014,
           14.152655978096462,
           14.066392921096451,
           13.959792391480645,
           13.879277253702572,
           13.70519921942839,
           13.487304666421117,
           13.383625813184354,
           13.283201284263813,
           13.201570103937993,
           13.167581265270792,
           13.136980733125805,
           13.024750734828082,
           12.925284168137063,
           12.780243938994394,
           12.70565757942662,
           12.612523053795744,
           12.51330197065598,
           12.472425744705069,
           12.409446531607664,
           12.273974921037484,
           12.195983351753446,
           11.58434167751086,
           11.274036269738,
           10.659608984072273,
           10.467249849112797,
           10.277830147614399,
           10.169521794272296,
           10.117425043586646
          ],
          [
           10.373688483568108,
           10.229246424499605,
           10.179675503731158,
           10.129271209774387,
           10.022908891557885,
           9.935805147798522,
           9.75498967676542,
           9.76399362052918,
           9.796919091457854,
           9.711876835847889,
           9.756087705229872,
           9.926675344206862,
           9.91330546893275,
           9.98159068163147,
           10.044247703412127,
           10.117425043586646
          ],
          [
           10.229602520693545,
           10.250007342902661,
           9.926675344206862
          ],
          [
           10.868993739505877,
           10.500275947191767,
           10.19929963971262,
           10.044247703412127
          ],
          [
           14.790647337069244,
           14.760205080246505,
           14.766584622781606,
           14.793662011978485,
           14.75462329249839,
           14.589732683597186,
           14.335977691259956,
           13.969938984956173,
           13.874819101971907,
           13.785117453618565,
           13.697729968370881,
           13.60713609552281,
           13.518509313464508,
           13.363283087222166,
           13.285809488009038,
           13.129814313997588,
           12.88512448242755,
           12.692984550180903,
           12.4523464458951,
           12.186541762772938,
           11.9395700094458,
           11.658347901212577,
           11.305206262396595,
           11.089611098714439,
           10.608798591020909,
           10.385513152509205,
           10.117425043586646
          ],
          [
           13.894276859071038,
           13.620493073412893,
           13.396701627162019,
           13.13888668499082,
           12.92921439944876,
           12.876857157021053,
           12.813890802872606,
           12.651579531413427,
           12.448928919646312,
           12.295994403592129,
           12.100594518508185,
           11.671115426652294,
           11.409054111697227,
           11.20752315171787,
           10.958102452712069,
           10.811363013351723,
           10.500275947191767
          ],
          [
           10.075704690777627,
           9.627062243323541,
           9.249730385993647,
           8.993013048369441,
           8.716393334973604,
           8.40178431170479,
           8.17083740456925
          ],
          [
           9.922157135108804,
           9.762922726638678,
           9.559747267191913,
           9.247243782525501,
           8.903986649674282,
           8.34649082835672,
           8.17083740456925
          ],
          [
           8.17083740456925,
           7.928726925801542,
           7.758646415329887,
           7.663157848068054,
           7.605191167797083,
           7.4454697124259175
          ],
          [
           7.663157848068054,
           7.638969906989001,
           7.636994386790027,
           7.7257100238617475
          ],
          [
           10.075704690777627,
           9.831698472946133,
           9.238519059441062,
           8.581272964630259
          ],
          [
           9.556349654583117,
           9.59371176264036,
           9.639519538227864,
           9.730945225864321,
           9.831461850886821,
           9.840525433472814,
           9.758057313815867,
           9.620678581074234,
           9.510876557635209,
           9.38282460523457,
           9.218168443273768,
           9.153783227309956,
           9.089357084107608,
           9.01592091518655,
           9.042566359176659
          ],
          [
           9.510876557635209,
           9.42880387998196,
           9.163929140783384,
           8.816774305341518,
           8.66140619504171,
           8.478588099039905,
           8.42377299161015,
           8.149579493353,
           7.985043856717236,
           7.646812930138448,
           7.537115842695189,
           7.409109040303731,
           7.271945593733812
          ],
          [
           7.8476313825363935,
           7.655680573235365,
           7.4272005793556035,
           7.253623031360399,
           7.198862926054862
          ],
          [
           7.655680573235365,
           7.627288937873348,
           7.515267462660337,
           7.4410313359159215,
           7.33053754626218
          ],
          [
           17.404780560005147,
           17.299721165420372,
           17.19509530896333,
           16.97241705616818,
           16.8876260084657,
           16.788758008034694,
           16.611853639320692,
           16.486739620829596,
           16.275945312927735,
           16.13767546627715,
           15.207101096291504,
           15.009410721349472,
           14.758660525710729,
           14.36928572780183,
           13.960120712600181,
           13.788580348210262,
           13.300560108963378,
           13.063287925779843,
           12.759905008889683,
           12.159160866292929,
           11.842617344271654,
           11.479752105071563,
           11.129872710206792,
           10.88548219253978,
           10.60804957673152,
           10.442833842682617,
           10.224591850980806,
           10.065934363455435,
           9.761755302453853,
           9.536992250485353,
           9.37824627645248,
           9.245766975894615,
           9.073775257849427,
           8.815739040831602,
           8.425333614772073,
           8.13399424394588,
           8.0147454775483,
           7.842745498906908,
           7.6508800062374025,
           7.5318464405216945,
           7.431662137674679,
           7.205448948099502,
           7.098729467999324,
           6.998079811306882,
           6.831116387767796,
           6.755928936206611,
           6.495096616044008,
           6.353913160343496,
           6.128469005522417,
           5.9002612103801875,
           5.7064045488303385,
           5.513294086591615,
           5.373380810623917,
           5.154583521208778,
           5.094782306053576,
           5.05310347154227
          ],
          [
           20.275717836101393,
           19.99552723651202,
           19.734672906279943,
           19.53895747475754,
           19.405197855389222,
           19.24359224696108,
           19.098418973746167,
           18.948782426961383,
           18.84942880340938,
           18.71702519427995,
           18.506698353637464,
           18.356263159871432,
           17.790760618631037,
           17.49920333617323,
           17.373064459585045,
           17.113691501729985,
           16.775310858759045,
           16.276049297919048,
           16.108883950839946,
           15.764862629963195,
           15.532668571074176,
           15.309070524092816,
           15.097647792972403,
           14.815204401075922,
           14.434872457614667,
           13.974222053154682,
           13.540026178620597,
           13.046721869184635,
           12.31749595962307,
           11.982426211553168,
           11.786004485587911,
           11.519172231703154,
           11.336886881260876,
           11.239378440987272,
           11.197599007439885,
           11.096922004915752,
           10.956317490745096,
           10.572551080723382,
           10.41494336494553,
           10.278186493104846,
           10.095548465608196,
           9.951931856912495,
           9.827265199546451,
           9.67650767638691,
           9.532921282078362,
           9.390076192535478,
           9.240434267284341,
           9.143626560729075,
           9.012979893684586,
           8.968358362238504,
           8.804227051747676,
           8.660765754330342,
           8.416767894159305,
           8.17284911192443,
           8.0147454775483,
           7.949183717413366,
           7.903313531785574,
           7.863999895699803,
           7.864284343271613,
           7.923978722487443,
           7.937537310714084,
           7.898553417937787,
           7.865798644074492,
           7.806573057816194,
           7.793842785122717,
           7.800828484518071,
           7.8476313825363935,
           7.953136531220952,
           8.149579493353,
           8.309766694452327,
           8.48121257601048,
           8.691807933445201,
           8.922113313799995,
           9.042566359176659,
           9.158083754501924,
           9.380525838061434,
           9.569492244497312,
           9.783878044214887,
           10.115004423703423,
           10.393004953390026,
           10.683038063977927,
           10.887649135714465,
           11.231607222085222,
           11.200931132801973,
           11.185263009422794
          ],
          [
           20.275717836101393,
           20.198850620306985,
           20.17538620132266,
           20.169778445603395,
           19.941146217697227,
           19.922879348043434,
           19.812108205154587,
           19.816198299720035,
           19.705157642055266,
           19.643305883913904,
           19.58195427176887,
           19.485463500924812,
           19.508281464460357,
           19.510429863720642,
           19.468814329244125,
           19.341913834067004,
           19.25103829696307,
           19.16699102485064,
           19.053984375335027,
           18.84211062361569,
           18.80155657780618,
           18.62481835595149,
           18.553874450560677,
           18.51842983609328,
           18.404761485460558,
           18.35503553133559,
           18.326549608129447,
           18.276772163449312,
           18.163047521941913,
           18.09188737260779,
           17.992313720012646,
           17.88566311186405,
           17.863453607669914,
           17.6707456959059,
           17.555914687588615,
           17.483379321708128,
           17.446675867742115,
           17.444055626817168,
           17.464092408947845,
           17.404780560005147
          ],
          [
           18.86848752306256,
           18.90076191700685,
           19.000442892197448,
           19.00305293470555,
           19.075091301329085
          ],
          [
           19.07938750879446,
           18.975121042115735,
           18.661279027849336
          ],
          [
           19.224938905587177,
           19.10750222579343
          ],
          [
           19.45083940318564,
           19.326778256560562,
           19.324052709678963
          ],
          [
           20.087140573155843,
           20.10351962721875,
           20.31429269944556,
           20.363185856428604
          ],
          [
           19.45083940318564,
           19.609088152626967,
           19.727170595115137,
           19.861940742158428,
           19.944192785435323
          ],
          [
           20.509349340273815,
           20.460426452221594
          ],
          [
           18.815728653325387,
           18.778252573765116
          ],
          [
           10.51002412519949,
           10.411340315180665,
           10.323173176204397,
           10.231855892226802
          ],
          [
           10.277830147614399,
           10.066770693973512,
           9.873095909198923,
           9.862865421916394
          ],
          [
           9.64480108569891,
           9.75792777267447
          ],
          [
           9.179486964154549,
           9.110361449676441,
           9.080843087939073,
           9.085605841467496,
           9.0438885330487
          ],
          [
           8.456448368923104,
           8.460451628070528,
           8.302094719115594
          ],
          [
           8.12940136087063,
           8.014784027553597,
           8.016338493330315,
           7.958043504603921
          ],
          [
           8.456448368923104,
           8.356663353502464
          ],
          [
           8.79283641376685,
           8.810155674495402
          ],
          [
           9.043788814955608,
           9.05826177617958,
           9.259309974625344
          ],
          [
           9.238519059441062,
           9.249730385993647
          ],
          [
           9.925770012160642,
           9.81332073389678,
           9.58691850236763,
           9.492066969333955
          ],
          [
           9.91330546893275,
           9.781392076856163,
           9.81332073389678
          ],
          [
           9.91330546893275,
           9.81332073389678
          ],
          [
           10.250007342902661,
           10.132115909398841
          ],
          [
           9.51504020522553,
           9.586857267041657
          ],
          [
           9.699516050092576,
           9.663376647991052
          ],
          [
           10.099620241747171,
           10.08514259917478
          ],
          [
           9.919502590727603,
           10.031477833141956
          ],
          [
           10.169521794272296,
           9.831698472946133
          ],
          [
           13.712400929036399,
           13.692346974535148,
           13.595930992213447,
           13.590750356708352
          ],
          [
           13.179212394599658,
           13.252210170833797,
           13.244145946900717
          ],
          [
           14.765872411045095,
           14.947212553014472
          ],
          [
           14.623730797275227,
           14.665301005223286
          ],
          [
           11.19730295322784,
           11.307094265027146,
           11.40343344957048,
           11.491774561176369,
           11.554332680040973,
           11.669532353857452,
           11.979520828062176,
           12.237912810241829,
           12.453970843141466,
           12.6421698691515,
           12.764672766712124,
           12.82465261393326,
           12.887621093566668,
           12.970870563191603,
           13.144797648642156,
           13.42731917442987,
           13.85251419625471,
           14.06641308346981,
           14.186666100105088,
           14.480979945299609,
           14.665016514093868,
           15.120315728191473,
           15.602468175697288,
           16.246953572535556,
           16.735143031580275,
           17.000198290466532,
           17.337370917309848,
           17.48311616699553,
           17.636585719088508,
           17.82351090708878,
           18.01004262644994,
           18.116660172805958,
           18.37849293180544,
           18.46964442453526,
           18.617784013228434,
           18.81549846958649,
           18.938002338924765,
           19.08635175571276,
           19.203909040712517,
           19.3318310794954
          ],
          [
           9.042566359176659,
           9.000421948512283
          ],
          [
           8.350850590951257,
           8.297613126192044
          ],
          [
           7.33053754626218,
           7.15471660706388,
           7.14250703529087,
           6.96646250568082,
           7.019240896108434,
           7.121424198149276,
           7.155075792481357,
           7.1586855966688585,
           7.210025392269532,
           7.208732518621546
          ],
          [
           6.96646250568082,
           6.76705716086396,
           6.7025091522176785,
           6.655021811261307,
           6.379685655306797,
           6.390141983396036,
           6.482535064536766
          ],
          [
           8.749752393657229,
           8.7113813580261,
           8.663026869574203,
           8.826898533999469
          ],
          [
           7.646812930138448,
           7.638438348432586
          ]
         ],
         "marker": {
          "color": "#636efa",
          "symbol": "circle"
         },
         "mode": "markers",
         "name": "",
         "showlegend": false,
         "type": "scattergeo"
        }
       ],
       "layout": {
        "geo": {
         "center": {},
         "domain": {
          "x": [
           0,
           1
          ],
          "y": [
           0,
           1
          ]
         }
        },
        "legend": {
         "tracegroupgap": 0
        },
        "margin": {
         "t": 60
        },
        "template": {
         "data": {
          "bar": [
           {
            "error_x": {
             "color": "#2a3f5f"
            },
            "error_y": {
             "color": "#2a3f5f"
            },
            "marker": {
             "line": {
              "color": "#E5ECF6",
              "width": 0.5
             },
             "pattern": {
              "fillmode": "overlay",
              "size": 10,
              "solidity": 0.2
             }
            },
            "type": "bar"
           }
          ],
          "barpolar": [
           {
            "marker": {
             "line": {
              "color": "#E5ECF6",
              "width": 0.5
             },
             "pattern": {
              "fillmode": "overlay",
              "size": 10,
              "solidity": 0.2
             }
            },
            "type": "barpolar"
           }
          ],
          "carpet": [
           {
            "aaxis": {
             "endlinecolor": "#2a3f5f",
             "gridcolor": "white",
             "linecolor": "white",
             "minorgridcolor": "white",
             "startlinecolor": "#2a3f5f"
            },
            "baxis": {
             "endlinecolor": "#2a3f5f",
             "gridcolor": "white",
             "linecolor": "white",
             "minorgridcolor": "white",
             "startlinecolor": "#2a3f5f"
            },
            "type": "carpet"
           }
          ],
          "choropleth": [
           {
            "colorbar": {
             "outlinewidth": 0,
             "ticks": ""
            },
            "type": "choropleth"
           }
          ],
          "contour": [
           {
            "colorbar": {
             "outlinewidth": 0,
             "ticks": ""
            },
            "colorscale": [
             [
              0,
              "#0d0887"
             ],
             [
              0.1111111111111111,
              "#46039f"
             ],
             [
              0.2222222222222222,
              "#7201a8"
             ],
             [
              0.3333333333333333,
              "#9c179e"
             ],
             [
              0.4444444444444444,
              "#bd3786"
             ],
             [
              0.5555555555555556,
              "#d8576b"
             ],
             [
              0.6666666666666666,
              "#ed7953"
             ],
             [
              0.7777777777777778,
              "#fb9f3a"
             ],
             [
              0.8888888888888888,
              "#fdca26"
             ],
             [
              1,
              "#f0f921"
             ]
            ],
            "type": "contour"
           }
          ],
          "contourcarpet": [
           {
            "colorbar": {
             "outlinewidth": 0,
             "ticks": ""
            },
            "type": "contourcarpet"
           }
          ],
          "heatmap": [
           {
            "colorbar": {
             "outlinewidth": 0,
             "ticks": ""
            },
            "colorscale": [
             [
              0,
              "#0d0887"
             ],
             [
              0.1111111111111111,
              "#46039f"
             ],
             [
              0.2222222222222222,
              "#7201a8"
             ],
             [
              0.3333333333333333,
              "#9c179e"
             ],
             [
              0.4444444444444444,
              "#bd3786"
             ],
             [
              0.5555555555555556,
              "#d8576b"
             ],
             [
              0.6666666666666666,
              "#ed7953"
             ],
             [
              0.7777777777777778,
              "#fb9f3a"
             ],
             [
              0.8888888888888888,
              "#fdca26"
             ],
             [
              1,
              "#f0f921"
             ]
            ],
            "type": "heatmap"
           }
          ],
          "heatmapgl": [
           {
            "colorbar": {
             "outlinewidth": 0,
             "ticks": ""
            },
            "colorscale": [
             [
              0,
              "#0d0887"
             ],
             [
              0.1111111111111111,
              "#46039f"
             ],
             [
              0.2222222222222222,
              "#7201a8"
             ],
             [
              0.3333333333333333,
              "#9c179e"
             ],
             [
              0.4444444444444444,
              "#bd3786"
             ],
             [
              0.5555555555555556,
              "#d8576b"
             ],
             [
              0.6666666666666666,
              "#ed7953"
             ],
             [
              0.7777777777777778,
              "#fb9f3a"
             ],
             [
              0.8888888888888888,
              "#fdca26"
             ],
             [
              1,
              "#f0f921"
             ]
            ],
            "type": "heatmapgl"
           }
          ],
          "histogram": [
           {
            "marker": {
             "pattern": {
              "fillmode": "overlay",
              "size": 10,
              "solidity": 0.2
             }
            },
            "type": "histogram"
           }
          ],
          "histogram2d": [
           {
            "colorbar": {
             "outlinewidth": 0,
             "ticks": ""
            },
            "colorscale": [
             [
              0,
              "#0d0887"
             ],
             [
              0.1111111111111111,
              "#46039f"
             ],
             [
              0.2222222222222222,
              "#7201a8"
             ],
             [
              0.3333333333333333,
              "#9c179e"
             ],
             [
              0.4444444444444444,
              "#bd3786"
             ],
             [
              0.5555555555555556,
              "#d8576b"
             ],
             [
              0.6666666666666666,
              "#ed7953"
             ],
             [
              0.7777777777777778,
              "#fb9f3a"
             ],
             [
              0.8888888888888888,
              "#fdca26"
             ],
             [
              1,
              "#f0f921"
             ]
            ],
            "type": "histogram2d"
           }
          ],
          "histogram2dcontour": [
           {
            "colorbar": {
             "outlinewidth": 0,
             "ticks": ""
            },
            "colorscale": [
             [
              0,
              "#0d0887"
             ],
             [
              0.1111111111111111,
              "#46039f"
             ],
             [
              0.2222222222222222,
              "#7201a8"
             ],
             [
              0.3333333333333333,
              "#9c179e"
             ],
             [
              0.4444444444444444,
              "#bd3786"
             ],
             [
              0.5555555555555556,
              "#d8576b"
             ],
             [
              0.6666666666666666,
              "#ed7953"
             ],
             [
              0.7777777777777778,
              "#fb9f3a"
             ],
             [
              0.8888888888888888,
              "#fdca26"
             ],
             [
              1,
              "#f0f921"
             ]
            ],
            "type": "histogram2dcontour"
           }
          ],
          "mesh3d": [
           {
            "colorbar": {
             "outlinewidth": 0,
             "ticks": ""
            },
            "type": "mesh3d"
           }
          ],
          "parcoords": [
           {
            "line": {
             "colorbar": {
              "outlinewidth": 0,
              "ticks": ""
             }
            },
            "type": "parcoords"
           }
          ],
          "pie": [
           {
            "automargin": true,
            "type": "pie"
           }
          ],
          "scatter": [
           {
            "fillpattern": {
             "fillmode": "overlay",
             "size": 10,
             "solidity": 0.2
            },
            "type": "scatter"
           }
          ],
          "scatter3d": [
           {
            "line": {
             "colorbar": {
              "outlinewidth": 0,
              "ticks": ""
             }
            },
            "marker": {
             "colorbar": {
              "outlinewidth": 0,
              "ticks": ""
             }
            },
            "type": "scatter3d"
           }
          ],
          "scattercarpet": [
           {
            "marker": {
             "colorbar": {
              "outlinewidth": 0,
              "ticks": ""
             }
            },
            "type": "scattercarpet"
           }
          ],
          "scattergeo": [
           {
            "marker": {
             "colorbar": {
              "outlinewidth": 0,
              "ticks": ""
             }
            },
            "type": "scattergeo"
           }
          ],
          "scattergl": [
           {
            "marker": {
             "colorbar": {
              "outlinewidth": 0,
              "ticks": ""
             }
            },
            "type": "scattergl"
           }
          ],
          "scattermapbox": [
           {
            "marker": {
             "colorbar": {
              "outlinewidth": 0,
              "ticks": ""
             }
            },
            "type": "scattermapbox"
           }
          ],
          "scatterpolar": [
           {
            "marker": {
             "colorbar": {
              "outlinewidth": 0,
              "ticks": ""
             }
            },
            "type": "scatterpolar"
           }
          ],
          "scatterpolargl": [
           {
            "marker": {
             "colorbar": {
              "outlinewidth": 0,
              "ticks": ""
             }
            },
            "type": "scatterpolargl"
           }
          ],
          "scatterternary": [
           {
            "marker": {
             "colorbar": {
              "outlinewidth": 0,
              "ticks": ""
             }
            },
            "type": "scatterternary"
           }
          ],
          "surface": [
           {
            "colorbar": {
             "outlinewidth": 0,
             "ticks": ""
            },
            "colorscale": [
             [
              0,
              "#0d0887"
             ],
             [
              0.1111111111111111,
              "#46039f"
             ],
             [
              0.2222222222222222,
              "#7201a8"
             ],
             [
              0.3333333333333333,
              "#9c179e"
             ],
             [
              0.4444444444444444,
              "#bd3786"
             ],
             [
              0.5555555555555556,
              "#d8576b"
             ],
             [
              0.6666666666666666,
              "#ed7953"
             ],
             [
              0.7777777777777778,
              "#fb9f3a"
             ],
             [
              0.8888888888888888,
              "#fdca26"
             ],
             [
              1,
              "#f0f921"
             ]
            ],
            "type": "surface"
           }
          ],
          "table": [
           {
            "cells": {
             "fill": {
              "color": "#EBF0F8"
             },
             "line": {
              "color": "white"
             }
            },
            "header": {
             "fill": {
              "color": "#C8D4E3"
             },
             "line": {
              "color": "white"
             }
            },
            "type": "table"
           }
          ]
         },
         "layout": {
          "annotationdefaults": {
           "arrowcolor": "#2a3f5f",
           "arrowhead": 0,
           "arrowwidth": 1
          },
          "autotypenumbers": "strict",
          "coloraxis": {
           "colorbar": {
            "outlinewidth": 0,
            "ticks": ""
           }
          },
          "colorscale": {
           "diverging": [
            [
             0,
             "#8e0152"
            ],
            [
             0.1,
             "#c51b7d"
            ],
            [
             0.2,
             "#de77ae"
            ],
            [
             0.3,
             "#f1b6da"
            ],
            [
             0.4,
             "#fde0ef"
            ],
            [
             0.5,
             "#f7f7f7"
            ],
            [
             0.6,
             "#e6f5d0"
            ],
            [
             0.7,
             "#b8e186"
            ],
            [
             0.8,
             "#7fbc41"
            ],
            [
             0.9,
             "#4d9221"
            ],
            [
             1,
             "#276419"
            ]
           ],
           "sequential": [
            [
             0,
             "#0d0887"
            ],
            [
             0.1111111111111111,
             "#46039f"
            ],
            [
             0.2222222222222222,
             "#7201a8"
            ],
            [
             0.3333333333333333,
             "#9c179e"
            ],
            [
             0.4444444444444444,
             "#bd3786"
            ],
            [
             0.5555555555555556,
             "#d8576b"
            ],
            [
             0.6666666666666666,
             "#ed7953"
            ],
            [
             0.7777777777777778,
             "#fb9f3a"
            ],
            [
             0.8888888888888888,
             "#fdca26"
            ],
            [
             1,
             "#f0f921"
            ]
           ],
           "sequentialminus": [
            [
             0,
             "#0d0887"
            ],
            [
             0.1111111111111111,
             "#46039f"
            ],
            [
             0.2222222222222222,
             "#7201a8"
            ],
            [
             0.3333333333333333,
             "#9c179e"
            ],
            [
             0.4444444444444444,
             "#bd3786"
            ],
            [
             0.5555555555555556,
             "#d8576b"
            ],
            [
             0.6666666666666666,
             "#ed7953"
            ],
            [
             0.7777777777777778,
             "#fb9f3a"
            ],
            [
             0.8888888888888888,
             "#fdca26"
            ],
            [
             1,
             "#f0f921"
            ]
           ]
          },
          "colorway": [
           "#636efa",
           "#EF553B",
           "#00cc96",
           "#ab63fa",
           "#FFA15A",
           "#19d3f3",
           "#FF6692",
           "#B6E880",
           "#FF97FF",
           "#FECB52"
          ],
          "font": {
           "color": "#2a3f5f"
          },
          "geo": {
           "bgcolor": "white",
           "lakecolor": "white",
           "landcolor": "#E5ECF6",
           "showlakes": true,
           "showland": true,
           "subunitcolor": "white"
          },
          "hoverlabel": {
           "align": "left"
          },
          "hovermode": "closest",
          "mapbox": {
           "style": "light"
          },
          "paper_bgcolor": "white",
          "plot_bgcolor": "#E5ECF6",
          "polar": {
           "angularaxis": {
            "gridcolor": "white",
            "linecolor": "white",
            "ticks": ""
           },
           "bgcolor": "#E5ECF6",
           "radialaxis": {
            "gridcolor": "white",
            "linecolor": "white",
            "ticks": ""
           }
          },
          "scene": {
           "xaxis": {
            "backgroundcolor": "#E5ECF6",
            "gridcolor": "white",
            "gridwidth": 2,
            "linecolor": "white",
            "showbackground": true,
            "ticks": "",
            "zerolinecolor": "white"
           },
           "yaxis": {
            "backgroundcolor": "#E5ECF6",
            "gridcolor": "white",
            "gridwidth": 2,
            "linecolor": "white",
            "showbackground": true,
            "ticks": "",
            "zerolinecolor": "white"
           },
           "zaxis": {
            "backgroundcolor": "#E5ECF6",
            "gridcolor": "white",
            "gridwidth": 2,
            "linecolor": "white",
            "showbackground": true,
            "ticks": "",
            "zerolinecolor": "white"
           }
          },
          "shapedefaults": {
           "line": {
            "color": "#2a3f5f"
           }
          },
          "ternary": {
           "aaxis": {
            "gridcolor": "white",
            "linecolor": "white",
            "ticks": ""
           },
           "baxis": {
            "gridcolor": "white",
            "linecolor": "white",
            "ticks": ""
           },
           "bgcolor": "#E5ECF6",
           "caxis": {
            "gridcolor": "white",
            "linecolor": "white",
            "ticks": ""
           }
          },
          "title": {
           "x": 0.05
          },
          "xaxis": {
           "automargin": true,
           "gridcolor": "white",
           "linecolor": "white",
           "ticks": "",
           "title": {
            "standoff": 15
           },
           "zerolinecolor": "white",
           "zerolinewidth": 2
          },
          "yaxis": {
           "automargin": true,
           "gridcolor": "white",
           "linecolor": "white",
           "ticks": "",
           "title": {
            "standoff": 15
           },
           "zerolinecolor": "white",
           "zerolinewidth": 2
          }
         }
        }
       }
      },
      "text/html": [
       "<div>                            <div id=\"bf2d6711-e283-497c-ad24-799f5c9deb6f\" class=\"plotly-graph-div\" style=\"height:525px; width:100%;\"></div>            <script type=\"text/javascript\">                require([\"plotly\"], function(Plotly) {                    window.PLOTLYENV=window.PLOTLYENV || {};                                    if (document.getElementById(\"bf2d6711-e283-497c-ad24-799f5c9deb6f\")) {                    Plotly.newPlot(                        \"bf2d6711-e283-497c-ad24-799f5c9deb6f\",                        [{\"geo\":\"geo\",\"geojson\":{\"type\":\"FeatureCollection\",\"features\":[{\"id\":\"0\",\"type\":\"Feature\",\"properties\":{},\"geometry\":{\"type\":\"LineString\",\"coordinates\":[[-9.81494915677432,18.213046440668315],[-9.795984071034358,18.087257902397784],[-9.770370517522617,17.91569476652558],[-9.548568598787226,17.817200303952887],[-9.503829658947524,17.50773679284574],[-9.439346967702484,17.22418282300657],[-9.40111225802564,16.948857313724137],[-9.355855745325456,16.616053020418434],[-9.124252026083404,16.04904410877524],[-9.001368521755754,15.841744659228942],[-8.9603177778095,15.70637612866501],[-8.775357429397602,15.377087546220903],[-8.552218599187073,15.121392276187507],[-8.427639600115098,14.877539520984286],[-8.308912624201778,14.679520405069844],[-8.228846249480144,14.500561821482254],[-8.170372427241062,14.295767041256136],[-8.154452785547711,13.922565130794613],[-8.130235290980082,13.69078618365916],[-8.029411682493613,13.525013861427299],[-8.058055602125878,13.334860495737113],[-8.08844317848133,13.039333727117347],[-7.959970812126055,12.946030318935252],[-7.874181175159673,12.672854642484722],[-7.683717914944191,12.42042178971307],[-7.601085340340569,12.298695599045876],[-7.509876391608225,12.212762421411211],[-7.27084590947202,12.209785951135693],[-7.124386415216574,12.1751840389017],[-6.9540716406684515,12.142409065056416],[-6.894647600808603,12.147364968051004],[-6.703310210583393,12.009919976881712],[-6.590316633983562,11.94831506498644],[-6.423559986147381,11.961730103110305],[-6.260851949350728,11.880130315953675],[-6.154032922209693,11.746578536802815],[-6.050157509530457,11.64809956373414],[-5.994267071090621,11.58932880491328],[-6.016536999892994,11.5014879255088],[-6.123395760216581,11.37861350657303],[-6.205686492912038,11.315054761924353],[-6.184942193531838,11.19616810717134],[-6.0528408420425945,11.06247368313185],[-5.964712264789466,10.971280419660326],[-5.931605771149707,10.916237305561234],[-5.900983048274086,10.815045473368613],[-5.798988070931479,10.77053894324888],[-5.605182540289556,10.743818113708206],[-5.426965525783253,10.692774606553462],[-5.37080807053647,10.638998851926434],[-5.148404856073719,10.625170222087746],[-5.0028257135395275,10.629113446884274]]},\"bbox\":[-9.81494915677432,10.625170222087746,-5.0028257135395275,18.213046440668315]},{\"id\":\"1\",\"type\":\"Feature\",\"properties\":{},\"geometry\":{\"type\":\"LineString\",\"coordinates\":[[4.262228361072035,26.521855400275413],[4.3686287586727675,26.376682236758896],[4.402728053496698,26.286365279783986],[4.441441856011634,26.201017039273232],[4.562266104640297,26.117038983104806],[4.70558083372755,25.950911545928193],[4.756515956620007,25.83840636568666],[4.797835224837899,25.776294635146428],[4.929713366401779,25.734456297871386],[4.971258436399019,25.240056161713774],[4.953000392277002,24.904225372554794],[4.989194981692141,24.646460553251345],[4.987017530913306,24.483684595067448],[4.997598465560067,24.414695303616437],[5.094658302301744,24.342139291186154],[5.595707988052201,24.360394162879466],[5.717092490786353,24.298149525903053]]},\"bbox\":[4.262228361072035,24.298149525903053,5.717092490786353,26.521855400275413]},{\"id\":\"2\",\"type\":\"Feature\",\"properties\":{},\"geometry\":{\"type\":\"LineString\",\"coordinates\":[[4.6458194437996125,22.592017951197302],[4.1143814790158055,22.53501758414117],[4.123952935974435,21.97035625546291],[3.9877296557144257,21.94685808255732],[3.8921317453261848,21.943917775048675],[3.676559941135227,22.004063886190966],[3.476438103612458,22.014939768437333],[3.386218281991184,22.04062438050736],[3.3027134475203304,22.077442524269284],[3.22496801461165,21.953985353630877],[3.169528866000391,21.839306708270723],[3.06367987858591,21.688859430984678],[2.994059886969721,21.60885449092434],[2.9568245483014217,21.55262546618369],[2.8706835829376263,21.489236942797522],[2.8498473789573464,21.419960205621017],[2.833094174764438,21.34742607377201],[2.4939229813929846,21.044354577587534],[2.488913039397725,20.96919983683437],[2.484475549233329,20.947958285992637],[2.4649945597279097,20.911128560532656],[2.4448793204446315,20.830838040834102],[2.4144350931743777,20.723034269373677],[2.3738789355306875,20.660568007728326],[2.3109724469555655,20.620215262040396],[2.275703093211956,20.589350249335016],[2.258783144932773,20.509349340273815],[2.2103678447436637,20.447801397415223],[2.166184343069512,20.392515211988673],[2.137597442683284,20.320582971952376],[2.081056050669104,20.2257842139904],[1.9737251066850843,20.137577603387392],[1.8889093701317499,20.089906954757954],[1.7973869281025145,20.087140573155843],[1.7955970055495911,20.05289232339632],[1.7912626770958913,19.95616381934026],[1.7779896583684967,19.872113597148203],[1.7292174622995555,19.800219040508516],[1.662183333131044,19.759560943989054],[1.6084784008253736,19.706145495692706],[1.5761980976556667,19.68808677398423],[1.51370442032002,19.63009356135117],[1.4118679237542044,19.551352148337028],[1.2811298022313027,19.50582460440464],[1.1662816654712862,19.45083940318564],[1.0969645933866858,19.388748007074714],[0.9282882847046233,19.31177990715621],[0.7617059330782415,19.256126587281216],[0.6166227418541871,19.170265647569504],[0.45360812145179785,19.07938750879446],[0.07414797353494591,19.044850259239553],[-0.03821130252334439,18.975544471274265],[-0.17120744442827934,18.890393295887858],[-0.3061901835717006,18.86848752306256],[-0.30499176048950044,18.815728653325387],[-0.253698898386019,18.781264206367123],[-0.16170406737590745,18.74662899832007],[-0.05103226227166229,18.709929611720845],[-0.00010587881975591379,18.678833716903327],[0.0367344785339645,18.473701676706543],[0.06381190238205259,18.29244548816153],[0.0308474500773999,18.205156782355587],[0.04764425007160192,18.139483211242098],[0.08638570368638188,18.075538849712476],[0.077436204129211,17.965490296907433],[0.024603408359726242,17.894326877527647],[-0.006560084955930519,17.82840930080022],[-0.1144876818874544,17.714171217745587],[-0.10730146500019072,17.630163920941637],[-0.08644885165499437,17.557794317316393],[-0.01396419838606385,17.482366684908126],[0.10427759316531582,17.385691147279523],[0.23957207779015025,17.258390612410306]]},\"bbox\":[-0.3061901835717006,17.258390612410306,4.6458194437996125,22.592017951197302]},{\"id\":\"3\",\"type\":\"Feature\",\"properties\":{},\"geometry\":{\"type\":\"LineString\",\"coordinates\":[[8.961781147790548,13.362725505672078],[8.92244448777601,13.24592646913259],[8.949880994837686,11.90179097755761],[9.066770619978499,11.742877647413717],[9.07047068188145,11.569132522007772],[9.065553734904599,11.403488036041683]]},\"bbox\":[8.92244448777601,11.403488036041683,9.07047068188145,13.362725505672078]},{\"id\":\"4\",\"type\":\"Feature\",\"properties\":{},\"geometry\":{\"type\":\"LineString\",\"coordinates\":[[6.500915482400792,14.102038190707688],[6.534043753520675,13.872194352952137],[6.748216790760407,13.667702088957665],[6.750905467308649,13.590750356708352],[6.272718800037869,13.074154385068612]]},\"bbox\":[6.272718800037869,13.074154385068612,6.750905467308649,14.102038190707688]},{\"id\":\"5\",\"type\":\"Feature\",\"properties\":{},\"geometry\":{\"type\":\"LineString\",\"coordinates\":[[6.4005458516388956,13.482603065758074],[6.096020448060354,13.212301036104883],[5.965198595609629,13.034665933368927],[5.940430639470863,12.634944810475549]]},\"bbox\":[5.940430639470863,12.634944810475549,6.4005458516388956,13.482603065758074]},{\"id\":\"6\",\"type\":\"Feature\",\"properties\":{},\"geometry\":{\"type\":\"LineString\",\"coordinates\":[[-0.21208838405660757,14.514133331368415],[-0.013930368164771615,14.725212594934701],[0.11687349002245637,14.795181275485794],[0.17870645235978636,14.742637017100526],[0.22281936576447925,14.665301005223286],[0.37857822068984986,14.656491614497543],[0.5043883091069086,14.588959494172672],[0.5857490708803108,14.532675685045286],[0.592579139323077,14.42914539285577],[0.574688769210925,14.257935730175111],[0.6121179254882808,14.203543530111014],[0.7074172427150803,14.152655978096462],[0.766176680138318,14.066392921096451],[0.8019300687351937,13.959792391480645],[0.8795512733839895,13.879277253702572],[0.8950702880521128,13.70519921942839],[0.8888978470188315,13.487304666421117],[0.895085647608696,13.383625813184354],[0.9589693774165997,13.283201284263813],[1.0216767439341432,13.201570103937993],[1.0912414705638602,13.167581265270792],[1.2233953950237504,13.136980733125805],[1.2490633772505768,13.024750734828082],[1.336702455388603,12.925284168137063],[1.4605269003890384,12.780243938994394],[1.5755813014752238,12.70565757942662],[1.701220978973045,12.612523053795744],[1.8029569940045442,12.51330197065598],[1.935433065673858,12.472425744705069],[2.006241652604442,12.409446531607664],[2.0516557119299,12.273974921037484],[2.108611687942066,12.195983351753446],[2.7742694053387162,11.58434167751086],[3.096489029802737,11.274036269738],[3.733653448925231,10.659608984072273],[3.9626728793053765,10.467249849112797],[4.292701956894274,10.277830147614399],[4.489480634522121,10.169521794272296],[4.655403558969052,10.117425043586646]]},\"bbox\":[-0.21208838405660757,10.117425043586646,4.655403558969052,14.795181275485794]},{\"id\":\"7\",\"type\":\"Feature\",\"properties\":{},\"geometry\":{\"type\":\"LineString\",\"coordinates\":[[7.091937401781244,10.373688483568108],[7.09556009403301,10.229246424499605],[7.03843883589238,10.179675503731158],[6.947333150165864,10.129271209774387],[6.930554443488472,10.022908891557885],[6.913284179470295,9.935805147798522],[6.607142549590389,9.75498967676542],[6.204484827777973,9.76399362052918],[5.995264624738364,9.796919091457854],[5.692598317349557,9.711876835847889],[5.555883900899036,9.756087705229872],[5.31389933797427,9.926675344206862],[5.024207152551789,9.91330546893275],[4.906121325014561,9.98159068163147],[4.764031628144091,10.044247703412127],[4.655403558969052,10.117425043586646]]},\"bbox\":[4.655403558969052,9.711876835847889,7.09556009403301,10.373688483568108]},{\"id\":\"8\",\"type\":\"Feature\",\"properties\":{},\"geometry\":{\"type\":\"LineString\",\"coordinates\":[[6.356899607157587,10.229602520693545],[5.875940724224147,10.250007342902661],[5.31389933797427,9.926675344206862]]},\"bbox\":[5.31389933797427,9.926675344206862,6.356899607157587,10.250007342902661]},{\"id\":\"9\",\"type\":\"Feature\",\"properties\":{},\"geometry\":{\"type\":\"LineString\",\"coordinates\":[[5.386431814004623,10.868993739505877],[4.947619019234529,10.500275947191767],[4.821905500454319,10.19929963971262],[4.764031628144091,10.044247703412127]]},\"bbox\":[4.764031628144091,10.044247703412127,5.386431814004623,10.868993739505877]},{\"id\":\"10\",\"type\":\"Feature\",\"properties\":{},\"geometry\":{\"type\":\"LineString\",\"coordinates\":[[2.9932099105468235,14.790647337069244],[3.0487950165705047,14.760205080246505],[3.1709520057911127,14.766584622781606],[3.233197365834989,14.793662011978485],[3.3088689560932623,14.75462329249839],[3.445155498039,14.589732683597186],[3.7229174757113226,14.335977691259956],[3.7607624826469634,13.969938984956173],[3.873008381780269,13.874819101971907],[3.8968821233626048,13.785117453618565],[3.8668373895222046,13.697729968370881],[3.871140542990884,13.60713609552281],[3.9192732694518044,13.518509313464508],[3.9753030769411812,13.363283087222166],[4.0618240349470325,13.285809488009038],[4.1030008858003235,13.129814313997588],[4.196669432144587,12.88512448242755],[4.292624253669961,12.692984550180903],[4.375724158778526,12.4523464458951],[4.4303139614289115,12.186541762772938],[4.478974704532521,11.9395700094458],[4.509231471654536,11.658347901212577],[4.53697001016055,11.305206262396595],[4.530263552601255,11.089611098714439],[4.605223077798108,10.608798591020909],[4.65627501007733,10.385513152509205],[4.655403558969052,10.117425043586646]]},\"bbox\":[2.9932099105468235,10.117425043586646,4.65627501007733,14.793662011978485]},{\"id\":\"11\",\"type\":\"Feature\",\"properties\":{},\"geometry\":{\"type\":\"LineString\",\"coordinates\":[[5.819481504866904,13.894276859071038],[5.44236202165217,13.620493073412893],[5.118118415134382,13.396701627162019],[4.6641011999699415,13.13888668499082],[4.453256746758761,12.92921439944876],[4.460354185298572,12.876857157021053],[4.560563800822504,12.813890802872606],[4.57215258971382,12.651579531413427],[4.5316903288122194,12.448928919646312],[4.5378486936597655,12.295994403592129],[4.560189972052209,12.100594518508185],[4.596154842917261,11.671115426652294],[4.630174172762794,11.409054111697227],[4.753892195265657,11.20752315171787],[4.883842388437819,10.958102452712069],[4.937302674230161,10.811363013351723],[4.947619019234529,10.500275947191767]]},\"bbox\":[4.453256746758761,10.500275947191767,5.819481504866904,13.894276859071038]},{\"id\":\"12\",\"type\":\"Feature\",\"properties\":{},\"geometry\":{\"type\":\"LineString\",\"coordinates\":[[4.717354715502067,10.075704690777627],[4.7432292090652,9.627062243323541],[4.773778343266087,9.249730385993647],[4.838957924122488,8.993013048369441],[4.8803211067140255,8.716393334973604],[4.9368110007539405,8.40178431170479],[5.086982379141529,8.17083740456925]]},\"bbox\":[4.717354715502067,8.17083740456925,5.086982379141529,10.075704690777627]},{\"id\":\"13\",\"type\":\"Feature\",\"properties\":{},\"geometry\":{\"type\":\"LineString\",\"coordinates\":[[6.369997639146953,9.922157135108804],[6.253563849149779,9.762922726638678],[6.112979098566014,9.559747267191913],[5.917897490062154,9.247243782525501],[5.6369063730429545,8.903986649674282],[5.2124834633401385,8.34649082835672],[5.086982379141529,8.17083740456925]]},\"bbox\":[5.086982379141529,8.17083740456925,6.369997639146953,9.922157135108804]},{\"id\":\"14\",\"type\":\"Feature\",\"properties\":{},\"geometry\":{\"type\":\"LineString\",\"coordinates\":[[5.086982379141529,8.17083740456925],[4.9824031082750055,7.928726925801542],[4.880875063270183,7.758646415329887],[4.892767567828577,7.663157848068054],[5.0765707327525735,7.605191167797083],[5.435638271598069,7.4454697124259175]]},\"bbox\":[4.880875063270183,7.4454697124259175,5.435638271598069,8.17083740456925]},{\"id\":\"15\",\"type\":\"Feature\",\"properties\":{},\"geometry\":{\"type\":\"LineString\",\"coordinates\":[[4.892767567828577,7.663157848068054],[4.682220176406688,7.638969906989001],[4.600734904258764,7.636994386790027],[4.512227443036049,7.7257100238617475]]},\"bbox\":[4.512227443036049,7.636994386790027,4.892767567828577,7.7257100238617475]},{\"id\":\"16\",\"type\":\"Feature\",\"properties\":{},\"geometry\":{\"type\":\"LineString\",\"coordinates\":[[4.717354715502067,10.075704690777627],[4.512566113493785,9.831698472946133],[4.483493404793438,9.238519059441062],[3.98065321198871,8.581272964630259]]},\"bbox\":[3.98065321198871,8.581272964630259,4.717354715502067,10.075704690777627]},{\"id\":\"17\",\"type\":\"Feature\",\"properties\":{},\"geometry\":{\"type\":\"LineString\",\"coordinates\":[[14.197147852222184,9.556349654583117],[14.703574389269859,9.59371176264036],[14.878542734610662,9.639519538227864],[14.998285467300791,9.730945225864321],[15.136529074562672,9.831461850886821],[15.265563493437556,9.840525433472814],[15.458993574342465,9.758057313815867],[15.633799008875854,9.620678581074234],[15.698044424575121,9.510876557635209],[15.743803873926268,9.38282460523457],[15.807849493564511,9.218168443273768],[15.973251940840536,9.153783227309956],[16.129393379069082,9.089357084107608],[16.23028515586816,9.01592091518655],[16.441813448354264,9.042566359176659]]},\"bbox\":[14.197147852222184,9.01592091518655,16.441813448354264,9.840525433472814]},{\"id\":\"18\",\"type\":\"Feature\",\"properties\":{},\"geometry\":{\"type\":\"LineString\",\"coordinates\":[[15.698044424575121,9.510876557635209],[15.596625823095085,9.42880387998196],[15.467404416851029,9.163929140783384],[15.283169401141775,8.816774305341518],[15.246308969173104,8.66140619504171],[15.246191333934446,8.478588099039905],[15.191075706272425,8.42377299161015],[15.071683662691152,8.149579493353],[14.998293537754126,7.985043856717236],[14.961643847503247,7.646812930138448],[14.961653569825357,7.537115842695189],[14.84261381643563,7.409109040303731],[14.751112873963518,7.271945593733812]]},\"bbox\":[14.751112873963518,7.271945593733812,15.698044424575121,9.510876557635209]},{\"id\":\"19\",\"type\":\"Feature\",\"properties\":{},\"geometry\":{\"type\":\"LineString\",\"coordinates\":[[14.50327631075468,7.8476313825363935],[14.512663928408752,7.655680573235365],[14.55870874724895,7.4272005793556035],[14.687041493826756,7.253623031360399],[14.870147750024907,7.198862926054862]]},\"bbox\":[14.50327631075468,7.198862926054862,14.870147750024907,7.8476313825363935]},{\"id\":\"20\",\"type\":\"Feature\",\"properties\":{},\"geometry\":{\"type\":\"LineString\",\"coordinates\":[[14.512663928408752,7.655680573235365],[13.963004367836778,7.627288937873348],[13.23069170417199,7.515267462660337],[12.965538571979108,7.4410313359159215],[12.783043452961675,7.33053754626218]]},\"bbox\":[12.783043452961675,7.33053754626218,14.512663928408752,7.655680573235365]},{\"id\":\"21\",\"type\":\"Feature\",\"properties\":{},\"geometry\":{\"type\":\"LineString\",\"coordinates\":[[17.020279405917243,17.404780560005147],[16.971057490557087,17.299721165420372],[16.87385494112924,17.19509530896333],[16.686518959904525,16.97241705616818],[16.562402852486855,16.8876260084657],[16.54789188025865,16.788758008034694],[16.368524083312014,16.611853639320692],[16.326602743248063,16.486739620829596],[16.26368407666909,16.275945312927735],[16.208179693933307,16.13767546627715],[16.20271979228545,15.207101096291504],[16.14048850188647,15.009410721349472],[16.12560450104649,14.758660525710729],[16.110088469131174,14.36928572780183],[16.08782424011137,13.960120712600181],[16.066762254905576,13.788580348210262],[15.94325762549499,13.300560108963378],[15.82786489996378,13.063287925779843],[15.719244446951707,12.759905008889683],[15.684035448838062,12.159160866292929],[15.495544230159183,11.842617344271654],[15.253887196154642,11.479752105071563],[14.992792992720277,11.129872710206792],[14.819084325705582,10.88548219253978],[14.719121556267826,10.60804957673152],[14.605854135810448,10.442833842682617],[14.399453689121867,10.224591850980806],[14.313124939102053,10.065934363455435],[14.134016555385077,9.761755302453853],[14.041455870619727,9.536992250485353],[13.948806079422294,9.37824627645248],[13.81627209004249,9.245766975894615],[13.723838651191818,9.073775257849427],[13.578699761012434,8.815739040831602],[13.361343518156657,8.425333614772073],[13.16379201649797,8.13399424394588],[13.071612338074473,8.0147454775483],[12.992977445863314,7.842745498906908],[12.90125730837743,7.6508800062374025],[12.85553521698238,7.5318464405216945],[12.624600701957377,7.431662137674679],[12.295425243399709,7.205448948099502],[12.104521678486636,7.098729467999324],[11.841074377830852,6.998079811306882],[11.538689266246188,6.831116387767796],[11.183128104677753,6.755928936206611],[10.71081401836354,6.495096616044008],[10.526337901753966,6.353913160343496],[10.200676082870165,6.128469005522417],[9.716392930834681,5.9002612103801875],[9.389953479434634,5.7064045488303385],[9.135980665747653,5.513294086591615],[8.940678093198347,5.373380810623917],[8.73318221300254,5.154583521208778],[8.661735840893256,5.094782306053576],[8.43303500573321,5.05310347154227]]},\"bbox\":[8.43303500573321,5.05310347154227,17.020279405917243,17.404780560005147]},{\"id\":\"22\",\"type\":\"Feature\",\"properties\":{},\"geometry\":{\"type\":\"LineString\",\"coordinates\":[[10.569557014845579,20.275717836101393],[10.424265601063,19.99552723651202],[10.264937151047286,19.734672906279943],[10.083276713091895,19.53895747475754],[10.004109245413474,19.405197855389222],[9.870503690965485,19.24359224696108],[9.854246749918431,19.098418973746167],[9.914171182444111,18.948782426961383],[9.889541456440226,18.84942880340938],[9.859024002435321,18.71702519427995],[9.86535461281077,18.506698353637464],[9.897387418119893,18.356263159871432],[9.906873766259453,17.790760618631037],[9.825960918523213,17.49920333617323],[9.781574121751708,17.373064459585045],[9.67260070427875,17.113691501729985],[9.559273010359478,16.775310858759045],[9.328229221279472,16.276049297919048],[9.261665218686625,16.108883950839946],[9.139083333351357,15.764862629963195],[9.05760203788762,15.532668571074176],[9.050438708552488,15.309070524092816],[9.259314038592676,15.097647792972403],[9.266847163731082,14.815204401075922],[9.303719935606928,14.434872457614667],[9.281611533348325,13.974222053154682],[9.265307622500234,13.540026178620597],[9.250110430103772,13.046721869184635],[9.266506358999518,12.31749595962307],[9.273698891704147,11.982426211553168],[9.337637580642383,11.786004485587911],[9.449941025170958,11.519172231703154],[9.546779739440854,11.336886881260876],[9.608579395507265,11.239378440987272],[9.849191208911323,11.197599007439885],[10.124120546754556,11.096922004915752],[10.392905155940332,10.956317490745096],[10.724871215376327,10.572551080723382],[10.760307843442297,10.41494336494553],[10.881873539180097,10.278186493104846],[11.030492978154955,10.095548465608196],[11.145238261554834,9.951931856912495],[11.193207101131836,9.827265199546451],[11.267985014529033,9.67650767638691],[11.402364081750749,9.532921282078362],[11.622927785727772,9.390076192535478],[11.843397061988904,9.240434267284341],[12.096458000037966,9.143626560729075],[12.263402003439728,9.012979893684586],[12.482721634497656,8.968358362238504],[12.609884116313983,8.804227051747676],[12.90261418947634,8.660765754330342],[12.943718714973892,8.416767894159305],[13.00460983409954,8.17284911192443],[13.071612338074473,8.0147454775483],[13.171245269772646,7.949183717413366],[13.250903239839008,7.903313531785574],[13.323898487487662,7.863999895699803],[13.396730130671529,7.864284343271613],[13.469345721163759,7.923978722487443],[13.568637799402618,7.937537310714084],[13.76745034952502,7.898553417937787],[13.860261416914954,7.865798644074492],[13.939882846956323,7.806573057816194],[14.15181201008925,7.793842785122717],[14.370332209304793,7.800828484518071],[14.50327631075468,7.8476313825363935],[14.754352647100534,7.953136531220952],[15.071683662691152,8.149579493353],[15.284618837628102,8.309766694452327],[15.543462027545136,8.48121257601048],[15.928713264858269,8.691807933445201],[16.214834765716585,8.922113313799995],[16.441813448354264,9.042566359176659],[16.654133870184335,9.158083754501924],[17.04069841593601,9.380525838061434],[17.420812659706723,9.569492244497312],[17.854689383220904,9.783878044214887],[18.40996492516251,10.115004423703423],[18.892309419366512,10.393004953390026],[19.382177173244266,10.683038063977927],[19.791488937172048,10.887649135714465],[20.45685272894703,11.231607222085222],[20.944570544782536,11.200931132801973],[21.148224698935316,11.185263009422794]]},\"bbox\":[9.050438708552488,7.793842785122717,21.148224698935316,20.275717836101393]},{\"id\":\"23\",\"type\":\"Feature\",\"properties\":{},\"geometry\":{\"type\":\"LineString\",\"coordinates\":[[10.569557014845579,20.275717836101393],[10.673170575151888,20.198850620306985],[10.876560565626956,20.17538620132266],[11.259756492898049,20.169778445603395],[11.527746090161846,19.941146217697227],[11.685696347048324,19.922879348043434],[11.837961670709438,19.812108205154587],[12.077860431460067,19.816198299720035],[12.237283161126495,19.705157642055266],[12.373218504038604,19.643305883913904],[12.553997483109143,19.58195427176887],[12.78007098807878,19.485463500924812],[12.90707439188763,19.508281464460357],[13.101781442702162,19.510429863720642],[13.199615598262211,19.468814329244125],[13.298289324551085,19.341913834067004],[13.463769941181537,19.25103829696307],[13.614065989090891,19.16699102485064],[13.70465935438527,19.053984375335027],[13.900302607203702,18.84211062361569],[14.340747248323709,18.80155657780618],[14.691743394395086,18.62481835595149],[14.773826616471544,18.553874450560677],[14.863261391089491,18.51842983609328],[14.915460286019409,18.404761485460558],[15.019672590590101,18.35503553133559],[15.153603407191403,18.326549608129447],[15.190752722639195,18.276772163449312],[15.212930276713587,18.163047521941913],[15.287151965282812,18.09188737260779],[15.338976361320782,17.992313720012646],[15.368461738842946,17.88566311186405],[15.69494049162867,17.863453607669914],[15.901753226416513,17.6707456959059],[16.123413884213,17.555914687588615],[16.359904286996773,17.483379321708128],[16.52248218231234,17.446675867742115],[16.83332296596128,17.444055626817168],[16.966751571668702,17.464092408947845],[17.020279405917243,17.404780560005147]]},\"bbox\":[10.569557014845579,17.404780560005147,17.020279405917243,20.275717836101393]},{\"id\":\"24\",\"type\":\"Feature\",\"properties\":{},\"geometry\":{\"type\":\"LineString\",\"coordinates\":[[-0.3061901835717006,18.86848752306256],[-0.36370554917555004,18.90076191700685],[-0.40765484982989675,19.000442892197448],[-0.4869589196396185,19.00305293470555],[-0.5778223711493549,19.075091301329085]]},\"bbox\":[-0.5778223711493549,18.86848752306256,-0.3061901835717006,19.075091301329085]},{\"id\":\"25\",\"type\":\"Feature\",\"properties\":{},\"geometry\":{\"type\":\"LineString\",\"coordinates\":[[0.45360812145179785,19.07938750879446],[0.5400940713840426,18.975121042115735],[0.5674910917826776,18.661279027849336]]},\"bbox\":[0.45360812145179785,18.661279027849336,0.5674910917826776,19.07938750879446]},{\"id\":\"26\",\"type\":\"Feature\",\"properties\":{},\"geometry\":{\"type\":\"LineString\",\"coordinates\":[[0.70897820433954,19.224938905587177],[0.8411593018577886,19.10750222579343]]},\"bbox\":[0.70897820433954,19.10750222579343,0.8411593018577886,19.224938905587177]},{\"id\":\"27\",\"type\":\"Feature\",\"properties\":{},\"geometry\":{\"type\":\"LineString\",\"coordinates\":[[1.1662816654712862,19.45083940318564],[1.2301671953763123,19.326778256560562],[1.3798760445105964,19.324052709678963]]},\"bbox\":[1.1662816654712862,19.324052709678963,1.3798760445105964,19.45083940318564]},{\"id\":\"28\",\"type\":\"Feature\",\"properties\":{},\"geometry\":{\"type\":\"LineString\",\"coordinates\":[[1.7973869281025145,20.087140573155843],[1.728466157974028,20.10351962721875],[1.5144121843683689,20.31429269944556],[1.3544529959725287,20.363185856428604]]},\"bbox\":[1.3544529959725287,20.087140573155843,1.7973869281025145,20.363185856428604]},{\"id\":\"29\",\"type\":\"Feature\",\"properties\":{},\"geometry\":{\"type\":\"LineString\",\"coordinates\":[[1.1662816654712862,19.45083940318564],[1.0910658449172015,19.609088152626967],[0.970852840476201,19.727170595115137],[0.8838768311181954,19.861940742158428],[0.791495955076635,19.944192785435323]]},\"bbox\":[0.791495955076635,19.45083940318564,1.1662816654712862,19.944192785435323]},{\"id\":\"30\",\"type\":\"Feature\",\"properties\":{},\"geometry\":{\"type\":\"LineString\",\"coordinates\":[[2.258783144932773,20.509349340273815],[2.3401352421862547,20.460426452221594]]},\"bbox\":[2.258783144932773,20.460426452221594,2.3401352421862547,20.509349340273815]},{\"id\":\"31\",\"type\":\"Feature\",\"properties\":{},\"geometry\":{\"type\":\"LineString\",\"coordinates\":[[-0.30499176048950044,18.815728653325387],[-0.36709489749188134,18.778252573765116]]},\"bbox\":[-0.36709489749188134,18.778252573765116,-0.30499176048950044,18.815728653325387]},{\"id\":\"32\",\"type\":\"Feature\",\"properties\":{},\"geometry\":{\"type\":\"LineString\",\"coordinates\":[[3.911815587471874,10.51002412519949],[3.895961734868306,10.411340315180665],[3.880477863241175,10.323173176204397],[3.9069914381039568,10.231855892226802]]},\"bbox\":[3.880477863241175,10.231855892226802,3.911815587471874,10.51002412519949]},{\"id\":\"33\",\"type\":\"Feature\",\"properties\":{},\"geometry\":{\"type\":\"LineString\",\"coordinates\":[[4.292701956894274,10.277830147614399],[4.2107254101320715,10.066770693973512],[4.2171706791470385,9.873095909198923],[3.905770436851696,9.862865421916394]]},\"bbox\":[3.905770436851696,9.862865421916394,4.292701956894274,10.277830147614399]},{\"id\":\"34\",\"type\":\"Feature\",\"properties\":{},\"geometry\":{\"type\":\"LineString\",\"coordinates\":[[4.503517009391664,9.64480108569891],[4.369890106890006,9.75792777267447]]},\"bbox\":[4.369890106890006,9.64480108569891,4.503517009391664,9.75792777267447]},{\"id\":\"35\",\"type\":\"Feature\",\"properties\":{},\"geometry\":{\"type\":\"LineString\",\"coordinates\":[[4.438322414432476,9.179486964154549],[4.180904076280821,9.110361449676441],[3.968282917310156,9.080843087939073],[3.675944549578405,9.085605841467496],[3.6679987948007455,9.0438885330487]]},\"bbox\":[3.6679987948007455,9.0438885330487,4.438322414432476,9.179486964154549]},{\"id\":\"36\",\"type\":\"Feature\",\"properties\":{},\"geometry\":{\"type\":\"LineString\",\"coordinates\":[[4.927025252406417,8.456448368923104],[5.072584174977155,8.460451628070528],[5.1807629724810385,8.302094719115594]]},\"bbox\":[4.927025252406417,8.302094719115594,5.1807629724810385,8.460451628070528]},{\"id\":\"37\",\"type\":\"Feature\",\"properties\":{},\"geometry\":{\"type\":\"LineString\",\"coordinates\":[[5.069089224655188,8.12940136087063],[5.204521859672336,8.014784027553597],[5.269507140929562,8.016338493330315],[5.34986193540249,7.958043504603921]]},\"bbox\":[5.069089224655188,7.958043504603921,5.34986193540249,8.12940136087063]},{\"id\":\"38\",\"type\":\"Feature\",\"properties\":{},\"geometry\":{\"type\":\"LineString\",\"coordinates\":[[4.927025252406417,8.456448368923104],[4.815149877432306,8.356663353502464]]},\"bbox\":[4.815149877432306,8.356663353502464,4.927025252406417,8.456448368923104]},{\"id\":\"39\",\"type\":\"Feature\",\"properties\":{},\"geometry\":{\"type\":\"LineString\",\"coordinates\":[[4.868921129659819,8.79283641376685],[4.998219659558438,8.810155674495402]]},\"bbox\":[4.868921129659819,8.79283641376685,4.998219659558438,8.810155674495402]},{\"id\":\"40\",\"type\":\"Feature\",\"properties\":{},\"geometry\":{\"type\":\"LineString\",\"coordinates\":[[4.8260912602433015,9.043788814955608],[4.935532476821598,9.05826177617958],[5.176695296812518,9.259309974625344]]},\"bbox\":[4.8260912602433015,9.043788814955608,5.176695296812518,9.259309974625344]},{\"id\":\"41\",\"type\":\"Feature\",\"properties\":{},\"geometry\":{\"type\":\"LineString\",\"coordinates\":[[4.483493404793438,9.238519059441062],[4.773778343266087,9.249730385993647]]},\"bbox\":[4.483493404793438,9.238519059441062,4.773778343266087,9.249730385993647]},{\"id\":\"42\",\"type\":\"Feature\",\"properties\":{},\"geometry\":{\"type\":\"LineString\",\"coordinates\":[[4.726080442915825,9.925770012160642],[4.815441742805471,9.81332073389678],[4.822348037297685,9.58691850236763],[4.899732350268025,9.492066969333955]]},\"bbox\":[4.726080442915825,9.492066969333955,4.899732350268025,9.925770012160642]},{\"id\":\"43\",\"type\":\"Feature\",\"properties\":{},\"geometry\":{\"type\":\"LineString\",\"coordinates\":[[5.024207152551789,9.91330546893275],[4.984314178769859,9.781392076856163],[4.815441742805471,9.81332073389678]]},\"bbox\":[4.815441742805471,9.781392076856163,5.024207152551789,9.91330546893275]},{\"id\":\"44\",\"type\":\"Feature\",\"properties\":{},\"geometry\":{\"type\":\"LineString\",\"coordinates\":[[5.024207152551789,9.91330546893275],[4.815441742805471,9.81332073389678]]},\"bbox\":[4.815441742805471,9.81332073389678,5.024207152551789,9.91330546893275]},{\"id\":\"45\",\"type\":\"Feature\",\"properties\":{},\"geometry\":{\"type\":\"LineString\",\"coordinates\":[[5.875940724224147,10.250007342902661],[5.899340523387186,10.132115909398841]]},\"bbox\":[5.875940724224147,10.132115909398841,5.899340523387186,10.250007342902661]},{\"id\":\"46\",\"type\":\"Feature\",\"properties\":{},\"geometry\":{\"type\":\"LineString\",\"coordinates\":[[6.085066903934683,9.51504020522553],[5.9798530596484,9.586857267041657]]},\"bbox\":[5.9798530596484,9.51504020522553,6.085066903934683,9.586857267041657]},{\"id\":\"47\",\"type\":\"Feature\",\"properties\":{},\"geometry\":{\"type\":\"LineString\",\"coordinates\":[[6.209684996706678,9.699516050092576],[6.0666574814207195,9.663376647991052]]},\"bbox\":[6.0666574814207195,9.663376647991052,6.209684996706678,9.699516050092576]},{\"id\":\"48\",\"type\":\"Feature\",\"properties\":{},\"geometry\":{\"type\":\"LineString\",\"coordinates\":[[4.784702494097878,10.099620241747171],[5.082381451251617,10.08514259917478]]},\"bbox\":[4.784702494097878,10.08514259917478,5.082381451251617,10.099620241747171]},{\"id\":\"49\",\"type\":\"Feature\",\"properties\":{},\"geometry\":{\"type\":\"LineString\",\"coordinates\":[[5.157817824856276,9.919502590727603],[5.144747977537817,10.031477833141956]]},\"bbox\":[5.144747977537817,9.919502590727603,5.157817824856276,10.031477833141956]},{\"id\":\"50\",\"type\":\"Feature\",\"properties\":{},\"geometry\":{\"type\":\"LineString\",\"coordinates\":[[4.489480634522121,10.169521794272296],[4.512566113493785,9.831698472946133]]},\"bbox\":[4.489480634522121,9.831698472946133,4.512566113493785,10.169521794272296]},{\"id\":\"51\",\"type\":\"Feature\",\"properties\":{},\"geometry\":{\"type\":\"LineString\",\"coordinates\":[[7.6444132858261495,13.712400929036399],[7.507640147186124,13.692346974535148],[7.327600490200349,13.595930992213447],[6.750905467308649,13.590750356708352]]},\"bbox\":[6.750905467308649,13.590750356708352,7.6444132858261495,13.712400929036399]},{\"id\":\"52\",\"type\":\"Feature\",\"properties\":{},\"geometry\":{\"type\":\"LineString\",\"coordinates\":[[6.369832194130908,13.179212394599658],[6.286664238744891,13.252210170833797],[6.131862156703358,13.244145946900717]]},\"bbox\":[6.131862156703358,13.179212394599658,6.369832194130908,13.252210170833797]},{\"id\":\"53\",\"type\":\"Feature\",\"properties\":{},\"geometry\":{\"type\":\"LineString\",\"coordinates\":[[0.15137352337782936,14.765872411045095],[0.14210270444676754,14.947212553014472]]},\"bbox\":[0.14210270444676754,14.765872411045095,0.15137352337782936,14.947212553014472]},{\"id\":\"54\",\"type\":\"Feature\",\"properties\":{},\"geometry\":{\"type\":\"LineString\",\"coordinates\":[[0.0418410392665585,14.623730797275227],[0.22281936576447925,14.665301005223286]]},\"bbox\":[0.0418410392665585,14.623730797275227,0.22281936576447925,14.665301005223286]},{\"id\":\"55\",\"type\":\"Feature\",\"properties\":{},\"geometry\":{\"type\":\"LineString\",\"coordinates\":[[20.991887530647315,11.19730295322784],[20.96540802779111,11.307094265027146],[20.95243559316471,11.40343344957048],[20.96927547341763,11.491774561176369],[20.98184266105826,11.554332680040973],[20.950567346773674,11.669532353857452],[21.306247633164013,11.979520828062176],[21.623892430054287,12.237912810241829],[21.839630662048855,12.453970843141466],[21.97985979968587,12.6421698691515],[22.088429339992235,12.764672766712124],[22.18781086518785,12.82465261393326],[22.309860262961003,12.887621093566668],[22.41432390755184,12.970870563191603],[22.591936229020632,13.144797648642156],[22.86791429979271,13.42731917442987],[23.25877022493044,13.85251419625471],[23.454838910965453,14.06641308346981],[23.48569408744666,14.186666100105088],[23.681735292149252,14.480979945299609],[23.772052446246263,14.665016514093868],[24.059143392139124,15.120315728191473],[24.29609950974215,15.602468175697288],[24.656521078441525,16.246953572535556],[24.954976142223657,16.735143031580275],[25.079465516402124,17.000198290466532],[25.292429463182305,17.337370917309848],[25.44568884312274,17.48311616699553],[25.519502970702128,17.636585719088508],[25.649004193591114,17.82351090708878],[25.83710521877778,18.01004262644994],[25.885130802526213,18.116660172805958],[26.1779972249756,18.37849293180544],[26.24055034604026,18.46964442453526],[26.38833815685997,18.617784013228434],[26.44012141363714,18.81549846958649],[26.525318938217215,18.938002338924765],[26.547211107251574,19.08635175571276],[26.763030562083465,19.203909040712517],[26.829650206927614,19.3318310794954]]},\"bbox\":[20.950567346773674,11.19730295322784,26.829650206927614,19.3318310794954]},{\"id\":\"56\",\"type\":\"Feature\",\"properties\":{},\"geometry\":{\"type\":\"LineString\",\"coordinates\":[[16.441813448354264,9.042566359176659],[16.55106540191163,9.000421948512283]]},\"bbox\":[16.441813448354264,9.000421948512283,16.55106540191163,9.042566359176659]},{\"id\":\"57\",\"type\":\"Feature\",\"properties\":{},\"geometry\":{\"type\":\"LineString\",\"coordinates\":[[17.162564301271978,8.350850590951257],[17.30844881969663,8.297613126192044]]},\"bbox\":[17.162564301271978,8.297613126192044,17.30844881969663,8.350850590951257]},{\"id\":\"58\",\"type\":\"Feature\",\"properties\":{},\"geometry\":{\"type\":\"LineString\",\"coordinates\":[[12.783043452961675,7.33053754626218],[12.425089771346695,7.15471660706388],[12.326056191599498,7.14250703529087],[12.094005182199396,6.96646250568082],[11.896427110163607,7.019240896108434],[11.760898264852012,7.121424198149276],[11.585879365783681,7.155075792481357],[11.300440490097444,7.1586855966688585],[11.177718592700744,7.210025392269532],[11.026326798029444,7.208732518621546]]},\"bbox\":[11.026326798029444,6.96646250568082,12.783043452961675,7.33053754626218]},{\"id\":\"59\",\"type\":\"Feature\",\"properties\":{},\"geometry\":{\"type\":\"LineString\",\"coordinates\":[[12.094005182199396,6.96646250568082],[11.856476299153124,6.76705716086396],[11.775394147037101,6.7025091522176785],[11.636022993608988,6.655021811261307],[11.364521849457931,6.379685655306797],[11.201643641390127,6.390141983396036],[11.113736014771254,6.482535064536766]]},\"bbox\":[11.113736014771254,6.379685655306797,12.094005182199396,6.96646250568082]},{\"id\":\"60\",\"type\":\"Feature\",\"properties\":{},\"geometry\":{\"type\":\"LineString\",\"coordinates\":[[15.26726459544348,8.749752393657229],[15.089364627905733,8.7113813580261],[14.571600927004235,8.663026869574203],[14.352276609941281,8.826898533999469]]},\"bbox\":[14.352276609941281,8.663026869574203,15.26726459544348,8.826898533999469]},{\"id\":\"61\",\"type\":\"Feature\",\"properties\":{},\"geometry\":{\"type\":\"LineString\",\"coordinates\":[[14.961643847503247,7.646812930138448],[14.859281938802807,7.638438348432586]]},\"bbox\":[14.859281938802807,7.638438348432586,14.961643847503247,7.646812930138448]}],\"bbox\":[-9.81494915677432,5.05310347154227,26.829650206927614,26.521855400275413]},\"hovertemplate\":\"lat=%{lat}<br>lon=%{lon}<extra></extra>\",\"lat\":[[-9.81494915677432,-9.795984071034358,-9.770370517522617,-9.548568598787226,-9.503829658947524,-9.439346967702484,-9.40111225802564,-9.355855745325456,-9.124252026083404,-9.001368521755754,-8.9603177778095,-8.775357429397602,-8.552218599187073,-8.427639600115098,-8.308912624201778,-8.228846249480144,-8.170372427241062,-8.154452785547711,-8.130235290980082,-8.029411682493613,-8.058055602125878,-8.08844317848133,-7.959970812126055,-7.874181175159673,-7.683717914944191,-7.601085340340569,-7.509876391608225,-7.27084590947202,-7.124386415216574,-6.9540716406684515,-6.894647600808603,-6.703310210583393,-6.590316633983562,-6.423559986147381,-6.260851949350728,-6.154032922209693,-6.050157509530457,-5.994267071090621,-6.016536999892994,-6.123395760216581,-6.205686492912038,-6.184942193531838,-6.0528408420425945,-5.964712264789466,-5.931605771149707,-5.900983048274086,-5.798988070931479,-5.605182540289556,-5.426965525783253,-5.37080807053647,-5.148404856073719,-5.0028257135395275],[4.262228361072035,4.3686287586727675,4.402728053496698,4.441441856011634,4.562266104640297,4.70558083372755,4.756515956620007,4.797835224837899,4.929713366401779,4.971258436399019,4.953000392277002,4.989194981692141,4.987017530913306,4.997598465560067,5.094658302301744,5.595707988052201,5.717092490786353],[4.6458194437996125,4.1143814790158055,4.123952935974435,3.9877296557144257,3.8921317453261848,3.676559941135227,3.476438103612458,3.386218281991184,3.3027134475203304,3.22496801461165,3.169528866000391,3.06367987858591,2.994059886969721,2.9568245483014217,2.8706835829376263,2.8498473789573464,2.833094174764438,2.4939229813929846,2.488913039397725,2.484475549233329,2.4649945597279097,2.4448793204446315,2.4144350931743777,2.3738789355306875,2.3109724469555655,2.275703093211956,2.258783144932773,2.2103678447436637,2.166184343069512,2.137597442683284,2.081056050669104,1.9737251066850843,1.8889093701317499,1.7973869281025145,1.7955970055495911,1.7912626770958913,1.7779896583684967,1.7292174622995555,1.662183333131044,1.6084784008253736,1.5761980976556667,1.51370442032002,1.4118679237542044,1.2811298022313027,1.1662816654712862,1.0969645933866858,0.9282882847046233,0.7617059330782415,0.6166227418541871,0.45360812145179785,0.07414797353494591,-0.03821130252334439,-0.17120744442827934,-0.3061901835717006,-0.30499176048950044,-0.253698898386019,-0.16170406737590745,-0.05103226227166229,-0.00010587881975591379,0.0367344785339645,0.06381190238205259,0.0308474500773999,0.04764425007160192,0.08638570368638188,0.077436204129211,0.024603408359726242,-0.006560084955930519,-0.1144876818874544,-0.10730146500019072,-0.08644885165499437,-0.01396419838606385,0.10427759316531582,0.23957207779015025],[8.961781147790548,8.92244448777601,8.949880994837686,9.066770619978499,9.07047068188145,9.065553734904599],[6.500915482400792,6.534043753520675,6.748216790760407,6.750905467308649,6.272718800037869],[6.4005458516388956,6.096020448060354,5.965198595609629,5.940430639470863],[-0.21208838405660757,-0.013930368164771615,0.11687349002245637,0.17870645235978636,0.22281936576447925,0.37857822068984986,0.5043883091069086,0.5857490708803108,0.592579139323077,0.574688769210925,0.6121179254882808,0.7074172427150803,0.766176680138318,0.8019300687351937,0.8795512733839895,0.8950702880521128,0.8888978470188315,0.895085647608696,0.9589693774165997,1.0216767439341432,1.0912414705638602,1.2233953950237504,1.2490633772505768,1.336702455388603,1.4605269003890384,1.5755813014752238,1.701220978973045,1.8029569940045442,1.935433065673858,2.006241652604442,2.0516557119299,2.108611687942066,2.7742694053387162,3.096489029802737,3.733653448925231,3.9626728793053765,4.292701956894274,4.489480634522121,4.655403558969052],[7.091937401781244,7.09556009403301,7.03843883589238,6.947333150165864,6.930554443488472,6.913284179470295,6.607142549590389,6.204484827777973,5.995264624738364,5.692598317349557,5.555883900899036,5.31389933797427,5.024207152551789,4.906121325014561,4.764031628144091,4.655403558969052],[6.356899607157587,5.875940724224147,5.31389933797427],[5.386431814004623,4.947619019234529,4.821905500454319,4.764031628144091],[2.9932099105468235,3.0487950165705047,3.1709520057911127,3.233197365834989,3.3088689560932623,3.445155498039,3.7229174757113226,3.7607624826469634,3.873008381780269,3.8968821233626048,3.8668373895222046,3.871140542990884,3.9192732694518044,3.9753030769411812,4.0618240349470325,4.1030008858003235,4.196669432144587,4.292624253669961,4.375724158778526,4.4303139614289115,4.478974704532521,4.509231471654536,4.53697001016055,4.530263552601255,4.605223077798108,4.65627501007733,4.655403558969052],[5.819481504866904,5.44236202165217,5.118118415134382,4.6641011999699415,4.453256746758761,4.460354185298572,4.560563800822504,4.57215258971382,4.5316903288122194,4.5378486936597655,4.560189972052209,4.596154842917261,4.630174172762794,4.753892195265657,4.883842388437819,4.937302674230161,4.947619019234529],[4.717354715502067,4.7432292090652,4.773778343266087,4.838957924122488,4.8803211067140255,4.9368110007539405,5.086982379141529],[6.369997639146953,6.253563849149779,6.112979098566014,5.917897490062154,5.6369063730429545,5.2124834633401385,5.086982379141529],[5.086982379141529,4.9824031082750055,4.880875063270183,4.892767567828577,5.0765707327525735,5.435638271598069],[4.892767567828577,4.682220176406688,4.600734904258764,4.512227443036049],[4.717354715502067,4.512566113493785,4.483493404793438,3.98065321198871],[14.197147852222184,14.703574389269859,14.878542734610662,14.998285467300791,15.136529074562672,15.265563493437556,15.458993574342465,15.633799008875854,15.698044424575121,15.743803873926268,15.807849493564511,15.973251940840536,16.129393379069082,16.23028515586816,16.441813448354264],[15.698044424575121,15.596625823095085,15.467404416851029,15.283169401141775,15.246308969173104,15.246191333934446,15.191075706272425,15.071683662691152,14.998293537754126,14.961643847503247,14.961653569825357,14.84261381643563,14.751112873963518],[14.50327631075468,14.512663928408752,14.55870874724895,14.687041493826756,14.870147750024907],[14.512663928408752,13.963004367836778,13.23069170417199,12.965538571979108,12.783043452961675],[17.020279405917243,16.971057490557087,16.87385494112924,16.686518959904525,16.562402852486855,16.54789188025865,16.368524083312014,16.326602743248063,16.26368407666909,16.208179693933307,16.20271979228545,16.14048850188647,16.12560450104649,16.110088469131174,16.08782424011137,16.066762254905576,15.94325762549499,15.82786489996378,15.719244446951707,15.684035448838062,15.495544230159183,15.253887196154642,14.992792992720277,14.819084325705582,14.719121556267826,14.605854135810448,14.399453689121867,14.313124939102053,14.134016555385077,14.041455870619727,13.948806079422294,13.81627209004249,13.723838651191818,13.578699761012434,13.361343518156657,13.16379201649797,13.071612338074473,12.992977445863314,12.90125730837743,12.85553521698238,12.624600701957377,12.295425243399709,12.104521678486636,11.841074377830852,11.538689266246188,11.183128104677753,10.71081401836354,10.526337901753966,10.200676082870165,9.716392930834681,9.389953479434634,9.135980665747653,8.940678093198347,8.73318221300254,8.661735840893256,8.43303500573321],[10.569557014845579,10.424265601063,10.264937151047286,10.083276713091895,10.004109245413474,9.870503690965485,9.854246749918431,9.914171182444111,9.889541456440226,9.859024002435321,9.86535461281077,9.897387418119893,9.906873766259453,9.825960918523213,9.781574121751708,9.67260070427875,9.559273010359478,9.328229221279472,9.261665218686625,9.139083333351357,9.05760203788762,9.050438708552488,9.259314038592676,9.266847163731082,9.303719935606928,9.281611533348325,9.265307622500234,9.250110430103772,9.266506358999518,9.273698891704147,9.337637580642383,9.449941025170958,9.546779739440854,9.608579395507265,9.849191208911323,10.124120546754556,10.392905155940332,10.724871215376327,10.760307843442297,10.881873539180097,11.030492978154955,11.145238261554834,11.193207101131836,11.267985014529033,11.402364081750749,11.622927785727772,11.843397061988904,12.096458000037966,12.263402003439728,12.482721634497656,12.609884116313983,12.90261418947634,12.943718714973892,13.00460983409954,13.071612338074473,13.171245269772646,13.250903239839008,13.323898487487662,13.396730130671529,13.469345721163759,13.568637799402618,13.76745034952502,13.860261416914954,13.939882846956323,14.15181201008925,14.370332209304793,14.50327631075468,14.754352647100534,15.071683662691152,15.284618837628102,15.543462027545136,15.928713264858269,16.214834765716585,16.441813448354264,16.654133870184335,17.04069841593601,17.420812659706723,17.854689383220904,18.40996492516251,18.892309419366512,19.382177173244266,19.791488937172048,20.45685272894703,20.944570544782536,21.148224698935316],[10.569557014845579,10.673170575151888,10.876560565626956,11.259756492898049,11.527746090161846,11.685696347048324,11.837961670709438,12.077860431460067,12.237283161126495,12.373218504038604,12.553997483109143,12.78007098807878,12.90707439188763,13.101781442702162,13.199615598262211,13.298289324551085,13.463769941181537,13.614065989090891,13.70465935438527,13.900302607203702,14.340747248323709,14.691743394395086,14.773826616471544,14.863261391089491,14.915460286019409,15.019672590590101,15.153603407191403,15.190752722639195,15.212930276713587,15.287151965282812,15.338976361320782,15.368461738842946,15.69494049162867,15.901753226416513,16.123413884213,16.359904286996773,16.52248218231234,16.83332296596128,16.966751571668702,17.020279405917243],[-0.3061901835717006,-0.36370554917555004,-0.40765484982989675,-0.4869589196396185,-0.5778223711493549],[0.45360812145179785,0.5400940713840426,0.5674910917826776],[0.70897820433954,0.8411593018577886],[1.1662816654712862,1.2301671953763123,1.3798760445105964],[1.7973869281025145,1.728466157974028,1.5144121843683689,1.3544529959725287],[1.1662816654712862,1.0910658449172015,0.970852840476201,0.8838768311181954,0.791495955076635],[2.258783144932773,2.3401352421862547],[-0.30499176048950044,-0.36709489749188134],[3.911815587471874,3.895961734868306,3.880477863241175,3.9069914381039568],[4.292701956894274,4.2107254101320715,4.2171706791470385,3.905770436851696],[4.503517009391664,4.369890106890006],[4.438322414432476,4.180904076280821,3.968282917310156,3.675944549578405,3.6679987948007455],[4.927025252406417,5.072584174977155,5.1807629724810385],[5.069089224655188,5.204521859672336,5.269507140929562,5.34986193540249],[4.927025252406417,4.815149877432306],[4.868921129659819,4.998219659558438],[4.8260912602433015,4.935532476821598,5.176695296812518],[4.483493404793438,4.773778343266087],[4.726080442915825,4.815441742805471,4.822348037297685,4.899732350268025],[5.024207152551789,4.984314178769859,4.815441742805471],[5.024207152551789,4.815441742805471],[5.875940724224147,5.899340523387186],[6.085066903934683,5.9798530596484],[6.209684996706678,6.0666574814207195],[4.784702494097878,5.082381451251617],[5.157817824856276,5.144747977537817],[4.489480634522121,4.512566113493785],[7.6444132858261495,7.507640147186124,7.327600490200349,6.750905467308649],[6.369832194130908,6.286664238744891,6.131862156703358],[0.15137352337782936,0.14210270444676754],[0.0418410392665585,0.22281936576447925],[20.991887530647315,20.96540802779111,20.95243559316471,20.96927547341763,20.98184266105826,20.950567346773674,21.306247633164013,21.623892430054287,21.839630662048855,21.97985979968587,22.088429339992235,22.18781086518785,22.309860262961003,22.41432390755184,22.591936229020632,22.86791429979271,23.25877022493044,23.454838910965453,23.48569408744666,23.681735292149252,23.772052446246263,24.059143392139124,24.29609950974215,24.656521078441525,24.954976142223657,25.079465516402124,25.292429463182305,25.44568884312274,25.519502970702128,25.649004193591114,25.83710521877778,25.885130802526213,26.1779972249756,26.24055034604026,26.38833815685997,26.44012141363714,26.525318938217215,26.547211107251574,26.763030562083465,26.829650206927614],[16.441813448354264,16.55106540191163],[17.162564301271978,17.30844881969663],[12.783043452961675,12.425089771346695,12.326056191599498,12.094005182199396,11.896427110163607,11.760898264852012,11.585879365783681,11.300440490097444,11.177718592700744,11.026326798029444],[12.094005182199396,11.856476299153124,11.775394147037101,11.636022993608988,11.364521849457931,11.201643641390127,11.113736014771254],[15.26726459544348,15.089364627905733,14.571600927004235,14.352276609941281],[14.961643847503247,14.859281938802807]],\"legendgroup\":\"\",\"lon\":[[18.213046440668315,18.087257902397784,17.91569476652558,17.817200303952887,17.50773679284574,17.22418282300657,16.948857313724137,16.616053020418434,16.04904410877524,15.841744659228942,15.70637612866501,15.377087546220903,15.121392276187507,14.877539520984286,14.679520405069844,14.500561821482254,14.295767041256136,13.922565130794613,13.69078618365916,13.525013861427299,13.334860495737113,13.039333727117347,12.946030318935252,12.672854642484722,12.42042178971307,12.298695599045876,12.212762421411211,12.209785951135693,12.1751840389017,12.142409065056416,12.147364968051004,12.009919976881712,11.94831506498644,11.961730103110305,11.880130315953675,11.746578536802815,11.64809956373414,11.58932880491328,11.5014879255088,11.37861350657303,11.315054761924353,11.19616810717134,11.06247368313185,10.971280419660326,10.916237305561234,10.815045473368613,10.77053894324888,10.743818113708206,10.692774606553462,10.638998851926434,10.625170222087746,10.629113446884274],[26.521855400275413,26.376682236758896,26.286365279783986,26.201017039273232,26.117038983104806,25.950911545928193,25.83840636568666,25.776294635146428,25.734456297871386,25.240056161713774,24.904225372554794,24.646460553251345,24.483684595067448,24.414695303616437,24.342139291186154,24.360394162879466,24.298149525903053],[22.592017951197302,22.53501758414117,21.97035625546291,21.94685808255732,21.943917775048675,22.004063886190966,22.014939768437333,22.04062438050736,22.077442524269284,21.953985353630877,21.839306708270723,21.688859430984678,21.60885449092434,21.55262546618369,21.489236942797522,21.419960205621017,21.34742607377201,21.044354577587534,20.96919983683437,20.947958285992637,20.911128560532656,20.830838040834102,20.723034269373677,20.660568007728326,20.620215262040396,20.589350249335016,20.509349340273815,20.447801397415223,20.392515211988673,20.320582971952376,20.2257842139904,20.137577603387392,20.089906954757954,20.087140573155843,20.05289232339632,19.95616381934026,19.872113597148203,19.800219040508516,19.759560943989054,19.706145495692706,19.68808677398423,19.63009356135117,19.551352148337028,19.50582460440464,19.45083940318564,19.388748007074714,19.31177990715621,19.256126587281216,19.170265647569504,19.07938750879446,19.044850259239553,18.975544471274265,18.890393295887858,18.86848752306256,18.815728653325387,18.781264206367123,18.74662899832007,18.709929611720845,18.678833716903327,18.473701676706543,18.29244548816153,18.205156782355587,18.139483211242098,18.075538849712476,17.965490296907433,17.894326877527647,17.82840930080022,17.714171217745587,17.630163920941637,17.557794317316393,17.482366684908126,17.385691147279523,17.258390612410306],[13.362725505672078,13.24592646913259,11.90179097755761,11.742877647413717,11.569132522007772,11.403488036041683],[14.102038190707688,13.872194352952137,13.667702088957665,13.590750356708352,13.074154385068612],[13.482603065758074,13.212301036104883,13.034665933368927,12.634944810475549],[14.514133331368415,14.725212594934701,14.795181275485794,14.742637017100526,14.665301005223286,14.656491614497543,14.588959494172672,14.532675685045286,14.42914539285577,14.257935730175111,14.203543530111014,14.152655978096462,14.066392921096451,13.959792391480645,13.879277253702572,13.70519921942839,13.487304666421117,13.383625813184354,13.283201284263813,13.201570103937993,13.167581265270792,13.136980733125805,13.024750734828082,12.925284168137063,12.780243938994394,12.70565757942662,12.612523053795744,12.51330197065598,12.472425744705069,12.409446531607664,12.273974921037484,12.195983351753446,11.58434167751086,11.274036269738,10.659608984072273,10.467249849112797,10.277830147614399,10.169521794272296,10.117425043586646],[10.373688483568108,10.229246424499605,10.179675503731158,10.129271209774387,10.022908891557885,9.935805147798522,9.75498967676542,9.76399362052918,9.796919091457854,9.711876835847889,9.756087705229872,9.926675344206862,9.91330546893275,9.98159068163147,10.044247703412127,10.117425043586646],[10.229602520693545,10.250007342902661,9.926675344206862],[10.868993739505877,10.500275947191767,10.19929963971262,10.044247703412127],[14.790647337069244,14.760205080246505,14.766584622781606,14.793662011978485,14.75462329249839,14.589732683597186,14.335977691259956,13.969938984956173,13.874819101971907,13.785117453618565,13.697729968370881,13.60713609552281,13.518509313464508,13.363283087222166,13.285809488009038,13.129814313997588,12.88512448242755,12.692984550180903,12.4523464458951,12.186541762772938,11.9395700094458,11.658347901212577,11.305206262396595,11.089611098714439,10.608798591020909,10.385513152509205,10.117425043586646],[13.894276859071038,13.620493073412893,13.396701627162019,13.13888668499082,12.92921439944876,12.876857157021053,12.813890802872606,12.651579531413427,12.448928919646312,12.295994403592129,12.100594518508185,11.671115426652294,11.409054111697227,11.20752315171787,10.958102452712069,10.811363013351723,10.500275947191767],[10.075704690777627,9.627062243323541,9.249730385993647,8.993013048369441,8.716393334973604,8.40178431170479,8.17083740456925],[9.922157135108804,9.762922726638678,9.559747267191913,9.247243782525501,8.903986649674282,8.34649082835672,8.17083740456925],[8.17083740456925,7.928726925801542,7.758646415329887,7.663157848068054,7.605191167797083,7.4454697124259175],[7.663157848068054,7.638969906989001,7.636994386790027,7.7257100238617475],[10.075704690777627,9.831698472946133,9.238519059441062,8.581272964630259],[9.556349654583117,9.59371176264036,9.639519538227864,9.730945225864321,9.831461850886821,9.840525433472814,9.758057313815867,9.620678581074234,9.510876557635209,9.38282460523457,9.218168443273768,9.153783227309956,9.089357084107608,9.01592091518655,9.042566359176659],[9.510876557635209,9.42880387998196,9.163929140783384,8.816774305341518,8.66140619504171,8.478588099039905,8.42377299161015,8.149579493353,7.985043856717236,7.646812930138448,7.537115842695189,7.409109040303731,7.271945593733812],[7.8476313825363935,7.655680573235365,7.4272005793556035,7.253623031360399,7.198862926054862],[7.655680573235365,7.627288937873348,7.515267462660337,7.4410313359159215,7.33053754626218],[17.404780560005147,17.299721165420372,17.19509530896333,16.97241705616818,16.8876260084657,16.788758008034694,16.611853639320692,16.486739620829596,16.275945312927735,16.13767546627715,15.207101096291504,15.009410721349472,14.758660525710729,14.36928572780183,13.960120712600181,13.788580348210262,13.300560108963378,13.063287925779843,12.759905008889683,12.159160866292929,11.842617344271654,11.479752105071563,11.129872710206792,10.88548219253978,10.60804957673152,10.442833842682617,10.224591850980806,10.065934363455435,9.761755302453853,9.536992250485353,9.37824627645248,9.245766975894615,9.073775257849427,8.815739040831602,8.425333614772073,8.13399424394588,8.0147454775483,7.842745498906908,7.6508800062374025,7.5318464405216945,7.431662137674679,7.205448948099502,7.098729467999324,6.998079811306882,6.831116387767796,6.755928936206611,6.495096616044008,6.353913160343496,6.128469005522417,5.9002612103801875,5.7064045488303385,5.513294086591615,5.373380810623917,5.154583521208778,5.094782306053576,5.05310347154227],[20.275717836101393,19.99552723651202,19.734672906279943,19.53895747475754,19.405197855389222,19.24359224696108,19.098418973746167,18.948782426961383,18.84942880340938,18.71702519427995,18.506698353637464,18.356263159871432,17.790760618631037,17.49920333617323,17.373064459585045,17.113691501729985,16.775310858759045,16.276049297919048,16.108883950839946,15.764862629963195,15.532668571074176,15.309070524092816,15.097647792972403,14.815204401075922,14.434872457614667,13.974222053154682,13.540026178620597,13.046721869184635,12.31749595962307,11.982426211553168,11.786004485587911,11.519172231703154,11.336886881260876,11.239378440987272,11.197599007439885,11.096922004915752,10.956317490745096,10.572551080723382,10.41494336494553,10.278186493104846,10.095548465608196,9.951931856912495,9.827265199546451,9.67650767638691,9.532921282078362,9.390076192535478,9.240434267284341,9.143626560729075,9.012979893684586,8.968358362238504,8.804227051747676,8.660765754330342,8.416767894159305,8.17284911192443,8.0147454775483,7.949183717413366,7.903313531785574,7.863999895699803,7.864284343271613,7.923978722487443,7.937537310714084,7.898553417937787,7.865798644074492,7.806573057816194,7.793842785122717,7.800828484518071,7.8476313825363935,7.953136531220952,8.149579493353,8.309766694452327,8.48121257601048,8.691807933445201,8.922113313799995,9.042566359176659,9.158083754501924,9.380525838061434,9.569492244497312,9.783878044214887,10.115004423703423,10.393004953390026,10.683038063977927,10.887649135714465,11.231607222085222,11.200931132801973,11.185263009422794],[20.275717836101393,20.198850620306985,20.17538620132266,20.169778445603395,19.941146217697227,19.922879348043434,19.812108205154587,19.816198299720035,19.705157642055266,19.643305883913904,19.58195427176887,19.485463500924812,19.508281464460357,19.510429863720642,19.468814329244125,19.341913834067004,19.25103829696307,19.16699102485064,19.053984375335027,18.84211062361569,18.80155657780618,18.62481835595149,18.553874450560677,18.51842983609328,18.404761485460558,18.35503553133559,18.326549608129447,18.276772163449312,18.163047521941913,18.09188737260779,17.992313720012646,17.88566311186405,17.863453607669914,17.6707456959059,17.555914687588615,17.483379321708128,17.446675867742115,17.444055626817168,17.464092408947845,17.404780560005147],[18.86848752306256,18.90076191700685,19.000442892197448,19.00305293470555,19.075091301329085],[19.07938750879446,18.975121042115735,18.661279027849336],[19.224938905587177,19.10750222579343],[19.45083940318564,19.326778256560562,19.324052709678963],[20.087140573155843,20.10351962721875,20.31429269944556,20.363185856428604],[19.45083940318564,19.609088152626967,19.727170595115137,19.861940742158428,19.944192785435323],[20.509349340273815,20.460426452221594],[18.815728653325387,18.778252573765116],[10.51002412519949,10.411340315180665,10.323173176204397,10.231855892226802],[10.277830147614399,10.066770693973512,9.873095909198923,9.862865421916394],[9.64480108569891,9.75792777267447],[9.179486964154549,9.110361449676441,9.080843087939073,9.085605841467496,9.0438885330487],[8.456448368923104,8.460451628070528,8.302094719115594],[8.12940136087063,8.014784027553597,8.016338493330315,7.958043504603921],[8.456448368923104,8.356663353502464],[8.79283641376685,8.810155674495402],[9.043788814955608,9.05826177617958,9.259309974625344],[9.238519059441062,9.249730385993647],[9.925770012160642,9.81332073389678,9.58691850236763,9.492066969333955],[9.91330546893275,9.781392076856163,9.81332073389678],[9.91330546893275,9.81332073389678],[10.250007342902661,10.132115909398841],[9.51504020522553,9.586857267041657],[9.699516050092576,9.663376647991052],[10.099620241747171,10.08514259917478],[9.919502590727603,10.031477833141956],[10.169521794272296,9.831698472946133],[13.712400929036399,13.692346974535148,13.595930992213447,13.590750356708352],[13.179212394599658,13.252210170833797,13.244145946900717],[14.765872411045095,14.947212553014472],[14.623730797275227,14.665301005223286],[11.19730295322784,11.307094265027146,11.40343344957048,11.491774561176369,11.554332680040973,11.669532353857452,11.979520828062176,12.237912810241829,12.453970843141466,12.6421698691515,12.764672766712124,12.82465261393326,12.887621093566668,12.970870563191603,13.144797648642156,13.42731917442987,13.85251419625471,14.06641308346981,14.186666100105088,14.480979945299609,14.665016514093868,15.120315728191473,15.602468175697288,16.246953572535556,16.735143031580275,17.000198290466532,17.337370917309848,17.48311616699553,17.636585719088508,17.82351090708878,18.01004262644994,18.116660172805958,18.37849293180544,18.46964442453526,18.617784013228434,18.81549846958649,18.938002338924765,19.08635175571276,19.203909040712517,19.3318310794954],[9.042566359176659,9.000421948512283],[8.350850590951257,8.297613126192044],[7.33053754626218,7.15471660706388,7.14250703529087,6.96646250568082,7.019240896108434,7.121424198149276,7.155075792481357,7.1586855966688585,7.210025392269532,7.208732518621546],[6.96646250568082,6.76705716086396,6.7025091522176785,6.655021811261307,6.379685655306797,6.390141983396036,6.482535064536766],[8.749752393657229,8.7113813580261,8.663026869574203,8.826898533999469],[7.646812930138448,7.638438348432586]],\"marker\":{\"color\":\"#636efa\",\"symbol\":\"circle\"},\"mode\":\"markers\",\"name\":\"\",\"showlegend\":false,\"type\":\"scattergeo\"}],                        {\"template\":{\"data\":{\"histogram2dcontour\":[{\"type\":\"histogram2dcontour\",\"colorbar\":{\"outlinewidth\":0,\"ticks\":\"\"},\"colorscale\":[[0.0,\"#0d0887\"],[0.1111111111111111,\"#46039f\"],[0.2222222222222222,\"#7201a8\"],[0.3333333333333333,\"#9c179e\"],[0.4444444444444444,\"#bd3786\"],[0.5555555555555556,\"#d8576b\"],[0.6666666666666666,\"#ed7953\"],[0.7777777777777778,\"#fb9f3a\"],[0.8888888888888888,\"#fdca26\"],[1.0,\"#f0f921\"]]}],\"choropleth\":[{\"type\":\"choropleth\",\"colorbar\":{\"outlinewidth\":0,\"ticks\":\"\"}}],\"histogram2d\":[{\"type\":\"histogram2d\",\"colorbar\":{\"outlinewidth\":0,\"ticks\":\"\"},\"colorscale\":[[0.0,\"#0d0887\"],[0.1111111111111111,\"#46039f\"],[0.2222222222222222,\"#7201a8\"],[0.3333333333333333,\"#9c179e\"],[0.4444444444444444,\"#bd3786\"],[0.5555555555555556,\"#d8576b\"],[0.6666666666666666,\"#ed7953\"],[0.7777777777777778,\"#fb9f3a\"],[0.8888888888888888,\"#fdca26\"],[1.0,\"#f0f921\"]]}],\"heatmap\":[{\"type\":\"heatmap\",\"colorbar\":{\"outlinewidth\":0,\"ticks\":\"\"},\"colorscale\":[[0.0,\"#0d0887\"],[0.1111111111111111,\"#46039f\"],[0.2222222222222222,\"#7201a8\"],[0.3333333333333333,\"#9c179e\"],[0.4444444444444444,\"#bd3786\"],[0.5555555555555556,\"#d8576b\"],[0.6666666666666666,\"#ed7953\"],[0.7777777777777778,\"#fb9f3a\"],[0.8888888888888888,\"#fdca26\"],[1.0,\"#f0f921\"]]}],\"heatmapgl\":[{\"type\":\"heatmapgl\",\"colorbar\":{\"outlinewidth\":0,\"ticks\":\"\"},\"colorscale\":[[0.0,\"#0d0887\"],[0.1111111111111111,\"#46039f\"],[0.2222222222222222,\"#7201a8\"],[0.3333333333333333,\"#9c179e\"],[0.4444444444444444,\"#bd3786\"],[0.5555555555555556,\"#d8576b\"],[0.6666666666666666,\"#ed7953\"],[0.7777777777777778,\"#fb9f3a\"],[0.8888888888888888,\"#fdca26\"],[1.0,\"#f0f921\"]]}],\"contourcarpet\":[{\"type\":\"contourcarpet\",\"colorbar\":{\"outlinewidth\":0,\"ticks\":\"\"}}],\"contour\":[{\"type\":\"contour\",\"colorbar\":{\"outlinewidth\":0,\"ticks\":\"\"},\"colorscale\":[[0.0,\"#0d0887\"],[0.1111111111111111,\"#46039f\"],[0.2222222222222222,\"#7201a8\"],[0.3333333333333333,\"#9c179e\"],[0.4444444444444444,\"#bd3786\"],[0.5555555555555556,\"#d8576b\"],[0.6666666666666666,\"#ed7953\"],[0.7777777777777778,\"#fb9f3a\"],[0.8888888888888888,\"#fdca26\"],[1.0,\"#f0f921\"]]}],\"surface\":[{\"type\":\"surface\",\"colorbar\":{\"outlinewidth\":0,\"ticks\":\"\"},\"colorscale\":[[0.0,\"#0d0887\"],[0.1111111111111111,\"#46039f\"],[0.2222222222222222,\"#7201a8\"],[0.3333333333333333,\"#9c179e\"],[0.4444444444444444,\"#bd3786\"],[0.5555555555555556,\"#d8576b\"],[0.6666666666666666,\"#ed7953\"],[0.7777777777777778,\"#fb9f3a\"],[0.8888888888888888,\"#fdca26\"],[1.0,\"#f0f921\"]]}],\"mesh3d\":[{\"type\":\"mesh3d\",\"colorbar\":{\"outlinewidth\":0,\"ticks\":\"\"}}],\"scatter\":[{\"fillpattern\":{\"fillmode\":\"overlay\",\"size\":10,\"solidity\":0.2},\"type\":\"scatter\"}],\"parcoords\":[{\"type\":\"parcoords\",\"line\":{\"colorbar\":{\"outlinewidth\":0,\"ticks\":\"\"}}}],\"scatterpolargl\":[{\"type\":\"scatterpolargl\",\"marker\":{\"colorbar\":{\"outlinewidth\":0,\"ticks\":\"\"}}}],\"bar\":[{\"error_x\":{\"color\":\"#2a3f5f\"},\"error_y\":{\"color\":\"#2a3f5f\"},\"marker\":{\"line\":{\"color\":\"#E5ECF6\",\"width\":0.5},\"pattern\":{\"fillmode\":\"overlay\",\"size\":10,\"solidity\":0.2}},\"type\":\"bar\"}],\"scattergeo\":[{\"type\":\"scattergeo\",\"marker\":{\"colorbar\":{\"outlinewidth\":0,\"ticks\":\"\"}}}],\"scatterpolar\":[{\"type\":\"scatterpolar\",\"marker\":{\"colorbar\":{\"outlinewidth\":0,\"ticks\":\"\"}}}],\"histogram\":[{\"marker\":{\"pattern\":{\"fillmode\":\"overlay\",\"size\":10,\"solidity\":0.2}},\"type\":\"histogram\"}],\"scattergl\":[{\"type\":\"scattergl\",\"marker\":{\"colorbar\":{\"outlinewidth\":0,\"ticks\":\"\"}}}],\"scatter3d\":[{\"type\":\"scatter3d\",\"line\":{\"colorbar\":{\"outlinewidth\":0,\"ticks\":\"\"}},\"marker\":{\"colorbar\":{\"outlinewidth\":0,\"ticks\":\"\"}}}],\"scattermapbox\":[{\"type\":\"scattermapbox\",\"marker\":{\"colorbar\":{\"outlinewidth\":0,\"ticks\":\"\"}}}],\"scatterternary\":[{\"type\":\"scatterternary\",\"marker\":{\"colorbar\":{\"outlinewidth\":0,\"ticks\":\"\"}}}],\"scattercarpet\":[{\"type\":\"scattercarpet\",\"marker\":{\"colorbar\":{\"outlinewidth\":0,\"ticks\":\"\"}}}],\"carpet\":[{\"aaxis\":{\"endlinecolor\":\"#2a3f5f\",\"gridcolor\":\"white\",\"linecolor\":\"white\",\"minorgridcolor\":\"white\",\"startlinecolor\":\"#2a3f5f\"},\"baxis\":{\"endlinecolor\":\"#2a3f5f\",\"gridcolor\":\"white\",\"linecolor\":\"white\",\"minorgridcolor\":\"white\",\"startlinecolor\":\"#2a3f5f\"},\"type\":\"carpet\"}],\"table\":[{\"cells\":{\"fill\":{\"color\":\"#EBF0F8\"},\"line\":{\"color\":\"white\"}},\"header\":{\"fill\":{\"color\":\"#C8D4E3\"},\"line\":{\"color\":\"white\"}},\"type\":\"table\"}],\"barpolar\":[{\"marker\":{\"line\":{\"color\":\"#E5ECF6\",\"width\":0.5},\"pattern\":{\"fillmode\":\"overlay\",\"size\":10,\"solidity\":0.2}},\"type\":\"barpolar\"}],\"pie\":[{\"automargin\":true,\"type\":\"pie\"}]},\"layout\":{\"autotypenumbers\":\"strict\",\"colorway\":[\"#636efa\",\"#EF553B\",\"#00cc96\",\"#ab63fa\",\"#FFA15A\",\"#19d3f3\",\"#FF6692\",\"#B6E880\",\"#FF97FF\",\"#FECB52\"],\"font\":{\"color\":\"#2a3f5f\"},\"hovermode\":\"closest\",\"hoverlabel\":{\"align\":\"left\"},\"paper_bgcolor\":\"white\",\"plot_bgcolor\":\"#E5ECF6\",\"polar\":{\"bgcolor\":\"#E5ECF6\",\"angularaxis\":{\"gridcolor\":\"white\",\"linecolor\":\"white\",\"ticks\":\"\"},\"radialaxis\":{\"gridcolor\":\"white\",\"linecolor\":\"white\",\"ticks\":\"\"}},\"ternary\":{\"bgcolor\":\"#E5ECF6\",\"aaxis\":{\"gridcolor\":\"white\",\"linecolor\":\"white\",\"ticks\":\"\"},\"baxis\":{\"gridcolor\":\"white\",\"linecolor\":\"white\",\"ticks\":\"\"},\"caxis\":{\"gridcolor\":\"white\",\"linecolor\":\"white\",\"ticks\":\"\"}},\"coloraxis\":{\"colorbar\":{\"outlinewidth\":0,\"ticks\":\"\"}},\"colorscale\":{\"sequential\":[[0.0,\"#0d0887\"],[0.1111111111111111,\"#46039f\"],[0.2222222222222222,\"#7201a8\"],[0.3333333333333333,\"#9c179e\"],[0.4444444444444444,\"#bd3786\"],[0.5555555555555556,\"#d8576b\"],[0.6666666666666666,\"#ed7953\"],[0.7777777777777778,\"#fb9f3a\"],[0.8888888888888888,\"#fdca26\"],[1.0,\"#f0f921\"]],\"sequentialminus\":[[0.0,\"#0d0887\"],[0.1111111111111111,\"#46039f\"],[0.2222222222222222,\"#7201a8\"],[0.3333333333333333,\"#9c179e\"],[0.4444444444444444,\"#bd3786\"],[0.5555555555555556,\"#d8576b\"],[0.6666666666666666,\"#ed7953\"],[0.7777777777777778,\"#fb9f3a\"],[0.8888888888888888,\"#fdca26\"],[1.0,\"#f0f921\"]],\"diverging\":[[0,\"#8e0152\"],[0.1,\"#c51b7d\"],[0.2,\"#de77ae\"],[0.3,\"#f1b6da\"],[0.4,\"#fde0ef\"],[0.5,\"#f7f7f7\"],[0.6,\"#e6f5d0\"],[0.7,\"#b8e186\"],[0.8,\"#7fbc41\"],[0.9,\"#4d9221\"],[1,\"#276419\"]]},\"xaxis\":{\"gridcolor\":\"white\",\"linecolor\":\"white\",\"ticks\":\"\",\"title\":{\"standoff\":15},\"zerolinecolor\":\"white\",\"automargin\":true,\"zerolinewidth\":2},\"yaxis\":{\"gridcolor\":\"white\",\"linecolor\":\"white\",\"ticks\":\"\",\"title\":{\"standoff\":15},\"zerolinecolor\":\"white\",\"automargin\":true,\"zerolinewidth\":2},\"scene\":{\"xaxis\":{\"backgroundcolor\":\"#E5ECF6\",\"gridcolor\":\"white\",\"linecolor\":\"white\",\"showbackground\":true,\"ticks\":\"\",\"zerolinecolor\":\"white\",\"gridwidth\":2},\"yaxis\":{\"backgroundcolor\":\"#E5ECF6\",\"gridcolor\":\"white\",\"linecolor\":\"white\",\"showbackground\":true,\"ticks\":\"\",\"zerolinecolor\":\"white\",\"gridwidth\":2},\"zaxis\":{\"backgroundcolor\":\"#E5ECF6\",\"gridcolor\":\"white\",\"linecolor\":\"white\",\"showbackground\":true,\"ticks\":\"\",\"zerolinecolor\":\"white\",\"gridwidth\":2}},\"shapedefaults\":{\"line\":{\"color\":\"#2a3f5f\"}},\"annotationdefaults\":{\"arrowcolor\":\"#2a3f5f\",\"arrowhead\":0,\"arrowwidth\":1},\"geo\":{\"bgcolor\":\"white\",\"landcolor\":\"#E5ECF6\",\"subunitcolor\":\"white\",\"showland\":true,\"showlakes\":true,\"lakecolor\":\"white\"},\"title\":{\"x\":0.05},\"mapbox\":{\"style\":\"light\"}}},\"geo\":{\"domain\":{\"x\":[0.0,1.0],\"y\":[0.0,1.0]},\"center\":{}},\"legend\":{\"tracegroupgap\":0},\"margin\":{\"t\":60}},                        {\"responsive\": true}                    ).then(function(){\n",
       "                            \n",
       "var gd = document.getElementById('bf2d6711-e283-497c-ad24-799f5c9deb6f');\n",
       "var x = new MutationObserver(function (mutations, observer) {{\n",
       "        var display = window.getComputedStyle(gd).display;\n",
       "        if (!display || display === 'none') {{\n",
       "            console.log([gd, 'removed!']);\n",
       "            Plotly.purge(gd);\n",
       "            observer.disconnect();\n",
       "        }}\n",
       "}});\n",
       "\n",
       "// Listen for the removal of the full notebook cells\n",
       "var notebookContainer = gd.closest('#notebook-container');\n",
       "if (notebookContainer) {{\n",
       "    x.observe(notebookContainer, {childList: true});\n",
       "}}\n",
       "\n",
       "// Listen for the clearing of the current output cell\n",
       "var outputEl = gd.closest('.output');\n",
       "if (outputEl) {{\n",
       "    x.observe(outputEl, {childList: true});\n",
       "}}\n",
       "\n",
       "                        })                };                });            </script>        </div>"
      ]
     },
     "metadata": {},
     "output_type": "display_data"
    }
   ],
   "source": [
    "px.scatter_geo(df, geojson=df['geometry'], lat='lat', lon='lon')"
   ]
  },
  {
   "cell_type": "code",
   "execution_count": 21,
   "metadata": {},
   "outputs": [
    {
     "data": {
      "text/html": [
       "<div>\n",
       "<style scoped>\n",
       "    .dataframe tbody tr th:only-of-type {\n",
       "        vertical-align: middle;\n",
       "    }\n",
       "\n",
       "    .dataframe tbody tr th {\n",
       "        vertical-align: top;\n",
       "    }\n",
       "\n",
       "    .dataframe thead th {\n",
       "        text-align: right;\n",
       "    }\n",
       "</style>\n",
       "<table border=\"1\" class=\"dataframe\">\n",
       "  <thead>\n",
       "    <tr style=\"text-align: right;\">\n",
       "      <th></th>\n",
       "      <th>OBJECTID</th>\n",
       "      <th>Capacity</th>\n",
       "      <th>Year</th>\n",
       "      <th>Existing</th>\n",
       "      <th>SHAPE_Leng</th>\n",
       "      <th>Source</th>\n",
       "      <th>geometry</th>\n",
       "      <th>lat</th>\n",
       "      <th>lon</th>\n",
       "    </tr>\n",
       "  </thead>\n",
       "  <tbody>\n",
       "    <tr>\n",
       "      <th>0</th>\n",
       "      <td>1</td>\n",
       "      <td>&lt;100</td>\n",
       "      <td>2030</td>\n",
       "      <td>No</td>\n",
       "      <td>1.227131e+06</td>\n",
       "      <td>NetZero America</td>\n",
       "      <td>LINESTRING (-9.81495 18.21305, -9.79598 18.087...</td>\n",
       "      <td>[-9.81494915677432, -9.795984071034358, -9.770...</td>\n",
       "      <td>[18.213046440668315, 18.087257902397784, 17.91...</td>\n",
       "    </tr>\n",
       "    <tr>\n",
       "      <th>1</th>\n",
       "      <td>2</td>\n",
       "      <td>&lt;100</td>\n",
       "      <td>2020</td>\n",
       "      <td>Yes</td>\n",
       "      <td>3.427897e+05</td>\n",
       "      <td>NetZero America</td>\n",
       "      <td>LINESTRING (4.26223 26.52186, 4.36863 26.37668...</td>\n",
       "      <td>[4.262228361072035, 4.3686287586727675, 4.4027...</td>\n",
       "      <td>[26.521855400275413, 26.376682236758896, 26.28...</td>\n",
       "    </tr>\n",
       "    <tr>\n",
       "      <th>2</th>\n",
       "      <td>3</td>\n",
       "      <td>&lt;100</td>\n",
       "      <td>2020</td>\n",
       "      <td>Yes</td>\n",
       "      <td>1.011551e+06</td>\n",
       "      <td>NetZero America</td>\n",
       "      <td>LINESTRING (4.64582 22.59202, 4.11438 22.53502...</td>\n",
       "      <td>[4.6458194437996125, 4.1143814790158055, 4.123...</td>\n",
       "      <td>[22.592017951197302, 22.53501758414117, 21.970...</td>\n",
       "    </tr>\n",
       "    <tr>\n",
       "      <th>3</th>\n",
       "      <td>4</td>\n",
       "      <td>&lt;100</td>\n",
       "      <td>2020</td>\n",
       "      <td>Yes</td>\n",
       "      <td>2.226939e+05</td>\n",
       "      <td>NetZero America</td>\n",
       "      <td>LINESTRING (8.96178 13.36273, 8.92244 13.24593...</td>\n",
       "      <td>[8.961781147790548, 8.92244448777601, 8.949880...</td>\n",
       "      <td>[13.362725505672078, 13.24592646913259, 11.901...</td>\n",
       "    </tr>\n",
       "    <tr>\n",
       "      <th>4</th>\n",
       "      <td>5</td>\n",
       "      <td>&lt;100</td>\n",
       "      <td>2020</td>\n",
       "      <td>Yes</td>\n",
       "      <td>1.451532e+05</td>\n",
       "      <td>NetZero America</td>\n",
       "      <td>LINESTRING (6.50092 14.10204, 6.53404 13.87219...</td>\n",
       "      <td>[6.500915482400792, 6.534043753520675, 6.74821...</td>\n",
       "      <td>[14.102038190707688, 13.872194352952137, 13.66...</td>\n",
       "    </tr>\n",
       "    <tr>\n",
       "      <th>...</th>\n",
       "      <td>...</td>\n",
       "      <td>...</td>\n",
       "      <td>...</td>\n",
       "      <td>...</td>\n",
       "      <td>...</td>\n",
       "      <td>...</td>\n",
       "      <td>...</td>\n",
       "      <td>...</td>\n",
       "      <td>...</td>\n",
       "    </tr>\n",
       "    <tr>\n",
       "      <th>57</th>\n",
       "      <td>58</td>\n",
       "      <td>&lt;100</td>\n",
       "      <td>2020</td>\n",
       "      <td>Yes</td>\n",
       "      <td>1.712053e+04</td>\n",
       "      <td>NetZero America</td>\n",
       "      <td>LINESTRING (17.16256 8.35085, 17.30845 8.29761)</td>\n",
       "      <td>[17.162564301271978, 17.30844881969663]</td>\n",
       "      <td>[8.350850590951257, 8.297613126192044]</td>\n",
       "    </tr>\n",
       "    <tr>\n",
       "      <th>58</th>\n",
       "      <td>59</td>\n",
       "      <td>&lt;100</td>\n",
       "      <td>2020</td>\n",
       "      <td>Yes</td>\n",
       "      <td>2.114883e+05</td>\n",
       "      <td>NetZero America</td>\n",
       "      <td>LINESTRING (12.78304 7.33054, 12.42509 7.15472...</td>\n",
       "      <td>[12.783043452961675, 12.425089771346695, 12.32...</td>\n",
       "      <td>[7.33053754626218, 7.15471660706388, 7.1425070...</td>\n",
       "    </tr>\n",
       "    <tr>\n",
       "      <th>59</th>\n",
       "      <td>60</td>\n",
       "      <td>&lt;100</td>\n",
       "      <td>2020</td>\n",
       "      <td>Yes</td>\n",
       "      <td>1.371395e+05</td>\n",
       "      <td>NetZero America</td>\n",
       "      <td>LINESTRING (12.09401 6.96646, 11.85648 6.76706...</td>\n",
       "      <td>[12.094005182199396, 11.856476299153124, 11.77...</td>\n",
       "      <td>[6.96646250568082, 6.76705716086396, 6.7025091...</td>\n",
       "    </tr>\n",
       "    <tr>\n",
       "      <th>60</th>\n",
       "      <td>61</td>\n",
       "      <td>&lt;100</td>\n",
       "      <td>2020</td>\n",
       "      <td>Yes</td>\n",
       "      <td>1.074011e+05</td>\n",
       "      <td>NetZero America</td>\n",
       "      <td>LINESTRING (15.26726 8.74975, 15.08936 8.71138...</td>\n",
       "      <td>[15.26726459544348, 15.089364627905733, 14.571...</td>\n",
       "      <td>[8.749752393657229, 8.7113813580261, 8.6630268...</td>\n",
       "    </tr>\n",
       "    <tr>\n",
       "      <th>61</th>\n",
       "      <td>62</td>\n",
       "      <td>&lt;100</td>\n",
       "      <td>2020</td>\n",
       "      <td>Yes</td>\n",
       "      <td>1.132772e+04</td>\n",
       "      <td>NetZero America</td>\n",
       "      <td>LINESTRING (14.96164 7.64681, 14.85928 7.63844)</td>\n",
       "      <td>[14.961643847503247, 14.859281938802807]</td>\n",
       "      <td>[7.646812930138448, 7.638438348432586]</td>\n",
       "    </tr>\n",
       "  </tbody>\n",
       "</table>\n",
       "<p>62 rows × 9 columns</p>\n",
       "</div>"
      ],
      "text/plain": [
       "    OBJECTID Capacity  Year Existing    SHAPE_Leng           Source  \\\n",
       "0          1     <100  2030       No  1.227131e+06  NetZero America   \n",
       "1          2     <100  2020      Yes  3.427897e+05  NetZero America   \n",
       "2          3     <100  2020      Yes  1.011551e+06  NetZero America   \n",
       "3          4     <100  2020      Yes  2.226939e+05  NetZero America   \n",
       "4          5     <100  2020      Yes  1.451532e+05  NetZero America   \n",
       "..       ...      ...   ...      ...           ...              ...   \n",
       "57        58     <100  2020      Yes  1.712053e+04  NetZero America   \n",
       "58        59     <100  2020      Yes  2.114883e+05  NetZero America   \n",
       "59        60     <100  2020      Yes  1.371395e+05  NetZero America   \n",
       "60        61     <100  2020      Yes  1.074011e+05  NetZero America   \n",
       "61        62     <100  2020      Yes  1.132772e+04  NetZero America   \n",
       "\n",
       "                                             geometry  \\\n",
       "0   LINESTRING (-9.81495 18.21305, -9.79598 18.087...   \n",
       "1   LINESTRING (4.26223 26.52186, 4.36863 26.37668...   \n",
       "2   LINESTRING (4.64582 22.59202, 4.11438 22.53502...   \n",
       "3   LINESTRING (8.96178 13.36273, 8.92244 13.24593...   \n",
       "4   LINESTRING (6.50092 14.10204, 6.53404 13.87219...   \n",
       "..                                                ...   \n",
       "57    LINESTRING (17.16256 8.35085, 17.30845 8.29761)   \n",
       "58  LINESTRING (12.78304 7.33054, 12.42509 7.15472...   \n",
       "59  LINESTRING (12.09401 6.96646, 11.85648 6.76706...   \n",
       "60  LINESTRING (15.26726 8.74975, 15.08936 8.71138...   \n",
       "61    LINESTRING (14.96164 7.64681, 14.85928 7.63844)   \n",
       "\n",
       "                                                  lat  \\\n",
       "0   [-9.81494915677432, -9.795984071034358, -9.770...   \n",
       "1   [4.262228361072035, 4.3686287586727675, 4.4027...   \n",
       "2   [4.6458194437996125, 4.1143814790158055, 4.123...   \n",
       "3   [8.961781147790548, 8.92244448777601, 8.949880...   \n",
       "4   [6.500915482400792, 6.534043753520675, 6.74821...   \n",
       "..                                                ...   \n",
       "57            [17.162564301271978, 17.30844881969663]   \n",
       "58  [12.783043452961675, 12.425089771346695, 12.32...   \n",
       "59  [12.094005182199396, 11.856476299153124, 11.77...   \n",
       "60  [15.26726459544348, 15.089364627905733, 14.571...   \n",
       "61           [14.961643847503247, 14.859281938802807]   \n",
       "\n",
       "                                                  lon  \n",
       "0   [18.213046440668315, 18.087257902397784, 17.91...  \n",
       "1   [26.521855400275413, 26.376682236758896, 26.28...  \n",
       "2   [22.592017951197302, 22.53501758414117, 21.970...  \n",
       "3   [13.362725505672078, 13.24592646913259, 11.901...  \n",
       "4   [14.102038190707688, 13.872194352952137, 13.66...  \n",
       "..                                                ...  \n",
       "57             [8.350850590951257, 8.297613126192044]  \n",
       "58  [7.33053754626218, 7.15471660706388, 7.1425070...  \n",
       "59  [6.96646250568082, 6.76705716086396, 6.7025091...  \n",
       "60  [8.749752393657229, 8.7113813580261, 8.6630268...  \n",
       "61             [7.646812930138448, 7.638438348432586]  \n",
       "\n",
       "[62 rows x 9 columns]"
      ]
     },
     "execution_count": 21,
     "metadata": {},
     "output_type": "execute_result"
    }
   ],
   "source": [
    "df"
   ]
  },
  {
   "cell_type": "code",
   "execution_count": 23,
   "metadata": {
    "scrolled": true
   },
   "outputs": [
    {
     "ename": "ValueError",
     "evalue": "\n    Invalid element(s) received for the 'data' property of \n        Invalid elements include: [Figure({\n    'data': [{'geo': 'geo',\n              'hovertemplate': '<extra></extra>',\n              'legendgroup': '',\n              'marker': {'color': '#636efa', 'symbol': 'circle'},\n              'mode': 'markers',\n              'name': '',\n              'showlegend': False,\n              'type': 'scattergeo'}],\n    'layout': {'geo': {'center': {}, 'domain': {'x': [0.0, 1.0], 'y': [0.0, 1.0]}},\n               'legend': {'tracegroupgap': 0},\n               'margin': {'t': 60},\n               'template': '...'}\n})]\n\n    The 'data' property is a tuple of trace instances\n    that may be specified as:\n      - A list or tuple of trace instances\n        (e.g. [Scatter(...), Bar(...)])\n      - A single trace instance\n        (e.g. Scatter(...), Bar(...), etc.)\n      - A list or tuple of dicts of string/value properties where:\n        - The 'type' property specifies the trace type\n            One of: ['bar', 'barpolar', 'box', 'candlestick',\n                     'carpet', 'choropleth', 'choroplethmapbox',\n                     'cone', 'contour', 'contourcarpet',\n                     'densitymapbox', 'funnel', 'funnelarea',\n                     'heatmap', 'heatmapgl', 'histogram',\n                     'histogram2d', 'histogram2dcontour', 'icicle',\n                     'image', 'indicator', 'isosurface', 'mesh3d',\n                     'ohlc', 'parcats', 'parcoords', 'pie',\n                     'pointcloud', 'sankey', 'scatter',\n                     'scatter3d', 'scattercarpet', 'scattergeo',\n                     'scattergl', 'scattermapbox', 'scatterpolar',\n                     'scatterpolargl', 'scattersmith',\n                     'scatterternary', 'splom', 'streamtube',\n                     'sunburst', 'surface', 'table', 'treemap',\n                     'violin', 'volume', 'waterfall']\n\n        - All remaining properties are passed to the constructor of\n          the specified trace type\n\n        (e.g. [{'type': 'scatter', ...}, {'type': 'bar, ...}])",
     "output_type": "error",
     "traceback": [
      "\u001b[1;31m---------------------------------------------------------------------------\u001b[0m",
      "\u001b[1;31mValueError\u001b[0m                                Traceback (most recent call last)",
      "\u001b[1;32m<ipython-input-23-6af5e273f92c>\u001b[0m in \u001b[0;36m<module>\u001b[1;34m\u001b[0m\n\u001b[0;32m      1\u001b[0m \u001b[0mfig\u001b[0m \u001b[1;33m=\u001b[0m \u001b[0mgo\u001b[0m\u001b[1;33m.\u001b[0m\u001b[0mFigure\u001b[0m\u001b[1;33m(\u001b[0m\u001b[0mgo\u001b[0m\u001b[1;33m.\u001b[0m\u001b[0mChoropleth\u001b[0m\u001b[1;33m(\u001b[0m\u001b[1;33m)\u001b[0m\u001b[1;33m)\u001b[0m\u001b[1;33m\u001b[0m\u001b[1;33m\u001b[0m\u001b[0m\n\u001b[0;32m      2\u001b[0m \u001b[0mfig\u001b[0m\u001b[1;33m.\u001b[0m\u001b[0mupdate_geos\u001b[0m\u001b[1;33m(\u001b[0m\u001b[0mscope\u001b[0m\u001b[1;33m=\u001b[0m\u001b[1;34m'usa'\u001b[0m\u001b[1;33m)\u001b[0m\u001b[1;33m\u001b[0m\u001b[1;33m\u001b[0m\u001b[0m\n\u001b[1;32m----> 3\u001b[1;33m \u001b[0mfig\u001b[0m\u001b[1;33m.\u001b[0m\u001b[0madd_trace\u001b[0m\u001b[1;33m(\u001b[0m\u001b[0mpx\u001b[0m\u001b[1;33m.\u001b[0m\u001b[0mscatter_geo\u001b[0m\u001b[1;33m(\u001b[0m\u001b[0mgeo_df\u001b[0m\u001b[1;33m)\u001b[0m\u001b[1;33m)\u001b[0m\u001b[1;33m\u001b[0m\u001b[1;33m\u001b[0m\u001b[0m\n\u001b[0m",
      "\u001b[1;32m~\\Anaconda3\\lib\\site-packages\\plotly\\graph_objs\\_figure.py\u001b[0m in \u001b[0;36madd_trace\u001b[1;34m(self, trace, row, col, secondary_y, exclude_empty_subplots)\u001b[0m\n\u001b[0;32m    898\u001b[0m \u001b[1;33m\u001b[0m\u001b[0m\n\u001b[0;32m    899\u001b[0m         \"\"\"\n\u001b[1;32m--> 900\u001b[1;33m         return super(Figure, self).add_trace(\n\u001b[0m\u001b[0;32m    901\u001b[0m             \u001b[0mtrace\u001b[0m\u001b[1;33m,\u001b[0m \u001b[0mrow\u001b[0m\u001b[1;33m,\u001b[0m \u001b[0mcol\u001b[0m\u001b[1;33m,\u001b[0m \u001b[0msecondary_y\u001b[0m\u001b[1;33m,\u001b[0m \u001b[0mexclude_empty_subplots\u001b[0m\u001b[1;33m\u001b[0m\u001b[1;33m\u001b[0m\u001b[0m\n\u001b[0;32m    902\u001b[0m         )\n",
      "\u001b[1;32m~\\Anaconda3\\lib\\site-packages\\plotly\\basedatatypes.py\u001b[0m in \u001b[0;36madd_trace\u001b[1;34m(self, trace, row, col, secondary_y, exclude_empty_subplots)\u001b[0m\n\u001b[0;32m   2087\u001b[0m             \u001b[1;32mreturn\u001b[0m \u001b[0mself\u001b[0m\u001b[1;33m\u001b[0m\u001b[1;33m\u001b[0m\u001b[0m\n\u001b[0;32m   2088\u001b[0m \u001b[1;33m\u001b[0m\u001b[0m\n\u001b[1;32m-> 2089\u001b[1;33m         return self.add_traces(\n\u001b[0m\u001b[0;32m   2090\u001b[0m             \u001b[0mdata\u001b[0m\u001b[1;33m=\u001b[0m\u001b[1;33m[\u001b[0m\u001b[0mtrace\u001b[0m\u001b[1;33m]\u001b[0m\u001b[1;33m,\u001b[0m\u001b[1;33m\u001b[0m\u001b[1;33m\u001b[0m\u001b[0m\n\u001b[0;32m   2091\u001b[0m             \u001b[0mrows\u001b[0m\u001b[1;33m=\u001b[0m\u001b[1;33m[\u001b[0m\u001b[0mrow\u001b[0m\u001b[1;33m]\u001b[0m \u001b[1;32mif\u001b[0m \u001b[0mrow\u001b[0m \u001b[1;32mis\u001b[0m \u001b[1;32mnot\u001b[0m \u001b[1;32mNone\u001b[0m \u001b[1;32melse\u001b[0m \u001b[1;32mNone\u001b[0m\u001b[1;33m,\u001b[0m\u001b[1;33m\u001b[0m\u001b[1;33m\u001b[0m\u001b[0m\n",
      "\u001b[1;32m~\\Anaconda3\\lib\\site-packages\\plotly\\graph_objs\\_figure.py\u001b[0m in \u001b[0;36madd_traces\u001b[1;34m(self, data, rows, cols, secondary_ys, exclude_empty_subplots)\u001b[0m\n\u001b[0;32m    978\u001b[0m \u001b[1;33m\u001b[0m\u001b[0m\n\u001b[0;32m    979\u001b[0m         \"\"\"\n\u001b[1;32m--> 980\u001b[1;33m         return super(Figure, self).add_traces(\n\u001b[0m\u001b[0;32m    981\u001b[0m             \u001b[0mdata\u001b[0m\u001b[1;33m,\u001b[0m \u001b[0mrows\u001b[0m\u001b[1;33m,\u001b[0m \u001b[0mcols\u001b[0m\u001b[1;33m,\u001b[0m \u001b[0msecondary_ys\u001b[0m\u001b[1;33m,\u001b[0m \u001b[0mexclude_empty_subplots\u001b[0m\u001b[1;33m\u001b[0m\u001b[1;33m\u001b[0m\u001b[0m\n\u001b[0;32m    982\u001b[0m         )\n",
      "\u001b[1;32m~\\Anaconda3\\lib\\site-packages\\plotly\\basedatatypes.py\u001b[0m in \u001b[0;36madd_traces\u001b[1;34m(self, data, rows, cols, secondary_ys, exclude_empty_subplots)\u001b[0m\n\u001b[0;32m   2171\u001b[0m \u001b[1;33m\u001b[0m\u001b[0m\n\u001b[0;32m   2172\u001b[0m         \u001b[1;31m# Validate traces\u001b[0m\u001b[1;33m\u001b[0m\u001b[1;33m\u001b[0m\u001b[1;33m\u001b[0m\u001b[0m\n\u001b[1;32m-> 2173\u001b[1;33m         \u001b[0mdata\u001b[0m \u001b[1;33m=\u001b[0m \u001b[0mself\u001b[0m\u001b[1;33m.\u001b[0m\u001b[0m_data_validator\u001b[0m\u001b[1;33m.\u001b[0m\u001b[0mvalidate_coerce\u001b[0m\u001b[1;33m(\u001b[0m\u001b[0mdata\u001b[0m\u001b[1;33m)\u001b[0m\u001b[1;33m\u001b[0m\u001b[1;33m\u001b[0m\u001b[0m\n\u001b[0m\u001b[0;32m   2174\u001b[0m \u001b[1;33m\u001b[0m\u001b[0m\n\u001b[0;32m   2175\u001b[0m         \u001b[1;31m# Set trace indexes\u001b[0m\u001b[1;33m\u001b[0m\u001b[1;33m\u001b[0m\u001b[1;33m\u001b[0m\u001b[0m\n",
      "\u001b[1;32m~\\Anaconda3\\lib\\site-packages\\_plotly_utils\\basevalidators.py\u001b[0m in \u001b[0;36mvalidate_coerce\u001b[1;34m(self, v, skip_invalid, _validate)\u001b[0m\n\u001b[0;32m   2701\u001b[0m \u001b[1;33m\u001b[0m\u001b[0m\n\u001b[0;32m   2702\u001b[0m             \u001b[1;32mif\u001b[0m \u001b[0minvalid_els\u001b[0m\u001b[1;33m:\u001b[0m\u001b[1;33m\u001b[0m\u001b[1;33m\u001b[0m\u001b[0m\n\u001b[1;32m-> 2703\u001b[1;33m                 \u001b[0mself\u001b[0m\u001b[1;33m.\u001b[0m\u001b[0mraise_invalid_elements\u001b[0m\u001b[1;33m(\u001b[0m\u001b[0minvalid_els\u001b[0m\u001b[1;33m)\u001b[0m\u001b[1;33m\u001b[0m\u001b[1;33m\u001b[0m\u001b[0m\n\u001b[0m\u001b[0;32m   2704\u001b[0m \u001b[1;33m\u001b[0m\u001b[0m\n\u001b[0;32m   2705\u001b[0m             \u001b[0mv\u001b[0m \u001b[1;33m=\u001b[0m \u001b[0mto_scalar_or_list\u001b[0m\u001b[1;33m(\u001b[0m\u001b[0mres\u001b[0m\u001b[1;33m)\u001b[0m\u001b[1;33m\u001b[0m\u001b[1;33m\u001b[0m\u001b[0m\n",
      "\u001b[1;32m~\\Anaconda3\\lib\\site-packages\\_plotly_utils\\basevalidators.py\u001b[0m in \u001b[0;36mraise_invalid_elements\u001b[1;34m(self, invalid_els)\u001b[0m\n\u001b[0;32m    302\u001b[0m     \u001b[1;32mdef\u001b[0m \u001b[0mraise_invalid_elements\u001b[0m\u001b[1;33m(\u001b[0m\u001b[0mself\u001b[0m\u001b[1;33m,\u001b[0m \u001b[0minvalid_els\u001b[0m\u001b[1;33m)\u001b[0m\u001b[1;33m:\u001b[0m\u001b[1;33m\u001b[0m\u001b[1;33m\u001b[0m\u001b[0m\n\u001b[0;32m    303\u001b[0m         \u001b[1;32mif\u001b[0m \u001b[0minvalid_els\u001b[0m\u001b[1;33m:\u001b[0m\u001b[1;33m\u001b[0m\u001b[1;33m\u001b[0m\u001b[0m\n\u001b[1;32m--> 304\u001b[1;33m             raise ValueError(\n\u001b[0m\u001b[0;32m    305\u001b[0m                 \"\"\"\n\u001b[0;32m    306\u001b[0m     \u001b[0mInvalid\u001b[0m \u001b[0melement\u001b[0m\u001b[1;33m(\u001b[0m\u001b[0ms\u001b[0m\u001b[1;33m)\u001b[0m \u001b[0mreceived\u001b[0m \u001b[1;32mfor\u001b[0m \u001b[0mthe\u001b[0m \u001b[1;34m'{name}'\u001b[0m \u001b[0mproperty\u001b[0m \u001b[0mof\u001b[0m \u001b[1;33m{\u001b[0m\u001b[0mpname\u001b[0m\u001b[1;33m}\u001b[0m\u001b[1;33m\u001b[0m\u001b[1;33m\u001b[0m\u001b[0m\n",
      "\u001b[1;31mValueError\u001b[0m: \n    Invalid element(s) received for the 'data' property of \n        Invalid elements include: [Figure({\n    'data': [{'geo': 'geo',\n              'hovertemplate': '<extra></extra>',\n              'legendgroup': '',\n              'marker': {'color': '#636efa', 'symbol': 'circle'},\n              'mode': 'markers',\n              'name': '',\n              'showlegend': False,\n              'type': 'scattergeo'}],\n    'layout': {'geo': {'center': {}, 'domain': {'x': [0.0, 1.0], 'y': [0.0, 1.0]}},\n               'legend': {'tracegroupgap': 0},\n               'margin': {'t': 60},\n               'template': '...'}\n})]\n\n    The 'data' property is a tuple of trace instances\n    that may be specified as:\n      - A list or tuple of trace instances\n        (e.g. [Scatter(...), Bar(...)])\n      - A single trace instance\n        (e.g. Scatter(...), Bar(...), etc.)\n      - A list or tuple of dicts of string/value properties where:\n        - The 'type' property specifies the trace type\n            One of: ['bar', 'barpolar', 'box', 'candlestick',\n                     'carpet', 'choropleth', 'choroplethmapbox',\n                     'cone', 'contour', 'contourcarpet',\n                     'densitymapbox', 'funnel', 'funnelarea',\n                     'heatmap', 'heatmapgl', 'histogram',\n                     'histogram2d', 'histogram2dcontour', 'icicle',\n                     'image', 'indicator', 'isosurface', 'mesh3d',\n                     'ohlc', 'parcats', 'parcoords', 'pie',\n                     'pointcloud', 'sankey', 'scatter',\n                     'scatter3d', 'scattercarpet', 'scattergeo',\n                     'scattergl', 'scattermapbox', 'scatterpolar',\n                     'scatterpolargl', 'scattersmith',\n                     'scatterternary', 'splom', 'streamtube',\n                     'sunburst', 'surface', 'table', 'treemap',\n                     'violin', 'volume', 'waterfall']\n\n        - All remaining properties are passed to the constructor of\n          the specified trace type\n\n        (e.g. [{'type': 'scatter', ...}, {'type': 'bar, ...}])"
     ]
    }
   ],
   "source": [
    "fig = go.Figure(go.Choropleth())\n",
    "fig.update_geos(scope='usa')\n",
    "fig.add_trace())"
   ]
  },
  {
   "cell_type": "code",
   "execution_count": 22,
   "metadata": {},
   "outputs": [
    {
     "ename": "ValueError",
     "evalue": "x attribute access only provided for Point geometries",
     "output_type": "error",
     "traceback": [
      "\u001b[1;31m---------------------------------------------------------------------------\u001b[0m",
      "\u001b[1;31mValueError\u001b[0m                                Traceback (most recent call last)",
      "\u001b[1;32m<ipython-input-22-2027b811a19a>\u001b[0m in \u001b[0;36m<module>\u001b[1;34m\u001b[0m\n\u001b[1;32m----> 1\u001b[1;33m \u001b[0mgeo_df\u001b[0m\u001b[1;33m.\u001b[0m\u001b[0mgeometry\u001b[0m\u001b[1;33m.\u001b[0m\u001b[0mx\u001b[0m\u001b[1;33m\u001b[0m\u001b[1;33m\u001b[0m\u001b[0m\n\u001b[0m",
      "\u001b[1;32m~\\Anaconda3\\lib\\site-packages\\geopandas\\geoseries.py\u001b[0m in \u001b[0;36mx\u001b[1;34m(self)\u001b[0m\n\u001b[0;32m    265\u001b[0m \u001b[1;33m\u001b[0m\u001b[0m\n\u001b[0;32m    266\u001b[0m         \"\"\"\n\u001b[1;32m--> 267\u001b[1;33m         \u001b[1;32mreturn\u001b[0m \u001b[0m_delegate_property\u001b[0m\u001b[1;33m(\u001b[0m\u001b[1;34m\"x\"\u001b[0m\u001b[1;33m,\u001b[0m \u001b[0mself\u001b[0m\u001b[1;33m)\u001b[0m\u001b[1;33m\u001b[0m\u001b[1;33m\u001b[0m\u001b[0m\n\u001b[0m\u001b[0;32m    268\u001b[0m \u001b[1;33m\u001b[0m\u001b[0m\n\u001b[0;32m    269\u001b[0m     \u001b[1;33m@\u001b[0m\u001b[0mproperty\u001b[0m\u001b[1;33m\u001b[0m\u001b[1;33m\u001b[0m\u001b[0m\n",
      "\u001b[1;32m~\\Anaconda3\\lib\\site-packages\\geopandas\\base.py\u001b[0m in \u001b[0;36m_delegate_property\u001b[1;34m(op, this)\u001b[0m\n\u001b[0;32m     64\u001b[0m     \u001b[1;31m# type: (str, GeoSeries) -> GeoSeries/Series\u001b[0m\u001b[1;33m\u001b[0m\u001b[1;33m\u001b[0m\u001b[1;33m\u001b[0m\u001b[0m\n\u001b[0;32m     65\u001b[0m     \u001b[0ma_this\u001b[0m \u001b[1;33m=\u001b[0m \u001b[0mGeometryArray\u001b[0m\u001b[1;33m(\u001b[0m\u001b[0mthis\u001b[0m\u001b[1;33m.\u001b[0m\u001b[0mgeometry\u001b[0m\u001b[1;33m.\u001b[0m\u001b[0mvalues\u001b[0m\u001b[1;33m)\u001b[0m\u001b[1;33m\u001b[0m\u001b[1;33m\u001b[0m\u001b[0m\n\u001b[1;32m---> 66\u001b[1;33m     \u001b[0mdata\u001b[0m \u001b[1;33m=\u001b[0m \u001b[0mgetattr\u001b[0m\u001b[1;33m(\u001b[0m\u001b[0ma_this\u001b[0m\u001b[1;33m,\u001b[0m \u001b[0mop\u001b[0m\u001b[1;33m)\u001b[0m\u001b[1;33m\u001b[0m\u001b[1;33m\u001b[0m\u001b[0m\n\u001b[0m\u001b[0;32m     67\u001b[0m     \u001b[1;32mif\u001b[0m \u001b[0misinstance\u001b[0m\u001b[1;33m(\u001b[0m\u001b[0mdata\u001b[0m\u001b[1;33m,\u001b[0m \u001b[0mGeometryArray\u001b[0m\u001b[1;33m)\u001b[0m\u001b[1;33m:\u001b[0m\u001b[1;33m\u001b[0m\u001b[1;33m\u001b[0m\u001b[0m\n\u001b[0;32m     68\u001b[0m         \u001b[1;32mfrom\u001b[0m \u001b[1;33m.\u001b[0m\u001b[0mgeoseries\u001b[0m \u001b[1;32mimport\u001b[0m \u001b[0mGeoSeries\u001b[0m\u001b[1;33m\u001b[0m\u001b[1;33m\u001b[0m\u001b[0m\n",
      "\u001b[1;32m~\\Anaconda3\\lib\\site-packages\\geopandas\\array.py\u001b[0m in \u001b[0;36mx\u001b[1;34m(self)\u001b[0m\n\u001b[0;32m    919\u001b[0m         \u001b[1;32melse\u001b[0m\u001b[1;33m:\u001b[0m\u001b[1;33m\u001b[0m\u001b[1;33m\u001b[0m\u001b[0m\n\u001b[0;32m    920\u001b[0m             \u001b[0mmessage\u001b[0m \u001b[1;33m=\u001b[0m \u001b[1;34m\"x attribute access only provided for Point geometries\"\u001b[0m\u001b[1;33m\u001b[0m\u001b[1;33m\u001b[0m\u001b[0m\n\u001b[1;32m--> 921\u001b[1;33m             \u001b[1;32mraise\u001b[0m \u001b[0mValueError\u001b[0m\u001b[1;33m(\u001b[0m\u001b[0mmessage\u001b[0m\u001b[1;33m)\u001b[0m\u001b[1;33m\u001b[0m\u001b[1;33m\u001b[0m\u001b[0m\n\u001b[0m\u001b[0;32m    922\u001b[0m \u001b[1;33m\u001b[0m\u001b[0m\n\u001b[0;32m    923\u001b[0m     \u001b[1;33m@\u001b[0m\u001b[0mproperty\u001b[0m\u001b[1;33m\u001b[0m\u001b[1;33m\u001b[0m\u001b[0m\n",
      "\u001b[1;31mValueError\u001b[0m: x attribute access only provided for Point geometries"
     ]
    }
   ],
   "source": [
    "geo_df.geometry.x"
   ]
  },
  {
   "cell_type": "code",
   "execution_count": null,
   "metadata": {},
   "outputs": [],
   "source": []
  }
 ],
 "metadata": {
  "kernelspec": {
   "display_name": "Python 3",
   "language": "python",
   "name": "python3"
  },
  "language_info": {
   "codemirror_mode": {
    "name": "ipython",
    "version": 3
   },
   "file_extension": ".py",
   "mimetype": "text/x-python",
   "name": "python",
   "nbconvert_exporter": "python",
   "pygments_lexer": "ipython3",
   "version": "3.8.5"
  }
 },
 "nbformat": 4,
 "nbformat_minor": 4
}
